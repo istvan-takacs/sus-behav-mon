{
 "cells": [
  {
   "cell_type": "code",
   "execution_count": 1,
   "id": "0589ca68",
   "metadata": {},
   "outputs": [],
   "source": [
    "import sys\n",
    "import datetime\n",
    "sys.path.insert(0, '/home/istvan/Desktop/sus-behav-mon/storing_logs/')\n",
    "import add_logs_to_database\n",
    "import matplotlib.dates as mdates\n",
    "import pandas as pd\n",
    "import matplotlib.pyplot as plt\n",
    "%matplotlib inline\n",
    "import seaborn as sns\n",
    "import numpy as np"
   ]
  },
  {
   "cell_type": "code",
   "execution_count": 2,
   "id": "417689a7",
   "metadata": {},
   "outputs": [],
   "source": [
    "df_main =  pd.DataFrame(add_logs_to_database.get_main_log_collection())\n",
    "df_network = pd.DataFrame(add_logs_to_database.get_network_log_collection())\n",
    "df = pd.concat([df_main, df_network], ignore_index=True)"
   ]
  },
  {
   "cell_type": "code",
   "execution_count": 3,
   "id": "9be4a36c",
   "metadata": {},
   "outputs": [],
   "source": [
    "df.drop([\"_id\", \"index\"], axis=1, inplace = True)"
   ]
  },
  {
   "cell_type": "code",
   "execution_count": 4,
   "id": "017db100",
   "metadata": {},
   "outputs": [],
   "source": [
    "df_copy = df.copy()"
   ]
  },
  {
   "cell_type": "code",
   "execution_count": 5,
   "id": "2c64fed5",
   "metadata": {},
   "outputs": [],
   "source": [
    "df['date'] = [d.date() for d in df['timestamp']]\n",
    "df['time'] = [d.time() for d in df['timestamp']]\n",
    "df[\"ttime\"] = [datetime.datetime.combine(datetime.date.today(), t) for t in df[\"time\"]]"
   ]
  },
  {
   "cell_type": "code",
   "execution_count": 6,
   "id": "f1940083",
   "metadata": {},
   "outputs": [
    {
     "data": {
      "text/plain": [
       "hostname                  appname             \n",
       "istvan-HP-ProBook-650-G1  NetworkManager          2665\n",
       "                          avahi-daemon            1436\n",
       "                          kernel                  1133\n",
       "                          systemd                  932\n",
       "                          rtkit-daemon             327\n",
       "                                                  ... \n",
       "                          gnome-keyring-daemon       1\n",
       "                          geoclue                    1\n",
       "                          cracklib                   1\n",
       "                          accounts-daemon            1\n",
       "raspberrypi               systemd-timesyncd          1\n",
       "Name: count, Length: 86, dtype: int64"
      ]
     },
     "execution_count": 6,
     "metadata": {},
     "output_type": "execute_result"
    }
   ],
   "source": [
    "df[[\"hostname\", \"appname\"]].value_counts()\n"
   ]
  },
  {
   "cell_type": "code",
   "execution_count": 29,
   "id": "1cf229dd",
   "metadata": {},
   "outputs": [],
   "source": [
    "df['Counts'] = df.groupby([\"hostname\", \"appname\"])['time'].transform('count')"
   ]
  },
  {
   "cell_type": "code",
   "execution_count": 37,
   "id": "6aba2243",
   "metadata": {
    "scrolled": true
   },
   "outputs": [
    {
     "data": {
      "text/html": [
       "<div>\n",
       "<style scoped>\n",
       "    .dataframe tbody tr th:only-of-type {\n",
       "        vertical-align: middle;\n",
       "    }\n",
       "\n",
       "    .dataframe tbody tr th {\n",
       "        vertical-align: top;\n",
       "    }\n",
       "\n",
       "    .dataframe thead th {\n",
       "        text-align: right;\n",
       "    }\n",
       "</style>\n",
       "<table border=\"1\" class=\"dataframe\">\n",
       "  <thead>\n",
       "    <tr style=\"text-align: right;\">\n",
       "      <th></th>\n",
       "      <th>timestamp</th>\n",
       "      <th>hostname</th>\n",
       "      <th>appname</th>\n",
       "      <th>pid</th>\n",
       "      <th>message</th>\n",
       "      <th>date</th>\n",
       "      <th>time</th>\n",
       "      <th>ttime</th>\n",
       "      <th>Counts</th>\n",
       "    </tr>\n",
       "  </thead>\n",
       "  <tbody>\n",
       "    <tr>\n",
       "      <th>0</th>\n",
       "      <td>2023-07-16 12:08:58</td>\n",
       "      <td>istvan-HP-ProBook-650-G1</td>\n",
       "      <td>systemd</td>\n",
       "      <td>1</td>\n",
       "      <td>rsyslog.service: Sent signal SIGHUP to main pr...</td>\n",
       "      <td>2023-07-16</td>\n",
       "      <td>12:08:58</td>\n",
       "      <td>2023-07-19 12:08:58</td>\n",
       "      <td>623</td>\n",
       "    </tr>\n",
       "    <tr>\n",
       "      <th>1</th>\n",
       "      <td>2023-07-16 12:08:58</td>\n",
       "      <td>istvan-HP-ProBook-650-G1</td>\n",
       "      <td>systemd</td>\n",
       "      <td>1</td>\n",
       "      <td>logrotate.service: Deactivated successfully.</td>\n",
       "      <td>2023-07-16</td>\n",
       "      <td>12:08:58</td>\n",
       "      <td>2023-07-19 12:08:58</td>\n",
       "      <td>623</td>\n",
       "    </tr>\n",
       "    <tr>\n",
       "      <th>2</th>\n",
       "      <td>2023-07-16 12:08:58</td>\n",
       "      <td>istvan-HP-ProBook-650-G1</td>\n",
       "      <td>systemd</td>\n",
       "      <td>1</td>\n",
       "      <td>Finished Rotate log files.</td>\n",
       "      <td>2023-07-16</td>\n",
       "      <td>12:08:58</td>\n",
       "      <td>2023-07-19 12:08:58</td>\n",
       "      <td>623</td>\n",
       "    </tr>\n",
       "    <tr>\n",
       "      <th>3</th>\n",
       "      <td>2023-07-16 12:08:58</td>\n",
       "      <td>istvan-HP-ProBook-650-G1</td>\n",
       "      <td>systemd</td>\n",
       "      <td>1</td>\n",
       "      <td>Started Samba Winbind Daemon.</td>\n",
       "      <td>2023-07-16</td>\n",
       "      <td>12:08:58</td>\n",
       "      <td>2023-07-19 12:08:58</td>\n",
       "      <td>623</td>\n",
       "    </tr>\n",
       "    <tr>\n",
       "      <th>4</th>\n",
       "      <td>2023-07-16 12:08:58</td>\n",
       "      <td>istvan-HP-ProBook-650-G1</td>\n",
       "      <td>wpa_supplicant</td>\n",
       "      <td>888</td>\n",
       "      <td>dbus: fill_dict_with_properties dbus_interface...</td>\n",
       "      <td>2023-07-16</td>\n",
       "      <td>12:08:58</td>\n",
       "      <td>2023-07-19 12:08:58</td>\n",
       "      <td>54</td>\n",
       "    </tr>\n",
       "  </tbody>\n",
       "</table>\n",
       "</div>"
      ],
      "text/plain": [
       "            timestamp                  hostname         appname  pid  \\\n",
       "0 2023-07-16 12:08:58  istvan-HP-ProBook-650-G1         systemd    1   \n",
       "1 2023-07-16 12:08:58  istvan-HP-ProBook-650-G1         systemd    1   \n",
       "2 2023-07-16 12:08:58  istvan-HP-ProBook-650-G1         systemd    1   \n",
       "3 2023-07-16 12:08:58  istvan-HP-ProBook-650-G1         systemd    1   \n",
       "4 2023-07-16 12:08:58  istvan-HP-ProBook-650-G1  wpa_supplicant  888   \n",
       "\n",
       "                                             message        date      time  \\\n",
       "0  rsyslog.service: Sent signal SIGHUP to main pr...  2023-07-16  12:08:58   \n",
       "1       logrotate.service: Deactivated successfully.  2023-07-16  12:08:58   \n",
       "2                         Finished Rotate log files.  2023-07-16  12:08:58   \n",
       "3                      Started Samba Winbind Daemon.  2023-07-16  12:08:58   \n",
       "4  dbus: fill_dict_with_properties dbus_interface...  2023-07-16  12:08:58   \n",
       "\n",
       "                ttime  Counts  \n",
       "0 2023-07-19 12:08:58     623  \n",
       "1 2023-07-19 12:08:58     623  \n",
       "2 2023-07-19 12:08:58     623  \n",
       "3 2023-07-19 12:08:58     623  \n",
       "4 2023-07-19 12:08:58      54  "
      ]
     },
     "execution_count": 37,
     "metadata": {},
     "output_type": "execute_result"
    }
   ],
   "source": [
    "df.head()"
   ]
  },
  {
   "cell_type": "code",
   "execution_count": 41,
   "id": "e9568dfe",
   "metadata": {},
   "outputs": [
    {
     "data": {
      "text/plain": [
       "0       2023-07-19\n",
       "1       2023-07-19\n",
       "2       2023-07-19\n",
       "3       2023-07-19\n",
       "4       2023-07-19\n",
       "           ...    \n",
       "1736    2023-07-19\n",
       "1737    2023-07-19\n",
       "1738    2023-07-19\n",
       "1739    2023-07-19\n",
       "1740    2023-07-19\n",
       "Name: ttime, Length: 1741, dtype: object"
      ]
     },
     "execution_count": 41,
     "metadata": {},
     "output_type": "execute_result"
    }
   ],
   "source": [
    "df.ttime.apply(lambda x: x.date())"
   ]
  },
  {
   "cell_type": "code",
   "execution_count": null,
   "id": "be8acc0b",
   "metadata": {},
   "outputs": [],
   "source": [
    "# 1. Subset the data for desired time frame (8 - 12)\n",
    "# 2. Do groupby\n"
   ]
  },
  {
   "cell_type": "code",
   "execution_count": 40,
   "id": "085892a2",
   "metadata": {},
   "outputs": [
    {
     "data": {
      "text/html": [
       "<div>\n",
       "<style scoped>\n",
       "    .dataframe tbody tr th:only-of-type {\n",
       "        vertical-align: middle;\n",
       "    }\n",
       "\n",
       "    .dataframe tbody tr th {\n",
       "        vertical-align: top;\n",
       "    }\n",
       "\n",
       "    .dataframe thead th {\n",
       "        text-align: right;\n",
       "    }\n",
       "</style>\n",
       "<table border=\"1\" class=\"dataframe\">\n",
       "  <thead>\n",
       "    <tr style=\"text-align: right;\">\n",
       "      <th></th>\n",
       "      <th>timestamp</th>\n",
       "      <th>hostname</th>\n",
       "      <th>appname</th>\n",
       "      <th>pid</th>\n",
       "      <th>message</th>\n",
       "      <th>date</th>\n",
       "      <th>time</th>\n",
       "      <th>ttime</th>\n",
       "    </tr>\n",
       "  </thead>\n",
       "  <tbody>\n",
       "    <tr>\n",
       "      <th>0</th>\n",
       "      <td>2023-07-30 00:00:03</td>\n",
       "      <td>istvan-HP-ProBook-650-G1</td>\n",
       "      <td>systemd</td>\n",
       "      <td>1</td>\n",
       "      <td>logrotate.service: Deactivated successfully.</td>\n",
       "      <td>2023-07-30</td>\n",
       "      <td>00:00:03</td>\n",
       "      <td>2023-07-30 00:00:03</td>\n",
       "    </tr>\n",
       "    <tr>\n",
       "      <th>1</th>\n",
       "      <td>2023-07-30 00:00:03</td>\n",
       "      <td>istvan-HP-ProBook-650-G1</td>\n",
       "      <td>systemd</td>\n",
       "      <td>1</td>\n",
       "      <td>Finished Rotate log files.</td>\n",
       "      <td>2023-07-30</td>\n",
       "      <td>00:00:03</td>\n",
       "      <td>2023-07-30 00:00:03</td>\n",
       "    </tr>\n",
       "    <tr>\n",
       "      <th>84</th>\n",
       "      <td>2023-07-30 00:09:14</td>\n",
       "      <td>istvan-HP-ProBook-650-G1</td>\n",
       "      <td>systemd</td>\n",
       "      <td>1</td>\n",
       "      <td>Starting Fingerprint Authentication Daemon...</td>\n",
       "      <td>2023-07-30</td>\n",
       "      <td>00:09:14</td>\n",
       "      <td>2023-07-30 00:09:14</td>\n",
       "    </tr>\n",
       "    <tr>\n",
       "      <th>86</th>\n",
       "      <td>2023-07-30 00:09:14</td>\n",
       "      <td>istvan-HP-ProBook-650-G1</td>\n",
       "      <td>systemd</td>\n",
       "      <td>1</td>\n",
       "      <td>Started Fingerprint Authentication Daemon.</td>\n",
       "      <td>2023-07-30</td>\n",
       "      <td>00:09:14</td>\n",
       "      <td>2023-07-30 00:09:14</td>\n",
       "    </tr>\n",
       "    <tr>\n",
       "      <th>107</th>\n",
       "      <td>2023-07-30 00:09:28</td>\n",
       "      <td>istvan-HP-ProBook-650-G1</td>\n",
       "      <td>systemd</td>\n",
       "      <td>1659</td>\n",
       "      <td>app-gnome-google\\x2dchrome-3375.scope: Consume...</td>\n",
       "      <td>2023-07-30</td>\n",
       "      <td>00:09:28</td>\n",
       "      <td>2023-07-30 00:09:28</td>\n",
       "    </tr>\n",
       "    <tr>\n",
       "      <th>...</th>\n",
       "      <td>...</td>\n",
       "      <td>...</td>\n",
       "      <td>...</td>\n",
       "      <td>...</td>\n",
       "      <td>...</td>\n",
       "      <td>...</td>\n",
       "      <td>...</td>\n",
       "      <td>...</td>\n",
       "    </tr>\n",
       "    <tr>\n",
       "      <th>6787</th>\n",
       "      <td>2023-07-30 18:24:05</td>\n",
       "      <td>istvan-HP-ProBook-650-G1</td>\n",
       "      <td>systemd</td>\n",
       "      <td>1</td>\n",
       "      <td>Started MongoDB Database Server.</td>\n",
       "      <td>2023-07-30</td>\n",
       "      <td>18:24:05</td>\n",
       "      <td>2023-07-30 18:24:05</td>\n",
       "    </tr>\n",
       "    <tr>\n",
       "      <th>6866</th>\n",
       "      <td>2023-07-30 18:30:33</td>\n",
       "      <td>istvan-HP-ProBook-650-G1</td>\n",
       "      <td>systemd</td>\n",
       "      <td>1</td>\n",
       "      <td>Started Run anacron jobs.</td>\n",
       "      <td>2023-07-30</td>\n",
       "      <td>18:30:33</td>\n",
       "      <td>2023-07-30 18:30:33</td>\n",
       "    </tr>\n",
       "    <tr>\n",
       "      <th>6869</th>\n",
       "      <td>2023-07-30 18:30:33</td>\n",
       "      <td>istvan-HP-ProBook-650-G1</td>\n",
       "      <td>systemd</td>\n",
       "      <td>1</td>\n",
       "      <td>anacron.service: Deactivated successfully.</td>\n",
       "      <td>2023-07-30</td>\n",
       "      <td>18:30:33</td>\n",
       "      <td>2023-07-30 18:30:33</td>\n",
       "    </tr>\n",
       "    <tr>\n",
       "      <th>7486</th>\n",
       "      <td>2023-07-30 19:33:33</td>\n",
       "      <td>istvan-HP-ProBook-650-G1</td>\n",
       "      <td>systemd</td>\n",
       "      <td>1</td>\n",
       "      <td>Started Run anacron jobs.</td>\n",
       "      <td>2023-07-30</td>\n",
       "      <td>19:33:33</td>\n",
       "      <td>2023-07-30 19:33:33</td>\n",
       "    </tr>\n",
       "    <tr>\n",
       "      <th>7489</th>\n",
       "      <td>2023-07-30 19:33:33</td>\n",
       "      <td>istvan-HP-ProBook-650-G1</td>\n",
       "      <td>systemd</td>\n",
       "      <td>1</td>\n",
       "      <td>anacron.service: Deactivated successfully.</td>\n",
       "      <td>2023-07-30</td>\n",
       "      <td>19:33:33</td>\n",
       "      <td>2023-07-30 19:33:33</td>\n",
       "    </tr>\n",
       "  </tbody>\n",
       "</table>\n",
       "<p>932 rows × 8 columns</p>\n",
       "</div>"
      ],
      "text/plain": [
       "               timestamp                  hostname  appname   pid  \\\n",
       "0    2023-07-30 00:00:03  istvan-HP-ProBook-650-G1  systemd     1   \n",
       "1    2023-07-30 00:00:03  istvan-HP-ProBook-650-G1  systemd     1   \n",
       "84   2023-07-30 00:09:14  istvan-HP-ProBook-650-G1  systemd     1   \n",
       "86   2023-07-30 00:09:14  istvan-HP-ProBook-650-G1  systemd     1   \n",
       "107  2023-07-30 00:09:28  istvan-HP-ProBook-650-G1  systemd  1659   \n",
       "...                  ...                       ...      ...   ...   \n",
       "6787 2023-07-30 18:24:05  istvan-HP-ProBook-650-G1  systemd     1   \n",
       "6866 2023-07-30 18:30:33  istvan-HP-ProBook-650-G1  systemd     1   \n",
       "6869 2023-07-30 18:30:33  istvan-HP-ProBook-650-G1  systemd     1   \n",
       "7486 2023-07-30 19:33:33  istvan-HP-ProBook-650-G1  systemd     1   \n",
       "7489 2023-07-30 19:33:33  istvan-HP-ProBook-650-G1  systemd     1   \n",
       "\n",
       "                                                message        date      time  \\\n",
       "0          logrotate.service: Deactivated successfully.  2023-07-30  00:00:03   \n",
       "1                            Finished Rotate log files.  2023-07-30  00:00:03   \n",
       "84        Starting Fingerprint Authentication Daemon...  2023-07-30  00:09:14   \n",
       "86           Started Fingerprint Authentication Daemon.  2023-07-30  00:09:14   \n",
       "107   app-gnome-google\\x2dchrome-3375.scope: Consume...  2023-07-30  00:09:28   \n",
       "...                                                 ...         ...       ...   \n",
       "6787                   Started MongoDB Database Server.  2023-07-30  18:24:05   \n",
       "6866                          Started Run anacron jobs.  2023-07-30  18:30:33   \n",
       "6869         anacron.service: Deactivated successfully.  2023-07-30  18:30:33   \n",
       "7486                          Started Run anacron jobs.  2023-07-30  19:33:33   \n",
       "7489         anacron.service: Deactivated successfully.  2023-07-30  19:33:33   \n",
       "\n",
       "                   ttime  \n",
       "0    2023-07-30 00:00:03  \n",
       "1    2023-07-30 00:00:03  \n",
       "84   2023-07-30 00:09:14  \n",
       "86   2023-07-30 00:09:14  \n",
       "107  2023-07-30 00:09:28  \n",
       "...                  ...  \n",
       "6787 2023-07-30 18:24:05  \n",
       "6866 2023-07-30 18:30:33  \n",
       "6869 2023-07-30 18:30:33  \n",
       "7486 2023-07-30 19:33:33  \n",
       "7489 2023-07-30 19:33:33  \n",
       "\n",
       "[932 rows x 8 columns]"
      ]
     },
     "execution_count": 40,
     "metadata": {},
     "output_type": "execute_result"
    }
   ],
   "source": [
    "df[(df.hostname == \"istvan-HP-ProBook-650-G1\") & (df.appname == \"systemd\")]"
   ]
  },
  {
   "cell_type": "code",
   "execution_count": 52,
   "id": "d52eb5e8",
   "metadata": {},
   "outputs": [
    {
     "name": "stdout",
     "output_type": "stream",
     "text": [
      "['istvan-HP-ProBook-650-G1' 'raspberrypi']\n",
      "['systemd' 'update-notifier' 'rtkit-daemon' 'NetworkManager'\n",
      " 'avahi-daemon' 'dbus-daemon' 'gnome-shell'\n",
      " 'ubuntu-appindicators@ubuntu.com' 'nautilus' 'kernel' 'bluetoothd'\n",
      " 'ModemManager' 'systemd-modules-load' 'systemd-udevd' 'mtp-probe'\n",
      " 'systemd-fsck' 'apparmor.systemd' 'systemd-resolved' 'snapd-apparmor'\n",
      " 'anacron' 'cron' 'apport' 'udisksd' 'rsyslogd' 'wpa_supplicant'\n",
      " 'thermald' 'polkitd' 'accounts-daemon' 'networkd-dispatcher' 'acpid'\n",
      " 'snapd' 'gnome-session' 'gnome-session-binary' 'tracker-miner-f'\n",
      " 'snapd-desktop-integration.snapd-desktop-integration' 'goa-daemon'\n",
      " '/usr/libexec/gdm-wayland-session' 'org.gnome.Shell.desktop' 'PackageKit'\n",
      " 'gsd-sharing' 'spice-vdagent' 'xbrlapi.desktop' 'gsd-media-keys'\n",
      " 'systemd-timesyncd' 'whoopsie' 'geoclue' 'cracklib' 'CRON' 'pulseaudio'\n",
      " 'gnome-keyring-daemon' 'sh' 'gnome-keyring-ssh.desktop'\n",
      " 'gnome-keyring-secrets.desktop' 'gnome-keyring-pkcs11.desktop'\n",
      " 'snapd-desktop-i' 'at-spi-dbus-bus.desktop' 'at-spi2-registr' 'gsd-sound'\n",
      " 'gsd-color' 'fwupd' 'snap-store' 'xdg-document-po' 'tracker-miner-fs-3'\n",
      " 'packagekitd' 'google-chrome.desktop' 'fwupdmgr' 'windscribe.desktop'\n",
      " 'update-systemd-resolved' 'obexd' 'gnome-control-c' 'org.gnome.Nautilus'\n",
      " 'vsce-sign' 'mongod' 'sudo' 'istvan' 'sshd' 'polkitd(authority=local)'\n",
      " 'lightdm' 'dhcpcd' 'systemd-logind']\n"
     ]
    }
   ],
   "source": [
    "hostnames = df[\"hostname\"].unique()\n",
    "print(hostnames)\n",
    "appnames = df[\"appname\"].unique()\n",
    "print(appnames)"
   ]
  },
  {
   "cell_type": "code",
   "execution_count": 105,
   "id": "73bb0436",
   "metadata": {},
   "outputs": [
    {
     "name": "stdout",
     "output_type": "stream",
     "text": [
      "{12: 0.4613733905579399, 13: 0.315450643776824, 0: 0.11695278969957082, 17: 0.06437768240343347, 18: 0.019313304721030045, 15: 0.009656652360515022, 14: 0.008583690987124463, 16: 0.002145922746781116, 19: 0.002145922746781116, 1: 0, 2: 0, 3: 0, 4: 0, 5: 0, 6: 0, 7: 0, 8: 0, 9: 0, 10: 0, 11: 0, 20: 0, 21: 0, 22: 0, 23: 0, 24: 0, 'morning': 0.11695278969957082, 'beforenoon': 0, 'afternoon': 0.861587982832618, 'evening': 0.021459227467811162}\n"
     ]
    }
   ],
   "source": [
    "## COOOOOOLIO\n",
    "def hist_maker(host, app):\n",
    "    \n",
    "    my_df = df[(df.hostname == host) & (df.appname == app)]\n",
    "    total_sum = my_df[\"time\"].apply(lambda x: x.hour).value_counts().sum()\n",
    "\n",
    "    normalised = (my_df[\"time\"].apply(lambda x: x.hour).value_counts()/total_sum)\n",
    "\n",
    "    normal_dict = normalised.to_dict()\n",
    "\n",
    "    for i in range(0, 25):\n",
    "        if i not in normal_dict:\n",
    "            normal_dict[i] = 0\n",
    "    \"\"\"\n",
    "    (all incl.)\n",
    "    \n",
    "    Morning: 0-5 \n",
    "    Beforenoon: 6-11\n",
    "    Afternooon: 12-17\n",
    "    Evening: 17-23\n",
    "    \"\"\"\n",
    "    \n",
    "    normal_dict[\"morning\"] = sum([normal_dict.get(i) for i in normal_dict if type(i) is int and i < 6])\n",
    "    normal_dict[\"beforenoon\"] = sum([normal_dict.get(i) for i in normal_dict if type(i) is int and i < 12 and i >= 6])\n",
    "    normal_dict[\"afternoon\"] = sum([normal_dict.get(i) for i in normal_dict if type(i) is int and i < 18 and i >= 12])\n",
    "    normal_dict[\"evening\"] = sum([normal_dict.get(i) for i in normal_dict if type(i) is int and i < 24 and i >= 18])\n",
    "    \n",
    "    return normal_dict\n",
    "    \n",
    "\n",
    "print(hist_maker(\"istvan-HP-ProBook-650-G1\", \"systemd\"))"
   ]
  },
  {
   "cell_type": "code",
   "execution_count": 106,
   "id": "1b50256c",
   "metadata": {},
   "outputs": [
    {
     "data": {
      "text/plain": [
       "{18: 0.15609756097560976,\n",
       " 12: 0.14709193245778612,\n",
       " 17: 0.1324577861163227,\n",
       " 14: 0.12082551594746717,\n",
       " 16: 0.1200750469043152,\n",
       " 13: 0.10544090056285178,\n",
       " 15: 0.1050656660412758,\n",
       " 19: 0.0975609756097561,\n",
       " 0: 0.015384615384615385,\n",
       " 1: 0,\n",
       " 2: 0,\n",
       " 3: 0,\n",
       " 4: 0,\n",
       " 5: 0,\n",
       " 6: 0,\n",
       " 7: 0,\n",
       " 8: 0,\n",
       " 9: 0,\n",
       " 10: 0,\n",
       " 11: 0,\n",
       " 20: 0,\n",
       " 21: 0,\n",
       " 22: 0,\n",
       " 23: 0,\n",
       " 24: 0,\n",
       " 'morning': 0.015384615384615385,\n",
       " 'beforenoon': 0,\n",
       " 'afternoon': 0.7309568480300187,\n",
       " 'evening': 0.25365853658536586}"
      ]
     },
     "execution_count": 106,
     "metadata": {},
     "output_type": "execute_result"
    }
   ],
   "source": [
    "d = {}\n",
    "for host in hostnames:\n",
    "    for app in appnames:\n",
    "        d[(host, app)] = hist_maker(host, app)\n",
    "d['istvan-HP-ProBook-650-G1', 'NetworkManager']"
   ]
  },
  {
   "cell_type": "code",
   "execution_count": 77,
   "id": "77ca9dd9",
   "metadata": {},
   "outputs": [
    {
     "data": {
      "text/html": [
       "<div>\n",
       "<style scoped>\n",
       "    .dataframe tbody tr th:only-of-type {\n",
       "        vertical-align: middle;\n",
       "    }\n",
       "\n",
       "    .dataframe tbody tr th {\n",
       "        vertical-align: top;\n",
       "    }\n",
       "\n",
       "    .dataframe thead th {\n",
       "        text-align: right;\n",
       "    }\n",
       "</style>\n",
       "<table border=\"1\" class=\"dataframe\">\n",
       "  <thead>\n",
       "    <tr style=\"text-align: right;\">\n",
       "      <th></th>\n",
       "      <th>Hostname</th>\n",
       "      <th>Appname</th>\n",
       "      <th>Times</th>\n",
       "    </tr>\n",
       "  </thead>\n",
       "  <tbody>\n",
       "    <tr>\n",
       "      <th>0</th>\n",
       "      <td>istvan-HP-ProBook-650-G1</td>\n",
       "      <td>systemd</td>\n",
       "      <td>{12: 0.4613733905579399, 13: 0.315450643776824...</td>\n",
       "    </tr>\n",
       "    <tr>\n",
       "      <th>1</th>\n",
       "      <td>istvan-HP-ProBook-650-G1</td>\n",
       "      <td>update-notifier</td>\n",
       "      <td>{0: 0.5, 14: 0.5, 1: 0, 2: 0, 3: 0, 4: 0, 5: 0...</td>\n",
       "    </tr>\n",
       "    <tr>\n",
       "      <th>2</th>\n",
       "      <td>istvan-HP-ProBook-650-G1</td>\n",
       "      <td>rtkit-daemon</td>\n",
       "      <td>{16: 0.29357798165137616, 15: 0.25688073394495...</td>\n",
       "    </tr>\n",
       "    <tr>\n",
       "      <th>3</th>\n",
       "      <td>istvan-HP-ProBook-650-G1</td>\n",
       "      <td>NetworkManager</td>\n",
       "      <td>{18: 0.15609756097560976, 12: 0.14709193245778...</td>\n",
       "    </tr>\n",
       "    <tr>\n",
       "      <th>4</th>\n",
       "      <td>istvan-HP-ProBook-650-G1</td>\n",
       "      <td>avahi-daemon</td>\n",
       "      <td>{12: 0.14763231197771587, 14: 0.13370473537604...</td>\n",
       "    </tr>\n",
       "    <tr>\n",
       "      <th>...</th>\n",
       "      <td>...</td>\n",
       "      <td>...</td>\n",
       "      <td>...</td>\n",
       "    </tr>\n",
       "    <tr>\n",
       "      <th>155</th>\n",
       "      <td>raspberrypi</td>\n",
       "      <td>sshd</td>\n",
       "      <td>{13: 0.5, 12: 0.5, 0: 0, 1: 0, 2: 0, 3: 0, 4: ...</td>\n",
       "    </tr>\n",
       "    <tr>\n",
       "      <th>156</th>\n",
       "      <td>raspberrypi</td>\n",
       "      <td>polkitd(authority=local)</td>\n",
       "      <td>{13: 1.0, 0: 0, 1: 0, 2: 0, 3: 0, 4: 0, 5: 0, ...</td>\n",
       "    </tr>\n",
       "    <tr>\n",
       "      <th>157</th>\n",
       "      <td>raspberrypi</td>\n",
       "      <td>lightdm</td>\n",
       "      <td>{13: 1.0, 0: 0, 1: 0, 2: 0, 3: 0, 4: 0, 5: 0, ...</td>\n",
       "    </tr>\n",
       "    <tr>\n",
       "      <th>158</th>\n",
       "      <td>raspberrypi</td>\n",
       "      <td>dhcpcd</td>\n",
       "      <td>{13: 1.0, 0: 0, 1: 0, 2: 0, 3: 0, 4: 0, 5: 0, ...</td>\n",
       "    </tr>\n",
       "    <tr>\n",
       "      <th>159</th>\n",
       "      <td>raspberrypi</td>\n",
       "      <td>systemd-logind</td>\n",
       "      <td>{12: 1.0, 0: 0, 1: 0, 2: 0, 3: 0, 4: 0, 5: 0, ...</td>\n",
       "    </tr>\n",
       "  </tbody>\n",
       "</table>\n",
       "<p>160 rows × 3 columns</p>\n",
       "</div>"
      ],
      "text/plain": [
       "                     Hostname                   Appname  \\\n",
       "0    istvan-HP-ProBook-650-G1                   systemd   \n",
       "1    istvan-HP-ProBook-650-G1           update-notifier   \n",
       "2    istvan-HP-ProBook-650-G1              rtkit-daemon   \n",
       "3    istvan-HP-ProBook-650-G1            NetworkManager   \n",
       "4    istvan-HP-ProBook-650-G1              avahi-daemon   \n",
       "..                        ...                       ...   \n",
       "155               raspberrypi                      sshd   \n",
       "156               raspberrypi  polkitd(authority=local)   \n",
       "157               raspberrypi                   lightdm   \n",
       "158               raspberrypi                    dhcpcd   \n",
       "159               raspberrypi            systemd-logind   \n",
       "\n",
       "                                                 Times  \n",
       "0    {12: 0.4613733905579399, 13: 0.315450643776824...  \n",
       "1    {0: 0.5, 14: 0.5, 1: 0, 2: 0, 3: 0, 4: 0, 5: 0...  \n",
       "2    {16: 0.29357798165137616, 15: 0.25688073394495...  \n",
       "3    {18: 0.15609756097560976, 12: 0.14709193245778...  \n",
       "4    {12: 0.14763231197771587, 14: 0.13370473537604...  \n",
       "..                                                 ...  \n",
       "155  {13: 0.5, 12: 0.5, 0: 0, 1: 0, 2: 0, 3: 0, 4: ...  \n",
       "156  {13: 1.0, 0: 0, 1: 0, 2: 0, 3: 0, 4: 0, 5: 0, ...  \n",
       "157  {13: 1.0, 0: 0, 1: 0, 2: 0, 3: 0, 4: 0, 5: 0, ...  \n",
       "158  {13: 1.0, 0: 0, 1: 0, 2: 0, 3: 0, 4: 0, 5: 0, ...  \n",
       "159  {12: 1.0, 0: 0, 1: 0, 2: 0, 3: 0, 4: 0, 5: 0, ...  \n",
       "\n",
       "[160 rows x 3 columns]"
      ]
     },
     "execution_count": 77,
     "metadata": {},
     "output_type": "execute_result"
    }
   ],
   "source": [
    "pd.Series(d).rename_axis([\"Hostname\", \"Appname\"]).reset_index(name=\"Times\")"
   ]
  },
  {
   "cell_type": "code",
   "execution_count": 59,
   "id": "91fa6115",
   "metadata": {},
   "outputs": [
    {
     "ename": "TypeError",
     "evalue": "Cannot perform 'rand_' with a dtyped [object] array and scalar of type [bool]",
     "output_type": "error",
     "traceback": [
      "\u001b[0;31m---------------------------------------------------------------------------\u001b[0m",
      "\u001b[0;31mTypeError\u001b[0m                                 Traceback (most recent call last)",
      "File \u001b[0;32m~/.local/lib/python3.10/site-packages/pandas/core/ops/array_ops.py:311\u001b[0m, in \u001b[0;36mna_logical_op\u001b[0;34m(x, y, op)\u001b[0m\n\u001b[1;32m    302\u001b[0m \u001b[38;5;28;01mtry\u001b[39;00m:\n\u001b[1;32m    303\u001b[0m     \u001b[38;5;66;03m# For exposition, write:\u001b[39;00m\n\u001b[1;32m    304\u001b[0m     \u001b[38;5;66;03m#  yarr = isinstance(y, np.ndarray)\u001b[39;00m\n\u001b[0;32m   (...)\u001b[0m\n\u001b[1;32m    309\u001b[0m     \u001b[38;5;66;03m# Then Cases where this goes through without raising include:\u001b[39;00m\n\u001b[1;32m    310\u001b[0m     \u001b[38;5;66;03m#  (xint or xbool) and (yint or bool)\u001b[39;00m\n\u001b[0;32m--> 311\u001b[0m     result \u001b[38;5;241m=\u001b[39m \u001b[43mop\u001b[49m\u001b[43m(\u001b[49m\u001b[43mx\u001b[49m\u001b[43m,\u001b[49m\u001b[43m \u001b[49m\u001b[43my\u001b[49m\u001b[43m)\u001b[49m\n\u001b[1;32m    312\u001b[0m \u001b[38;5;28;01mexcept\u001b[39;00m \u001b[38;5;167;01mTypeError\u001b[39;00m:\n",
      "File \u001b[0;32m~/.local/lib/python3.10/site-packages/pandas/core/roperator.py:54\u001b[0m, in \u001b[0;36mrand_\u001b[0;34m(left, right)\u001b[0m\n\u001b[1;32m     53\u001b[0m \u001b[38;5;28;01mdef\u001b[39;00m \u001b[38;5;21mrand_\u001b[39m(left, right):\n\u001b[0;32m---> 54\u001b[0m     \u001b[38;5;28;01mreturn\u001b[39;00m \u001b[43moperator\u001b[49m\u001b[38;5;241;43m.\u001b[39;49m\u001b[43mand_\u001b[49m\u001b[43m(\u001b[49m\u001b[43mright\u001b[49m\u001b[43m,\u001b[49m\u001b[43m \u001b[49m\u001b[43mleft\u001b[49m\u001b[43m)\u001b[49m\n",
      "\u001b[0;31mTypeError\u001b[0m: unsupported operand type(s) for &: 'str' and 'str'",
      "\nDuring handling of the above exception, another exception occurred:\n",
      "\u001b[0;31mTypeError\u001b[0m                                 Traceback (most recent call last)",
      "File \u001b[0;32m~/.local/lib/python3.10/site-packages/pandas/core/ops/array_ops.py:325\u001b[0m, in \u001b[0;36mna_logical_op\u001b[0;34m(x, y, op)\u001b[0m\n\u001b[1;32m    324\u001b[0m \u001b[38;5;28;01mtry\u001b[39;00m:\n\u001b[0;32m--> 325\u001b[0m     result \u001b[38;5;241m=\u001b[39m \u001b[43mlibops\u001b[49m\u001b[38;5;241;43m.\u001b[39;49m\u001b[43mscalar_binop\u001b[49m\u001b[43m(\u001b[49m\u001b[43mx\u001b[49m\u001b[43m,\u001b[49m\u001b[43m \u001b[49m\u001b[43my\u001b[49m\u001b[43m,\u001b[49m\u001b[43m \u001b[49m\u001b[43mop\u001b[49m\u001b[43m)\u001b[49m\n\u001b[1;32m    326\u001b[0m \u001b[38;5;28;01mexcept\u001b[39;00m (\n\u001b[1;32m    327\u001b[0m     \u001b[38;5;167;01mTypeError\u001b[39;00m,\n\u001b[1;32m    328\u001b[0m     \u001b[38;5;167;01mValueError\u001b[39;00m,\n\u001b[0;32m   (...)\u001b[0m\n\u001b[1;32m    331\u001b[0m     \u001b[38;5;167;01mNotImplementedError\u001b[39;00m,\n\u001b[1;32m    332\u001b[0m ) \u001b[38;5;28;01mas\u001b[39;00m err:\n",
      "File \u001b[0;32m~/.local/lib/python3.10/site-packages/pandas/_libs/ops.pyx:210\u001b[0m, in \u001b[0;36mpandas._libs.ops.scalar_binop\u001b[0;34m()\u001b[0m\n",
      "File \u001b[0;32m~/.local/lib/python3.10/site-packages/pandas/core/roperator.py:54\u001b[0m, in \u001b[0;36mrand_\u001b[0;34m(left, right)\u001b[0m\n\u001b[1;32m     53\u001b[0m \u001b[38;5;28;01mdef\u001b[39;00m \u001b[38;5;21mrand_\u001b[39m(left, right):\n\u001b[0;32m---> 54\u001b[0m     \u001b[38;5;28;01mreturn\u001b[39;00m \u001b[43moperator\u001b[49m\u001b[38;5;241;43m.\u001b[39;49m\u001b[43mand_\u001b[49m\u001b[43m(\u001b[49m\u001b[43mright\u001b[49m\u001b[43m,\u001b[49m\u001b[43m \u001b[49m\u001b[43mleft\u001b[49m\u001b[43m)\u001b[49m\n",
      "\u001b[0;31mTypeError\u001b[0m: unsupported operand type(s) for &: 'bool' and 'str'",
      "\nThe above exception was the direct cause of the following exception:\n",
      "\u001b[0;31mTypeError\u001b[0m                                 Traceback (most recent call last)",
      "Cell \u001b[0;32mIn[59], line 1\u001b[0m\n\u001b[0;32m----> 1\u001b[0m df[\u001b[38;5;124m\"\u001b[39m\u001b[38;5;124mnorm_counts\u001b[39m\u001b[38;5;124m\"\u001b[39m] \u001b[38;5;241m=\u001b[39m (df[df\u001b[38;5;241m.\u001b[39mhostname \u001b[38;5;241m==\u001b[39m \u001b[38;5;124;43m\"\u001b[39;49m\u001b[38;5;124;43mistvan-HP-ProBook-650-G1\u001b[39;49m\u001b[38;5;124;43m\"\u001b[39;49m\u001b[43m \u001b[49m\u001b[38;5;241;43m&\u001b[39;49m\u001b[43m \u001b[49m\u001b[43mdf\u001b[49m\u001b[38;5;241;43m.\u001b[39;49m\u001b[43mappname\u001b[49m \u001b[38;5;241m==\u001b[39m \u001b[38;5;124m\"\u001b[39m\u001b[38;5;124msystemd\u001b[39m\u001b[38;5;124m\"\u001b[39m][\u001b[38;5;124m\"\u001b[39m\u001b[38;5;124mCounts\u001b[39m\u001b[38;5;124m\"\u001b[39m]\u001b[38;5;241m/\u001b[39m\u001b[38;5;28mlen\u001b[39m(df\u001b[38;5;241m.\u001b[39mindex))\n",
      "File \u001b[0;32m~/.local/lib/python3.10/site-packages/pandas/core/ops/common.py:81\u001b[0m, in \u001b[0;36m_unpack_zerodim_and_defer.<locals>.new_method\u001b[0;34m(self, other)\u001b[0m\n\u001b[1;32m     77\u001b[0m             \u001b[38;5;28;01mreturn\u001b[39;00m \u001b[38;5;28mNotImplemented\u001b[39m\n\u001b[1;32m     79\u001b[0m other \u001b[38;5;241m=\u001b[39m item_from_zerodim(other)\n\u001b[0;32m---> 81\u001b[0m \u001b[38;5;28;01mreturn\u001b[39;00m \u001b[43mmethod\u001b[49m\u001b[43m(\u001b[49m\u001b[38;5;28;43mself\u001b[39;49m\u001b[43m,\u001b[49m\u001b[43m \u001b[49m\u001b[43mother\u001b[49m\u001b[43m)\u001b[49m\n",
      "File \u001b[0;32m~/.local/lib/python3.10/site-packages/pandas/core/arraylike.py:74\u001b[0m, in \u001b[0;36mOpsMixin.__rand__\u001b[0;34m(self, other)\u001b[0m\n\u001b[1;32m     72\u001b[0m \u001b[38;5;129m@unpack_zerodim_and_defer\u001b[39m(\u001b[38;5;124m\"\u001b[39m\u001b[38;5;124m__rand__\u001b[39m\u001b[38;5;124m\"\u001b[39m)\n\u001b[1;32m     73\u001b[0m \u001b[38;5;28;01mdef\u001b[39;00m \u001b[38;5;21m__rand__\u001b[39m(\u001b[38;5;28mself\u001b[39m, other):\n\u001b[0;32m---> 74\u001b[0m     \u001b[38;5;28;01mreturn\u001b[39;00m \u001b[38;5;28;43mself\u001b[39;49m\u001b[38;5;241;43m.\u001b[39;49m\u001b[43m_logical_method\u001b[49m\u001b[43m(\u001b[49m\u001b[43mother\u001b[49m\u001b[43m,\u001b[49m\u001b[43m \u001b[49m\u001b[43mroperator\u001b[49m\u001b[38;5;241;43m.\u001b[39;49m\u001b[43mrand_\u001b[49m\u001b[43m)\u001b[49m\n",
      "File \u001b[0;32m~/.local/lib/python3.10/site-packages/pandas/core/series.py:6107\u001b[0m, in \u001b[0;36mSeries._logical_method\u001b[0;34m(self, other, op)\u001b[0m\n\u001b[1;32m   6104\u001b[0m lvalues \u001b[38;5;241m=\u001b[39m \u001b[38;5;28mself\u001b[39m\u001b[38;5;241m.\u001b[39m_values\n\u001b[1;32m   6105\u001b[0m rvalues \u001b[38;5;241m=\u001b[39m extract_array(other, extract_numpy\u001b[38;5;241m=\u001b[39m\u001b[38;5;28;01mTrue\u001b[39;00m, extract_range\u001b[38;5;241m=\u001b[39m\u001b[38;5;28;01mTrue\u001b[39;00m)\n\u001b[0;32m-> 6107\u001b[0m res_values \u001b[38;5;241m=\u001b[39m \u001b[43mops\u001b[49m\u001b[38;5;241;43m.\u001b[39;49m\u001b[43mlogical_op\u001b[49m\u001b[43m(\u001b[49m\u001b[43mlvalues\u001b[49m\u001b[43m,\u001b[49m\u001b[43m \u001b[49m\u001b[43mrvalues\u001b[49m\u001b[43m,\u001b[49m\u001b[43m \u001b[49m\u001b[43mop\u001b[49m\u001b[43m)\u001b[49m\n\u001b[1;32m   6108\u001b[0m \u001b[38;5;28;01mreturn\u001b[39;00m \u001b[38;5;28mself\u001b[39m\u001b[38;5;241m.\u001b[39m_construct_result(res_values, name\u001b[38;5;241m=\u001b[39mres_name)\n",
      "File \u001b[0;32m~/.local/lib/python3.10/site-packages/pandas/core/ops/array_ops.py:401\u001b[0m, in \u001b[0;36mlogical_op\u001b[0;34m(left, right, op)\u001b[0m\n\u001b[1;32m    397\u001b[0m \u001b[38;5;66;03m# For int vs int `^`, `|`, `&` are bitwise operators and return\u001b[39;00m\n\u001b[1;32m    398\u001b[0m \u001b[38;5;66;03m#   integer dtypes.  Otherwise these are boolean ops\u001b[39;00m\n\u001b[1;32m    399\u001b[0m filler \u001b[38;5;241m=\u001b[39m fill_int \u001b[38;5;28;01mif\u001b[39;00m is_self_int_dtype \u001b[38;5;129;01mand\u001b[39;00m is_other_int_dtype \u001b[38;5;28;01melse\u001b[39;00m fill_bool\n\u001b[0;32m--> 401\u001b[0m res_values \u001b[38;5;241m=\u001b[39m \u001b[43mna_logical_op\u001b[49m\u001b[43m(\u001b[49m\u001b[43mlvalues\u001b[49m\u001b[43m,\u001b[49m\u001b[43m \u001b[49m\u001b[43mrvalues\u001b[49m\u001b[43m,\u001b[49m\u001b[43m \u001b[49m\u001b[43mop\u001b[49m\u001b[43m)\u001b[49m\n\u001b[1;32m    402\u001b[0m \u001b[38;5;66;03m# error: Cannot call function of unknown type\u001b[39;00m\n\u001b[1;32m    403\u001b[0m res_values \u001b[38;5;241m=\u001b[39m filler(res_values)  \u001b[38;5;66;03m# type: ignore[operator]\u001b[39;00m\n",
      "File \u001b[0;32m~/.local/lib/python3.10/site-packages/pandas/core/ops/array_ops.py:334\u001b[0m, in \u001b[0;36mna_logical_op\u001b[0;34m(x, y, op)\u001b[0m\n\u001b[1;32m    326\u001b[0m         \u001b[38;5;28;01mexcept\u001b[39;00m (\n\u001b[1;32m    327\u001b[0m             \u001b[38;5;167;01mTypeError\u001b[39;00m,\n\u001b[1;32m    328\u001b[0m             \u001b[38;5;167;01mValueError\u001b[39;00m,\n\u001b[0;32m   (...)\u001b[0m\n\u001b[1;32m    331\u001b[0m             \u001b[38;5;167;01mNotImplementedError\u001b[39;00m,\n\u001b[1;32m    332\u001b[0m         ) \u001b[38;5;28;01mas\u001b[39;00m err:\n\u001b[1;32m    333\u001b[0m             typ \u001b[38;5;241m=\u001b[39m \u001b[38;5;28mtype\u001b[39m(y)\u001b[38;5;241m.\u001b[39m\u001b[38;5;18m__name__\u001b[39m\n\u001b[0;32m--> 334\u001b[0m             \u001b[38;5;28;01mraise\u001b[39;00m \u001b[38;5;167;01mTypeError\u001b[39;00m(\n\u001b[1;32m    335\u001b[0m                 \u001b[38;5;124mf\u001b[39m\u001b[38;5;124m\"\u001b[39m\u001b[38;5;124mCannot perform \u001b[39m\u001b[38;5;124m'\u001b[39m\u001b[38;5;132;01m{\u001b[39;00mop\u001b[38;5;241m.\u001b[39m\u001b[38;5;18m__name__\u001b[39m\u001b[38;5;132;01m}\u001b[39;00m\u001b[38;5;124m'\u001b[39m\u001b[38;5;124m with a dtyped [\u001b[39m\u001b[38;5;132;01m{\u001b[39;00mx\u001b[38;5;241m.\u001b[39mdtype\u001b[38;5;132;01m}\u001b[39;00m\u001b[38;5;124m] array \u001b[39m\u001b[38;5;124m\"\u001b[39m\n\u001b[1;32m    336\u001b[0m                 \u001b[38;5;124mf\u001b[39m\u001b[38;5;124m\"\u001b[39m\u001b[38;5;124mand scalar of type [\u001b[39m\u001b[38;5;132;01m{\u001b[39;00mtyp\u001b[38;5;132;01m}\u001b[39;00m\u001b[38;5;124m]\u001b[39m\u001b[38;5;124m\"\u001b[39m\n\u001b[1;32m    337\u001b[0m             ) \u001b[38;5;28;01mfrom\u001b[39;00m \u001b[38;5;21;01merr\u001b[39;00m\n\u001b[1;32m    339\u001b[0m \u001b[38;5;28;01mreturn\u001b[39;00m result\u001b[38;5;241m.\u001b[39mreshape(x\u001b[38;5;241m.\u001b[39mshape)\n",
      "\u001b[0;31mTypeError\u001b[0m: Cannot perform 'rand_' with a dtyped [object] array and scalar of type [bool]"
     ]
    }
   ],
   "source": [
    "df[\"norm_counts\"] = (df[\"Counts\"]/len(df.index))"
   ]
  },
  {
   "cell_type": "code",
   "execution_count": 18,
   "id": "76414850",
   "metadata": {},
   "outputs": [
    {
     "data": {
      "text/html": [
       "<div>\n",
       "<style scoped>\n",
       "    .dataframe tbody tr th:only-of-type {\n",
       "        vertical-align: middle;\n",
       "    }\n",
       "\n",
       "    .dataframe tbody tr th {\n",
       "        vertical-align: top;\n",
       "    }\n",
       "\n",
       "    .dataframe thead th {\n",
       "        text-align: right;\n",
       "    }\n",
       "</style>\n",
       "<table border=\"1\" class=\"dataframe\">\n",
       "  <thead>\n",
       "    <tr style=\"text-align: right;\">\n",
       "      <th></th>\n",
       "      <th>timestamp</th>\n",
       "      <th>hostname</th>\n",
       "      <th>appname</th>\n",
       "      <th>pid</th>\n",
       "      <th>message</th>\n",
       "      <th>date</th>\n",
       "      <th>time</th>\n",
       "      <th>ttime</th>\n",
       "      <th>Counts</th>\n",
       "      <th>norm_counts</th>\n",
       "    </tr>\n",
       "  </thead>\n",
       "  <tbody>\n",
       "    <tr>\n",
       "      <th>0</th>\n",
       "      <td>2023-07-16 12:08:58</td>\n",
       "      <td>istvan-HP-ProBook-650-G1</td>\n",
       "      <td>systemd</td>\n",
       "      <td>1</td>\n",
       "      <td>rsyslog.service: Sent signal SIGHUP to main pr...</td>\n",
       "      <td>2023-07-16</td>\n",
       "      <td>12:08:58</td>\n",
       "      <td>2023-07-19 12:08:58</td>\n",
       "      <td>623</td>\n",
       "      <td>0.357840</td>\n",
       "    </tr>\n",
       "    <tr>\n",
       "      <th>1</th>\n",
       "      <td>2023-07-16 12:08:58</td>\n",
       "      <td>istvan-HP-ProBook-650-G1</td>\n",
       "      <td>systemd</td>\n",
       "      <td>1</td>\n",
       "      <td>logrotate.service: Deactivated successfully.</td>\n",
       "      <td>2023-07-16</td>\n",
       "      <td>12:08:58</td>\n",
       "      <td>2023-07-19 12:08:58</td>\n",
       "      <td>623</td>\n",
       "      <td>0.357840</td>\n",
       "    </tr>\n",
       "    <tr>\n",
       "      <th>2</th>\n",
       "      <td>2023-07-16 12:08:58</td>\n",
       "      <td>istvan-HP-ProBook-650-G1</td>\n",
       "      <td>systemd</td>\n",
       "      <td>1</td>\n",
       "      <td>Finished Rotate log files.</td>\n",
       "      <td>2023-07-16</td>\n",
       "      <td>12:08:58</td>\n",
       "      <td>2023-07-19 12:08:58</td>\n",
       "      <td>623</td>\n",
       "      <td>0.357840</td>\n",
       "    </tr>\n",
       "    <tr>\n",
       "      <th>3</th>\n",
       "      <td>2023-07-16 12:08:58</td>\n",
       "      <td>istvan-HP-ProBook-650-G1</td>\n",
       "      <td>systemd</td>\n",
       "      <td>1</td>\n",
       "      <td>Started Samba Winbind Daemon.</td>\n",
       "      <td>2023-07-16</td>\n",
       "      <td>12:08:58</td>\n",
       "      <td>2023-07-19 12:08:58</td>\n",
       "      <td>623</td>\n",
       "      <td>0.357840</td>\n",
       "    </tr>\n",
       "    <tr>\n",
       "      <th>4</th>\n",
       "      <td>2023-07-16 12:08:58</td>\n",
       "      <td>istvan-HP-ProBook-650-G1</td>\n",
       "      <td>wpa_supplicant</td>\n",
       "      <td>888</td>\n",
       "      <td>dbus: fill_dict_with_properties dbus_interface...</td>\n",
       "      <td>2023-07-16</td>\n",
       "      <td>12:08:58</td>\n",
       "      <td>2023-07-19 12:08:58</td>\n",
       "      <td>54</td>\n",
       "      <td>0.031017</td>\n",
       "    </tr>\n",
       "  </tbody>\n",
       "</table>\n",
       "</div>"
      ],
      "text/plain": [
       "            timestamp                  hostname         appname  pid  \\\n",
       "0 2023-07-16 12:08:58  istvan-HP-ProBook-650-G1         systemd    1   \n",
       "1 2023-07-16 12:08:58  istvan-HP-ProBook-650-G1         systemd    1   \n",
       "2 2023-07-16 12:08:58  istvan-HP-ProBook-650-G1         systemd    1   \n",
       "3 2023-07-16 12:08:58  istvan-HP-ProBook-650-G1         systemd    1   \n",
       "4 2023-07-16 12:08:58  istvan-HP-ProBook-650-G1  wpa_supplicant  888   \n",
       "\n",
       "                                             message        date      time  \\\n",
       "0  rsyslog.service: Sent signal SIGHUP to main pr...  2023-07-16  12:08:58   \n",
       "1       logrotate.service: Deactivated successfully.  2023-07-16  12:08:58   \n",
       "2                         Finished Rotate log files.  2023-07-16  12:08:58   \n",
       "3                      Started Samba Winbind Daemon.  2023-07-16  12:08:58   \n",
       "4  dbus: fill_dict_with_properties dbus_interface...  2023-07-16  12:08:58   \n",
       "\n",
       "                ttime  Counts  norm_counts  \n",
       "0 2023-07-19 12:08:58     623     0.357840  \n",
       "1 2023-07-19 12:08:58     623     0.357840  \n",
       "2 2023-07-19 12:08:58     623     0.357840  \n",
       "3 2023-07-19 12:08:58     623     0.357840  \n",
       "4 2023-07-19 12:08:58      54     0.031017  "
      ]
     },
     "execution_count": 18,
     "metadata": {},
     "output_type": "execute_result"
    }
   ],
   "source": [
    "df.head()"
   ]
  },
  {
   "cell_type": "code",
   "execution_count": 16,
   "id": "59a2a7f5",
   "metadata": {},
   "outputs": [
    {
     "data": {
      "text/plain": [
       "1741"
      ]
     },
     "execution_count": 16,
     "metadata": {},
     "output_type": "execute_result"
    }
   ],
   "source": [
    "len(df.index)"
   ]
  },
  {
   "cell_type": "code",
   "execution_count": 19,
   "id": "d9509752",
   "metadata": {},
   "outputs": [
    {
     "data": {
      "text/plain": [
       "hostname                  appname                         \n",
       "istvan-HP-ProBook-650-G1  /usr/libexec/gdm-wayland-session     0.253303\n",
       "                          CRON                                 0.229753\n",
       "                          ModemManager                         0.002298\n",
       "                          NetworkManager                       5.516370\n",
       "                          PackageKit                           0.082711\n",
       "                                                                ...    \n",
       "raspberrypi               sshd                                 0.009190\n",
       "                          sudo                                 0.057438\n",
       "                          systemd                             10.468122\n",
       "                          systemd-logind                       0.000574\n",
       "                          systemd-timesyncd                    0.000574\n",
       "Name: norm_counts, Length: 68, dtype: float64"
      ]
     },
     "execution_count": 19,
     "metadata": {},
     "output_type": "execute_result"
    }
   ],
   "source": [
    "df.groupby([\"hostname\", \"appname\"])[\"norm_counts\"].sum()"
   ]
  },
  {
   "cell_type": "code",
   "execution_count": 29,
   "id": "50d08ee5",
   "metadata": {
    "scrolled": true
   },
   "outputs": [
    {
     "ename": "TypeError",
     "evalue": "int() argument must be a string, a bytes-like object or a real number, not 'datetime.time'",
     "output_type": "error",
     "traceback": [
      "\u001b[0;31m---------------------------------------------------------------------------\u001b[0m",
      "\u001b[0;31mTypeError\u001b[0m                                 Traceback (most recent call last)",
      "Cell \u001b[0;32mIn[29], line 2\u001b[0m\n\u001b[1;32m      1\u001b[0m fig, ax \u001b[38;5;241m=\u001b[39m plt\u001b[38;5;241m.\u001b[39msubplots()\n\u001b[0;32m----> 2\u001b[0m \u001b[43mdf\u001b[49m\u001b[43m[\u001b[49m\u001b[38;5;124;43m\"\u001b[39;49m\u001b[38;5;124;43mtime\u001b[39;49m\u001b[38;5;124;43m\"\u001b[39;49m\u001b[43m]\u001b[49m\u001b[38;5;241;43m.\u001b[39;49m\u001b[43mastype\u001b[49m\u001b[43m(\u001b[49m\u001b[43mnp\u001b[49m\u001b[38;5;241;43m.\u001b[39;49m\u001b[43mint64\u001b[49m\u001b[43m)\u001b[49m\u001b[38;5;241m.\u001b[39mplot\u001b[38;5;241m.\u001b[39mhist(ax\u001b[38;5;241m=\u001b[39max)\n\u001b[1;32m      3\u001b[0m labels \u001b[38;5;241m=\u001b[39m ax\u001b[38;5;241m.\u001b[39mget_xticks()\u001b[38;5;241m.\u001b[39mtolist()\n\u001b[1;32m      4\u001b[0m labels \u001b[38;5;241m=\u001b[39m pd\u001b[38;5;241m.\u001b[39mto_datetime(labels)\n",
      "File \u001b[0;32m~/.local/lib/python3.10/site-packages/pandas/core/generic.py:6324\u001b[0m, in \u001b[0;36mNDFrame.astype\u001b[0;34m(self, dtype, copy, errors)\u001b[0m\n\u001b[1;32m   6317\u001b[0m     results \u001b[38;5;241m=\u001b[39m [\n\u001b[1;32m   6318\u001b[0m         \u001b[38;5;28mself\u001b[39m\u001b[38;5;241m.\u001b[39miloc[:, i]\u001b[38;5;241m.\u001b[39mastype(dtype, copy\u001b[38;5;241m=\u001b[39mcopy)\n\u001b[1;32m   6319\u001b[0m         \u001b[38;5;28;01mfor\u001b[39;00m i \u001b[38;5;129;01min\u001b[39;00m \u001b[38;5;28mrange\u001b[39m(\u001b[38;5;28mlen\u001b[39m(\u001b[38;5;28mself\u001b[39m\u001b[38;5;241m.\u001b[39mcolumns))\n\u001b[1;32m   6320\u001b[0m     ]\n\u001b[1;32m   6322\u001b[0m \u001b[38;5;28;01melse\u001b[39;00m:\n\u001b[1;32m   6323\u001b[0m     \u001b[38;5;66;03m# else, only a single dtype is given\u001b[39;00m\n\u001b[0;32m-> 6324\u001b[0m     new_data \u001b[38;5;241m=\u001b[39m \u001b[38;5;28;43mself\u001b[39;49m\u001b[38;5;241;43m.\u001b[39;49m\u001b[43m_mgr\u001b[49m\u001b[38;5;241;43m.\u001b[39;49m\u001b[43mastype\u001b[49m\u001b[43m(\u001b[49m\u001b[43mdtype\u001b[49m\u001b[38;5;241;43m=\u001b[39;49m\u001b[43mdtype\u001b[49m\u001b[43m,\u001b[49m\u001b[43m \u001b[49m\u001b[43mcopy\u001b[49m\u001b[38;5;241;43m=\u001b[39;49m\u001b[43mcopy\u001b[49m\u001b[43m,\u001b[49m\u001b[43m \u001b[49m\u001b[43merrors\u001b[49m\u001b[38;5;241;43m=\u001b[39;49m\u001b[43merrors\u001b[49m\u001b[43m)\u001b[49m\n\u001b[1;32m   6325\u001b[0m     \u001b[38;5;28;01mreturn\u001b[39;00m \u001b[38;5;28mself\u001b[39m\u001b[38;5;241m.\u001b[39m_constructor(new_data)\u001b[38;5;241m.\u001b[39m__finalize__(\u001b[38;5;28mself\u001b[39m, method\u001b[38;5;241m=\u001b[39m\u001b[38;5;124m\"\u001b[39m\u001b[38;5;124mastype\u001b[39m\u001b[38;5;124m\"\u001b[39m)\n\u001b[1;32m   6327\u001b[0m \u001b[38;5;66;03m# GH 33113: handle empty frame or series\u001b[39;00m\n",
      "File \u001b[0;32m~/.local/lib/python3.10/site-packages/pandas/core/internals/managers.py:451\u001b[0m, in \u001b[0;36mBaseBlockManager.astype\u001b[0;34m(self, dtype, copy, errors)\u001b[0m\n\u001b[1;32m    448\u001b[0m \u001b[38;5;28;01melif\u001b[39;00m using_copy_on_write():\n\u001b[1;32m    449\u001b[0m     copy \u001b[38;5;241m=\u001b[39m \u001b[38;5;28;01mFalse\u001b[39;00m\n\u001b[0;32m--> 451\u001b[0m \u001b[38;5;28;01mreturn\u001b[39;00m \u001b[38;5;28;43mself\u001b[39;49m\u001b[38;5;241;43m.\u001b[39;49m\u001b[43mapply\u001b[49m\u001b[43m(\u001b[49m\n\u001b[1;32m    452\u001b[0m \u001b[43m    \u001b[49m\u001b[38;5;124;43m\"\u001b[39;49m\u001b[38;5;124;43mastype\u001b[39;49m\u001b[38;5;124;43m\"\u001b[39;49m\u001b[43m,\u001b[49m\n\u001b[1;32m    453\u001b[0m \u001b[43m    \u001b[49m\u001b[43mdtype\u001b[49m\u001b[38;5;241;43m=\u001b[39;49m\u001b[43mdtype\u001b[49m\u001b[43m,\u001b[49m\n\u001b[1;32m    454\u001b[0m \u001b[43m    \u001b[49m\u001b[43mcopy\u001b[49m\u001b[38;5;241;43m=\u001b[39;49m\u001b[43mcopy\u001b[49m\u001b[43m,\u001b[49m\n\u001b[1;32m    455\u001b[0m \u001b[43m    \u001b[49m\u001b[43merrors\u001b[49m\u001b[38;5;241;43m=\u001b[39;49m\u001b[43merrors\u001b[49m\u001b[43m,\u001b[49m\n\u001b[1;32m    456\u001b[0m \u001b[43m    \u001b[49m\u001b[43musing_cow\u001b[49m\u001b[38;5;241;43m=\u001b[39;49m\u001b[43musing_copy_on_write\u001b[49m\u001b[43m(\u001b[49m\u001b[43m)\u001b[49m\u001b[43m,\u001b[49m\n\u001b[1;32m    457\u001b[0m \u001b[43m\u001b[49m\u001b[43m)\u001b[49m\n",
      "File \u001b[0;32m~/.local/lib/python3.10/site-packages/pandas/core/internals/managers.py:352\u001b[0m, in \u001b[0;36mBaseBlockManager.apply\u001b[0;34m(self, f, align_keys, **kwargs)\u001b[0m\n\u001b[1;32m    350\u001b[0m         applied \u001b[38;5;241m=\u001b[39m b\u001b[38;5;241m.\u001b[39mapply(f, \u001b[38;5;241m*\u001b[39m\u001b[38;5;241m*\u001b[39mkwargs)\n\u001b[1;32m    351\u001b[0m     \u001b[38;5;28;01melse\u001b[39;00m:\n\u001b[0;32m--> 352\u001b[0m         applied \u001b[38;5;241m=\u001b[39m \u001b[38;5;28;43mgetattr\u001b[39;49m\u001b[43m(\u001b[49m\u001b[43mb\u001b[49m\u001b[43m,\u001b[49m\u001b[43m \u001b[49m\u001b[43mf\u001b[49m\u001b[43m)\u001b[49m\u001b[43m(\u001b[49m\u001b[38;5;241;43m*\u001b[39;49m\u001b[38;5;241;43m*\u001b[39;49m\u001b[43mkwargs\u001b[49m\u001b[43m)\u001b[49m\n\u001b[1;32m    353\u001b[0m     result_blocks \u001b[38;5;241m=\u001b[39m extend_blocks(applied, result_blocks)\n\u001b[1;32m    355\u001b[0m out \u001b[38;5;241m=\u001b[39m \u001b[38;5;28mtype\u001b[39m(\u001b[38;5;28mself\u001b[39m)\u001b[38;5;241m.\u001b[39mfrom_blocks(result_blocks, \u001b[38;5;28mself\u001b[39m\u001b[38;5;241m.\u001b[39maxes)\n",
      "File \u001b[0;32m~/.local/lib/python3.10/site-packages/pandas/core/internals/blocks.py:511\u001b[0m, in \u001b[0;36mBlock.astype\u001b[0;34m(self, dtype, copy, errors, using_cow)\u001b[0m\n\u001b[1;32m    491\u001b[0m \u001b[38;5;250m\u001b[39m\u001b[38;5;124;03m\"\"\"\u001b[39;00m\n\u001b[1;32m    492\u001b[0m \u001b[38;5;124;03mCoerce to the new dtype.\u001b[39;00m\n\u001b[1;32m    493\u001b[0m \n\u001b[0;32m   (...)\u001b[0m\n\u001b[1;32m    507\u001b[0m \u001b[38;5;124;03mBlock\u001b[39;00m\n\u001b[1;32m    508\u001b[0m \u001b[38;5;124;03m\"\"\"\u001b[39;00m\n\u001b[1;32m    509\u001b[0m values \u001b[38;5;241m=\u001b[39m \u001b[38;5;28mself\u001b[39m\u001b[38;5;241m.\u001b[39mvalues\n\u001b[0;32m--> 511\u001b[0m new_values \u001b[38;5;241m=\u001b[39m \u001b[43mastype_array_safe\u001b[49m\u001b[43m(\u001b[49m\u001b[43mvalues\u001b[49m\u001b[43m,\u001b[49m\u001b[43m \u001b[49m\u001b[43mdtype\u001b[49m\u001b[43m,\u001b[49m\u001b[43m \u001b[49m\u001b[43mcopy\u001b[49m\u001b[38;5;241;43m=\u001b[39;49m\u001b[43mcopy\u001b[49m\u001b[43m,\u001b[49m\u001b[43m \u001b[49m\u001b[43merrors\u001b[49m\u001b[38;5;241;43m=\u001b[39;49m\u001b[43merrors\u001b[49m\u001b[43m)\u001b[49m\n\u001b[1;32m    513\u001b[0m new_values \u001b[38;5;241m=\u001b[39m maybe_coerce_values(new_values)\n\u001b[1;32m    515\u001b[0m refs \u001b[38;5;241m=\u001b[39m \u001b[38;5;28;01mNone\u001b[39;00m\n",
      "File \u001b[0;32m~/.local/lib/python3.10/site-packages/pandas/core/dtypes/astype.py:242\u001b[0m, in \u001b[0;36mastype_array_safe\u001b[0;34m(values, dtype, copy, errors)\u001b[0m\n\u001b[1;32m    239\u001b[0m     dtype \u001b[38;5;241m=\u001b[39m dtype\u001b[38;5;241m.\u001b[39mnumpy_dtype\n\u001b[1;32m    241\u001b[0m \u001b[38;5;28;01mtry\u001b[39;00m:\n\u001b[0;32m--> 242\u001b[0m     new_values \u001b[38;5;241m=\u001b[39m \u001b[43mastype_array\u001b[49m\u001b[43m(\u001b[49m\u001b[43mvalues\u001b[49m\u001b[43m,\u001b[49m\u001b[43m \u001b[49m\u001b[43mdtype\u001b[49m\u001b[43m,\u001b[49m\u001b[43m \u001b[49m\u001b[43mcopy\u001b[49m\u001b[38;5;241;43m=\u001b[39;49m\u001b[43mcopy\u001b[49m\u001b[43m)\u001b[49m\n\u001b[1;32m    243\u001b[0m \u001b[38;5;28;01mexcept\u001b[39;00m (\u001b[38;5;167;01mValueError\u001b[39;00m, \u001b[38;5;167;01mTypeError\u001b[39;00m):\n\u001b[1;32m    244\u001b[0m     \u001b[38;5;66;03m# e.g. _astype_nansafe can fail on object-dtype of strings\u001b[39;00m\n\u001b[1;32m    245\u001b[0m     \u001b[38;5;66;03m#  trying to convert to float\u001b[39;00m\n\u001b[1;32m    246\u001b[0m     \u001b[38;5;28;01mif\u001b[39;00m errors \u001b[38;5;241m==\u001b[39m \u001b[38;5;124m\"\u001b[39m\u001b[38;5;124mignore\u001b[39m\u001b[38;5;124m\"\u001b[39m:\n",
      "File \u001b[0;32m~/.local/lib/python3.10/site-packages/pandas/core/dtypes/astype.py:187\u001b[0m, in \u001b[0;36mastype_array\u001b[0;34m(values, dtype, copy)\u001b[0m\n\u001b[1;32m    184\u001b[0m     values \u001b[38;5;241m=\u001b[39m values\u001b[38;5;241m.\u001b[39mastype(dtype, copy\u001b[38;5;241m=\u001b[39mcopy)\n\u001b[1;32m    186\u001b[0m \u001b[38;5;28;01melse\u001b[39;00m:\n\u001b[0;32m--> 187\u001b[0m     values \u001b[38;5;241m=\u001b[39m \u001b[43m_astype_nansafe\u001b[49m\u001b[43m(\u001b[49m\u001b[43mvalues\u001b[49m\u001b[43m,\u001b[49m\u001b[43m \u001b[49m\u001b[43mdtype\u001b[49m\u001b[43m,\u001b[49m\u001b[43m \u001b[49m\u001b[43mcopy\u001b[49m\u001b[38;5;241;43m=\u001b[39;49m\u001b[43mcopy\u001b[49m\u001b[43m)\u001b[49m\n\u001b[1;32m    189\u001b[0m \u001b[38;5;66;03m# in pandas we don't store numpy str dtypes, so convert to object\u001b[39;00m\n\u001b[1;32m    190\u001b[0m \u001b[38;5;28;01mif\u001b[39;00m \u001b[38;5;28misinstance\u001b[39m(dtype, np\u001b[38;5;241m.\u001b[39mdtype) \u001b[38;5;129;01mand\u001b[39;00m \u001b[38;5;28missubclass\u001b[39m(values\u001b[38;5;241m.\u001b[39mdtype\u001b[38;5;241m.\u001b[39mtype, \u001b[38;5;28mstr\u001b[39m):\n",
      "File \u001b[0;32m~/.local/lib/python3.10/site-packages/pandas/core/dtypes/astype.py:138\u001b[0m, in \u001b[0;36m_astype_nansafe\u001b[0;34m(arr, dtype, copy, skipna)\u001b[0m\n\u001b[1;32m    134\u001b[0m     \u001b[38;5;28;01mraise\u001b[39;00m \u001b[38;5;167;01mValueError\u001b[39;00m(msg)\n\u001b[1;32m    136\u001b[0m \u001b[38;5;28;01mif\u001b[39;00m copy \u001b[38;5;129;01mor\u001b[39;00m is_object_dtype(arr\u001b[38;5;241m.\u001b[39mdtype) \u001b[38;5;129;01mor\u001b[39;00m is_object_dtype(dtype):\n\u001b[1;32m    137\u001b[0m     \u001b[38;5;66;03m# Explicit copy, or required since NumPy can't view from / to object.\u001b[39;00m\n\u001b[0;32m--> 138\u001b[0m     \u001b[38;5;28;01mreturn\u001b[39;00m \u001b[43marr\u001b[49m\u001b[38;5;241;43m.\u001b[39;49m\u001b[43mastype\u001b[49m\u001b[43m(\u001b[49m\u001b[43mdtype\u001b[49m\u001b[43m,\u001b[49m\u001b[43m \u001b[49m\u001b[43mcopy\u001b[49m\u001b[38;5;241;43m=\u001b[39;49m\u001b[38;5;28;43;01mTrue\u001b[39;49;00m\u001b[43m)\u001b[49m\n\u001b[1;32m    140\u001b[0m \u001b[38;5;28;01mreturn\u001b[39;00m arr\u001b[38;5;241m.\u001b[39mastype(dtype, copy\u001b[38;5;241m=\u001b[39mcopy)\n",
      "\u001b[0;31mTypeError\u001b[0m: int() argument must be a string, a bytes-like object or a real number, not 'datetime.time'"
     ]
    },
    {
     "data": {
      "image/png": "[encoded data removed]",
      "text/plain": [
       "<Figure size 640x480 with 1 Axes>"
      ]
     },
     "metadata": {},
     "output_type": "display_data"
    }
   ],
   "source": [
    "fig, ax = plt.subplots()\n",
    "df[\"timestamp\"].astype(np.int64).plot.hist(ax=ax)\n",
    "labels = ax.get_xticks().tolist()\n",
    "labels = pd.to_datetime(labels)\n",
    "ax.set_xticklabels(labels, rotation=90)"
   ]
  },
  {
   "cell_type": "code",
   "execution_count": null,
   "id": "6dce5a5d",
   "metadata": {},
   "outputs": [],
   "source": [
    "df.groupby([\"appname\", \"hostname\"]).sum()"
   ]
  },
  {
   "cell_type": "code",
   "execution_count": 15,
   "id": "f400b0bc",
   "metadata": {},
   "outputs": [
    {
     "data": {
      "image/png": "[encoded data removed]",
      "text/plain": [
       "<Figure size 640x480 with 1 Axes>"
      ]
     },
     "metadata": {},
     "output_type": "display_data"
    }
   ],
   "source": [
    "fig, ax = plt.subplots()\n",
    "my_array = df.loc[(df[\"appname\"] == \"NetworkManager\") & (df[\"hostname\"] ==\"istvan-HP-ProBook-650-G1\"), \"ttime\"]\n",
    "# sns.histplot(data=df,x=\"timestamp\" )\n",
    "# ax.plot(df[\"timestamp\"], df[\"Counts\"])\n",
    "n, bins, rectangles = ax.hist(my_array, bins=24, density=True)\n",
    "fmt = mdates.DateFormatter('%H:%M')\n",
    "ax.xaxis.set_major_formatter(fmt)\n",
    "# ax.set_xticks([i for i in range(24)])\n",
    "# ax.set_xticklabels(df[\"time\"], rotation=30, ha='right')\n",
    "# ax.set_ylim([0, 5])\n",
    "fig.tight_layout()"
   ]
  },
  {
   "cell_type": "code",
   "execution_count": 68,
   "id": "d0dfcdff",
   "metadata": {
    "collapsed": true
   },
   "outputs": [
    {
     "name": "stderr",
     "output_type": "stream",
     "text": [
      "/home/istvan/.local/lib/python3.10/site-packages/seaborn/axisgrid.py:118: UserWarning: The figure layout has changed to tight\n",
      "  self._figure.tight_layout(*args, **kwargs)\n"
     ]
    },
    {
     "data": {
      "image/png": "[encoded data removed]",
      "text/plain": [
       "<Figure size 800x500 with 1 Axes>"
      ]
     },
     "metadata": {},
     "output_type": "display_data"
    },
    {
     "data": {
      "image/png": "[encoded data removed]",
      "text/plain": [
       "<Figure size 500x500 with 1 Axes>"
      ]
     },
     "metadata": {},
     "output_type": "display_data"
    }
   ],
   "source": [
    "fig, ax = plt.subplots(figsize=(8, 5))  \n",
    "sns.displot(my_array, bins=24, kde=True)\n",
    "fmt = mdates.DateFormatter('%H:%M')\n",
    "ax.xaxis.set_major_formatter(fmt)"
   ]
  },
  {
   "cell_type": "code",
   "execution_count": 32,
   "id": "bf70f1f8",
   "metadata": {},
   "outputs": [
    {
     "data": {
      "image/png": "[encoded data removed]",
      "text/plain": [
       "<Figure size 640x480 with 1 Axes>"
      ]
     },
     "metadata": {},
     "output_type": "display_data"
    }
   ],
   "source": [
    "import matplotlib.pyplot as plt\n",
    "import datetime\n",
    "import matplotlib.dates as mdates\n",
    "\n",
    "goals = [0, 1, 2, 3, 4, 5, 6]\n",
    "times = [\n",
    "    datetime.time(18, 0), datetime.time(18, 18), datetime.time(18, 28),\n",
    "    datetime.time(18, 38), datetime.time(19, 5), datetime.time(19, 11),\n",
    "    datetime.time(19, 15)\n",
    "]\n",
    "\n",
    "ax = plt.axes()\n",
    "# Convert datetime.time objects into datetime.datetime objects by adding a date\n",
    "# to the time\n",
    "datetimes = [datetime.datetime.combine(datetime.date.today(), t) for t in times]\n",
    "ax.plot(datetimes, goals)\n",
    "ax.set_title('2018 FIFA World Cup Final')\n",
    "ax.set_ylabel('Goals')\n",
    "ax.set_xlabel('Time of Day (MSK; UTC+3)')\n",
    "# Re-format the x-axis\n",
    "fmt = mdates.DateFormatter('%H:%M')\n",
    "ax.xaxis.set_major_formatter(fmt)\n",
    "\n",
    "plt.show()"
   ]
  }
 ],
 "metadata": {
  "kernelspec": {
   "display_name": "Python 3 (ipykernel)",
   "language": "python",
   "name": "python3"
  },
  "language_info": {
   "codemirror_mode": {
    "name": "ipython",
    "version": 3
   },
   "file_extension": ".py",
   "mimetype": "text/x-python",
   "name": "python",
   "nbconvert_exporter": "python",
   "pygments_lexer": "ipython3",
   "version": "3.10.6"
  }
 },
 "nbformat": 4,
 "nbformat_minor": 5
}
