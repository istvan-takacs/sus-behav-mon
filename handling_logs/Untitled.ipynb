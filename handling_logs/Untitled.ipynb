{
 "cells": [
  {
   "cell_type": "code",
   "execution_count": 68,
   "id": "0589ca68",
   "metadata": {},
   "outputs": [],
   "source": [
    "import sys\n",
    "sys.path.insert(0, '/home/istvan/Desktop/sus-behav-mon/storing_logs/')\n",
    "import add_logs_to_database\n",
    "import pandas as pd\n",
    "import matplotlib.pyplot as plt\n",
    "%matplotlib inline\n",
    "\n",
    "\n",
    "df_main =  pd.DataFrame(add_logs_to_database.get_main_log_collection())\n",
    "df_network = pd.DataFrame(add_logs_to_database.get_network_log_collection())\n",
    "df = pd.concat([df_main, df_network], ignore_index=True)"
   ]
  },
  {
   "cell_type": "code",
   "execution_count": 69,
   "id": "9be4a36c",
   "metadata": {},
   "outputs": [],
   "source": [
    "df.drop([\"_id\", \"index\"], axis=1, inplace = True)"
   ]
  },
  {
   "cell_type": "code",
   "execution_count": 70,
   "id": "017db100",
   "metadata": {},
   "outputs": [],
   "source": [
    "df_copy = df.copy()"
   ]
  },
  {
   "cell_type": "code",
   "execution_count": 71,
   "id": "2c64fed5",
   "metadata": {},
   "outputs": [],
   "source": [
    "df['date'] = [d.date() for d in df['timestamp']]\n",
    "df['time'] = [d.time() for d in df['timestamp']]"
   ]
  },
  {
   "cell_type": "code",
   "execution_count": 72,
   "id": "f1940083",
   "metadata": {},
   "outputs": [
    {
     "data": {
      "text/plain": [
       "hostname                  appname                     \n",
       "istvan-HP-ProBook-650-G1  systemd                         623\n",
       "                          dbus-daemon                     256\n",
       "raspberrypi               systemd                         135\n",
       "istvan-HP-ProBook-650-G1  NetworkManager                   98\n",
       "                          gnome-shell                      94\n",
       "                                                         ... \n",
       "                          demo                              1\n",
       "                          mongod                            1\n",
       "                          gnome-keyring-pkcs11.desktop      1\n",
       "                          gvfsd                             1\n",
       "raspberrypi               systemd-timesyncd                 1\n",
       "Name: count, Length: 68, dtype: int64"
      ]
     },
     "execution_count": 72,
     "metadata": {},
     "output_type": "execute_result"
    }
   ],
   "source": [
    "df[[\"hostname\", \"appname\"]].value_counts()\n"
   ]
  },
  {
   "cell_type": "code",
   "execution_count": 73,
   "id": "1cf229dd",
   "metadata": {},
   "outputs": [],
   "source": [
    "df['Counts'] = df.groupby([\"hostname\", \"appname\"])['time'].transform('count')"
   ]
  },
  {
   "cell_type": "code",
   "execution_count": 74,
   "id": "91fa6115",
   "metadata": {},
   "outputs": [],
   "source": [
    "df[\"norm_counts\"] = (df[\"Counts\"]/len(df.index))"
   ]
  },
  {
   "cell_type": "code",
   "execution_count": 75,
   "id": "76414850",
   "metadata": {},
   "outputs": [
    {
     "data": {
      "text/html": [
       "<div>\n",
       "<style scoped>\n",
       "    .dataframe tbody tr th:only-of-type {\n",
       "        vertical-align: middle;\n",
       "    }\n",
       "\n",
       "    .dataframe tbody tr th {\n",
       "        vertical-align: top;\n",
       "    }\n",
       "\n",
       "    .dataframe thead th {\n",
       "        text-align: right;\n",
       "    }\n",
       "</style>\n",
       "<table border=\"1\" class=\"dataframe\">\n",
       "  <thead>\n",
       "    <tr style=\"text-align: right;\">\n",
       "      <th></th>\n",
       "      <th>timestamp</th>\n",
       "      <th>hostname</th>\n",
       "      <th>appname</th>\n",
       "      <th>pid</th>\n",
       "      <th>message</th>\n",
       "      <th>date</th>\n",
       "      <th>time</th>\n",
       "      <th>Counts</th>\n",
       "      <th>norm_counts</th>\n",
       "    </tr>\n",
       "  </thead>\n",
       "  <tbody>\n",
       "    <tr>\n",
       "      <th>0</th>\n",
       "      <td>2023-07-16 12:08:58</td>\n",
       "      <td>istvan-HP-ProBook-650-G1</td>\n",
       "      <td>systemd</td>\n",
       "      <td>1</td>\n",
       "      <td>rsyslog.service: Sent signal SIGHUP to main pr...</td>\n",
       "      <td>2023-07-16</td>\n",
       "      <td>12:08:58</td>\n",
       "      <td>623</td>\n",
       "      <td>0.357840</td>\n",
       "    </tr>\n",
       "    <tr>\n",
       "      <th>1</th>\n",
       "      <td>2023-07-16 12:08:58</td>\n",
       "      <td>istvan-HP-ProBook-650-G1</td>\n",
       "      <td>systemd</td>\n",
       "      <td>1</td>\n",
       "      <td>logrotate.service: Deactivated successfully.</td>\n",
       "      <td>2023-07-16</td>\n",
       "      <td>12:08:58</td>\n",
       "      <td>623</td>\n",
       "      <td>0.357840</td>\n",
       "    </tr>\n",
       "    <tr>\n",
       "      <th>2</th>\n",
       "      <td>2023-07-16 12:08:58</td>\n",
       "      <td>istvan-HP-ProBook-650-G1</td>\n",
       "      <td>systemd</td>\n",
       "      <td>1</td>\n",
       "      <td>Finished Rotate log files.</td>\n",
       "      <td>2023-07-16</td>\n",
       "      <td>12:08:58</td>\n",
       "      <td>623</td>\n",
       "      <td>0.357840</td>\n",
       "    </tr>\n",
       "    <tr>\n",
       "      <th>3</th>\n",
       "      <td>2023-07-16 12:08:58</td>\n",
       "      <td>istvan-HP-ProBook-650-G1</td>\n",
       "      <td>systemd</td>\n",
       "      <td>1</td>\n",
       "      <td>Started Samba Winbind Daemon.</td>\n",
       "      <td>2023-07-16</td>\n",
       "      <td>12:08:58</td>\n",
       "      <td>623</td>\n",
       "      <td>0.357840</td>\n",
       "    </tr>\n",
       "    <tr>\n",
       "      <th>4</th>\n",
       "      <td>2023-07-16 12:08:58</td>\n",
       "      <td>istvan-HP-ProBook-650-G1</td>\n",
       "      <td>wpa_supplicant</td>\n",
       "      <td>888</td>\n",
       "      <td>dbus: fill_dict_with_properties dbus_interface...</td>\n",
       "      <td>2023-07-16</td>\n",
       "      <td>12:08:58</td>\n",
       "      <td>54</td>\n",
       "      <td>0.031017</td>\n",
       "    </tr>\n",
       "  </tbody>\n",
       "</table>\n",
       "</div>"
      ],
      "text/plain": [
       "            timestamp                  hostname         appname  pid  \\\n",
       "0 2023-07-16 12:08:58  istvan-HP-ProBook-650-G1         systemd    1   \n",
       "1 2023-07-16 12:08:58  istvan-HP-ProBook-650-G1         systemd    1   \n",
       "2 2023-07-16 12:08:58  istvan-HP-ProBook-650-G1         systemd    1   \n",
       "3 2023-07-16 12:08:58  istvan-HP-ProBook-650-G1         systemd    1   \n",
       "4 2023-07-16 12:08:58  istvan-HP-ProBook-650-G1  wpa_supplicant  888   \n",
       "\n",
       "                                             message        date      time  \\\n",
       "0  rsyslog.service: Sent signal SIGHUP to main pr...  2023-07-16  12:08:58   \n",
       "1       logrotate.service: Deactivated successfully.  2023-07-16  12:08:58   \n",
       "2                         Finished Rotate log files.  2023-07-16  12:08:58   \n",
       "3                      Started Samba Winbind Daemon.  2023-07-16  12:08:58   \n",
       "4  dbus: fill_dict_with_properties dbus_interface...  2023-07-16  12:08:58   \n",
       "\n",
       "   Counts  norm_counts  \n",
       "0     623     0.357840  \n",
       "1     623     0.357840  \n",
       "2     623     0.357840  \n",
       "3     623     0.357840  \n",
       "4      54     0.031017  "
      ]
     },
     "execution_count": 75,
     "metadata": {},
     "output_type": "execute_result"
    }
   ],
   "source": [
    "df.head()"
   ]
  },
  {
   "cell_type": "code",
   "execution_count": 76,
   "id": "59a2a7f5",
   "metadata": {},
   "outputs": [
    {
     "data": {
      "text/plain": [
       "1741"
      ]
     },
     "execution_count": 76,
     "metadata": {},
     "output_type": "execute_result"
    }
   ],
   "source": [
    "len(df.index)"
   ]
  },
  {
   "cell_type": "code",
   "execution_count": null,
   "id": "f400b0bc",
   "metadata": {},
   "outputs": [],
   "source": []
  },
  {
   "cell_type": "code",
   "execution_count": null,
   "id": "bf70f1f8",
   "metadata": {},
   "outputs": [],
   "source": []
  }
 ],
 "metadata": {
  "kernelspec": {
   "display_name": "Python 3 (ipykernel)",
   "language": "python",
   "name": "python3"
  },
  "language_info": {
   "codemirror_mode": {
    "name": "ipython",
    "version": 3
   },
   "file_extension": ".py",
   "mimetype": "text/x-python",
   "name": "python",
   "nbconvert_exporter": "python",
   "pygments_lexer": "ipython3",
   "version": "3.10.6"
  }
 },
 "nbformat": 4,
 "nbformat_minor": 5
}
