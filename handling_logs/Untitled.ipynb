{
 "cells": [
  {
   "cell_type": "code",
   "execution_count": 2,
   "id": "0589ca68",
   "metadata": {},
   "outputs": [],
   "source": [
    "import sys\n",
    "import datetime\n",
    "sys.path.insert(0, '/home/istvan/Desktop/sus-behav-mon/storing_logs/')\n",
    "import add_logs_to_database\n",
    "import matplotlib.dates as mdates\n",
    "import pandas as pd\n",
    "import matplotlib.pyplot as plt\n",
    "%matplotlib inline\n",
    "import seaborn as sns\n",
    "import numpy as np\n",
    "import random"
   ]
  },
  {
   "cell_type": "code",
   "execution_count": 3,
   "id": "417689a7",
   "metadata": {},
   "outputs": [],
   "source": [
    "df_main =  pd.DataFrame(add_logs_to_database.get_main_log_collection())\n",
    "df_network = pd.DataFrame(add_logs_to_database.get_network_log_collection())\n",
    "df = pd.concat([df_main, df_network], ignore_index=True)"
   ]
  },
  {
   "cell_type": "code",
   "execution_count": 4,
   "id": "721298aa",
   "metadata": {},
   "outputs": [
    {
     "data": {
      "text/html": [
       "<div>\n",
       "<style scoped>\n",
       "    .dataframe tbody tr th:only-of-type {\n",
       "        vertical-align: middle;\n",
       "    }\n",
       "\n",
       "    .dataframe tbody tr th {\n",
       "        vertical-align: top;\n",
       "    }\n",
       "\n",
       "    .dataframe thead th {\n",
       "        text-align: right;\n",
       "    }\n",
       "</style>\n",
       "<table border=\"1\" class=\"dataframe\">\n",
       "  <thead>\n",
       "    <tr style=\"text-align: right;\">\n",
       "      <th></th>\n",
       "      <th>_id</th>\n",
       "      <th>timestamp</th>\n",
       "      <th>hostname</th>\n",
       "      <th>appname</th>\n",
       "      <th>pid</th>\n",
       "      <th>message</th>\n",
       "      <th>index</th>\n",
       "    </tr>\n",
       "  </thead>\n",
       "  <tbody>\n",
       "    <tr>\n",
       "      <th>0</th>\n",
       "      <td>64ce8f1dae3183c28221c6ff</td>\n",
       "      <td>2023-07-30 00:00:03</td>\n",
       "      <td>istvan-HP-ProBook-650-G1</td>\n",
       "      <td>systemd</td>\n",
       "      <td>1</td>\n",
       "      <td>logrotate.service: Deactivated successfully.</td>\n",
       "      <td>1</td>\n",
       "    </tr>\n",
       "    <tr>\n",
       "      <th>1</th>\n",
       "      <td>64ce8f1dae3183c28221c700</td>\n",
       "      <td>2023-07-30 00:00:03</td>\n",
       "      <td>istvan-HP-ProBook-650-G1</td>\n",
       "      <td>systemd</td>\n",
       "      <td>1</td>\n",
       "      <td>Finished Rotate log files.</td>\n",
       "      <td>2</td>\n",
       "    </tr>\n",
       "    <tr>\n",
       "      <th>2</th>\n",
       "      <td>64ce8f1dae3183c28221c701</td>\n",
       "      <td>2023-07-30 00:00:27</td>\n",
       "      <td>istvan-HP-ProBook-650-G1</td>\n",
       "      <td>update-notifier</td>\n",
       "      <td>4679</td>\n",
       "      <td>gtk_widget_get_scale_factor: assertion 'GTK_IS...</td>\n",
       "      <td>3</td>\n",
       "    </tr>\n",
       "    <tr>\n",
       "      <th>3</th>\n",
       "      <td>64ce8f1dae3183c28221c702</td>\n",
       "      <td>2023-07-30 00:00:27</td>\n",
       "      <td>istvan-HP-ProBook-650-G1</td>\n",
       "      <td>update-notifier</td>\n",
       "      <td>4679</td>\n",
       "      <td>gtk_widget_get_scale_factor: assertion 'GTK_IS...</td>\n",
       "      <td>4</td>\n",
       "    </tr>\n",
       "    <tr>\n",
       "      <th>4</th>\n",
       "      <td>64ce8f1dae3183c28221c703</td>\n",
       "      <td>2023-07-30 00:00:32</td>\n",
       "      <td>istvan-HP-ProBook-650-G1</td>\n",
       "      <td>rtkit-daemon</td>\n",
       "      <td>1159</td>\n",
       "      <td>Supervising 6 threads of 3 processes of 1 users.</td>\n",
       "      <td>5</td>\n",
       "    </tr>\n",
       "  </tbody>\n",
       "</table>\n",
       "</div>"
      ],
      "text/plain": [
       "                        _id           timestamp                  hostname  \\\n",
       "0  64ce8f1dae3183c28221c6ff 2023-07-30 00:00:03  istvan-HP-ProBook-650-G1   \n",
       "1  64ce8f1dae3183c28221c700 2023-07-30 00:00:03  istvan-HP-ProBook-650-G1   \n",
       "2  64ce8f1dae3183c28221c701 2023-07-30 00:00:27  istvan-HP-ProBook-650-G1   \n",
       "3  64ce8f1dae3183c28221c702 2023-07-30 00:00:27  istvan-HP-ProBook-650-G1   \n",
       "4  64ce8f1dae3183c28221c703 2023-07-30 00:00:32  istvan-HP-ProBook-650-G1   \n",
       "\n",
       "           appname   pid                                            message  \\\n",
       "0          systemd     1       logrotate.service: Deactivated successfully.   \n",
       "1          systemd     1                         Finished Rotate log files.   \n",
       "2  update-notifier  4679  gtk_widget_get_scale_factor: assertion 'GTK_IS...   \n",
       "3  update-notifier  4679  gtk_widget_get_scale_factor: assertion 'GTK_IS...   \n",
       "4     rtkit-daemon  1159   Supervising 6 threads of 3 processes of 1 users.   \n",
       "\n",
       "   index  \n",
       "0      1  \n",
       "1      2  \n",
       "2      3  \n",
       "3      4  \n",
       "4      5  "
      ]
     },
     "execution_count": 4,
     "metadata": {},
     "output_type": "execute_result"
    }
   ],
   "source": [
    "df.head()"
   ]
  },
  {
   "cell_type": "code",
   "execution_count": 5,
   "id": "9be4a36c",
   "metadata": {},
   "outputs": [],
   "source": [
    "df.drop([\"_id\", \"index\"], axis=1, inplace = True)"
   ]
  },
  {
   "cell_type": "code",
   "execution_count": 6,
   "id": "017db100",
   "metadata": {},
   "outputs": [],
   "source": [
    "df_copy = df.copy()"
   ]
  },
  {
   "cell_type": "code",
   "execution_count": 7,
   "id": "2c64fed5",
   "metadata": {},
   "outputs": [],
   "source": [
    "df['date'] = [d.date() for d in df['timestamp']]\n",
    "df['time'] = [d.time() for d in df['timestamp']]\n",
    "df[\"ttime\"] = [datetime.datetime.combine(datetime.date.today(), t) for t in df[\"time\"]]"
   ]
  },
  {
   "cell_type": "code",
   "execution_count": 8,
   "id": "f1940083",
   "metadata": {},
   "outputs": [
    {
     "data": {
      "text/plain": [
       "hostname                  appname          \n",
       "istvan-HP-ProBook-650-G1  kernel               10118\n",
       "                          systemd               7913\n",
       "                          NetworkManager        7287\n",
       "                          avahi-daemon          3721\n",
       "                          gnome-shell           1821\n",
       "                                               ...  \n",
       "                          gnome-calendar           1\n",
       "                          gnome-shell-por          1\n",
       "                          gsd-sound                1\n",
       "                          nm-dispatcher            1\n",
       "raspberrypi               systemd-timesyncd        1\n",
       "Name: count, Length: 108, dtype: int64"
      ]
     },
     "execution_count": 8,
     "metadata": {},
     "output_type": "execute_result"
    }
   ],
   "source": [
    "df[[\"hostname\", \"appname\"]].value_counts()\n"
   ]
  },
  {
   "cell_type": "code",
   "execution_count": 9,
   "id": "1cf229dd",
   "metadata": {},
   "outputs": [],
   "source": [
    "df['Counts'] = df.groupby([\"hostname\", \"appname\"])['time'].transform('count')"
   ]
  },
  {
   "cell_type": "code",
   "execution_count": 10,
   "id": "6aba2243",
   "metadata": {
    "scrolled": true
   },
   "outputs": [
    {
     "data": {
      "text/html": [
       "<div>\n",
       "<style scoped>\n",
       "    .dataframe tbody tr th:only-of-type {\n",
       "        vertical-align: middle;\n",
       "    }\n",
       "\n",
       "    .dataframe tbody tr th {\n",
       "        vertical-align: top;\n",
       "    }\n",
       "\n",
       "    .dataframe thead th {\n",
       "        text-align: right;\n",
       "    }\n",
       "</style>\n",
       "<table border=\"1\" class=\"dataframe\">\n",
       "  <thead>\n",
       "    <tr style=\"text-align: right;\">\n",
       "      <th></th>\n",
       "      <th>timestamp</th>\n",
       "      <th>hostname</th>\n",
       "      <th>appname</th>\n",
       "      <th>pid</th>\n",
       "      <th>message</th>\n",
       "      <th>date</th>\n",
       "      <th>time</th>\n",
       "      <th>ttime</th>\n",
       "      <th>Counts</th>\n",
       "    </tr>\n",
       "  </thead>\n",
       "  <tbody>\n",
       "    <tr>\n",
       "      <th>0</th>\n",
       "      <td>2023-07-30 00:00:03</td>\n",
       "      <td>istvan-HP-ProBook-650-G1</td>\n",
       "      <td>systemd</td>\n",
       "      <td>1</td>\n",
       "      <td>logrotate.service: Deactivated successfully.</td>\n",
       "      <td>2023-07-30</td>\n",
       "      <td>00:00:03</td>\n",
       "      <td>2023-08-05 00:00:03</td>\n",
       "      <td>7913</td>\n",
       "    </tr>\n",
       "    <tr>\n",
       "      <th>1</th>\n",
       "      <td>2023-07-30 00:00:03</td>\n",
       "      <td>istvan-HP-ProBook-650-G1</td>\n",
       "      <td>systemd</td>\n",
       "      <td>1</td>\n",
       "      <td>Finished Rotate log files.</td>\n",
       "      <td>2023-07-30</td>\n",
       "      <td>00:00:03</td>\n",
       "      <td>2023-08-05 00:00:03</td>\n",
       "      <td>7913</td>\n",
       "    </tr>\n",
       "    <tr>\n",
       "      <th>2</th>\n",
       "      <td>2023-07-30 00:00:27</td>\n",
       "      <td>istvan-HP-ProBook-650-G1</td>\n",
       "      <td>update-notifier</td>\n",
       "      <td>4679</td>\n",
       "      <td>gtk_widget_get_scale_factor: assertion 'GTK_IS...</td>\n",
       "      <td>2023-07-30</td>\n",
       "      <td>00:00:27</td>\n",
       "      <td>2023-08-05 00:00:27</td>\n",
       "      <td>39</td>\n",
       "    </tr>\n",
       "    <tr>\n",
       "      <th>3</th>\n",
       "      <td>2023-07-30 00:00:27</td>\n",
       "      <td>istvan-HP-ProBook-650-G1</td>\n",
       "      <td>update-notifier</td>\n",
       "      <td>4679</td>\n",
       "      <td>gtk_widget_get_scale_factor: assertion 'GTK_IS...</td>\n",
       "      <td>2023-07-30</td>\n",
       "      <td>00:00:27</td>\n",
       "      <td>2023-08-05 00:00:27</td>\n",
       "      <td>39</td>\n",
       "    </tr>\n",
       "    <tr>\n",
       "      <th>4</th>\n",
       "      <td>2023-07-30 00:00:32</td>\n",
       "      <td>istvan-HP-ProBook-650-G1</td>\n",
       "      <td>rtkit-daemon</td>\n",
       "      <td>1159</td>\n",
       "      <td>Supervising 6 threads of 3 processes of 1 users.</td>\n",
       "      <td>2023-07-30</td>\n",
       "      <td>00:00:32</td>\n",
       "      <td>2023-08-05 00:00:32</td>\n",
       "      <td>1116</td>\n",
       "    </tr>\n",
       "  </tbody>\n",
       "</table>\n",
       "</div>"
      ],
      "text/plain": [
       "            timestamp                  hostname          appname   pid  \\\n",
       "0 2023-07-30 00:00:03  istvan-HP-ProBook-650-G1          systemd     1   \n",
       "1 2023-07-30 00:00:03  istvan-HP-ProBook-650-G1          systemd     1   \n",
       "2 2023-07-30 00:00:27  istvan-HP-ProBook-650-G1  update-notifier  4679   \n",
       "3 2023-07-30 00:00:27  istvan-HP-ProBook-650-G1  update-notifier  4679   \n",
       "4 2023-07-30 00:00:32  istvan-HP-ProBook-650-G1     rtkit-daemon  1159   \n",
       "\n",
       "                                             message        date      time  \\\n",
       "0       logrotate.service: Deactivated successfully.  2023-07-30  00:00:03   \n",
       "1                         Finished Rotate log files.  2023-07-30  00:00:03   \n",
       "2  gtk_widget_get_scale_factor: assertion 'GTK_IS...  2023-07-30  00:00:27   \n",
       "3  gtk_widget_get_scale_factor: assertion 'GTK_IS...  2023-07-30  00:00:27   \n",
       "4   Supervising 6 threads of 3 processes of 1 users.  2023-07-30  00:00:32   \n",
       "\n",
       "                ttime  Counts  \n",
       "0 2023-08-05 00:00:03    7913  \n",
       "1 2023-08-05 00:00:03    7913  \n",
       "2 2023-08-05 00:00:27      39  \n",
       "3 2023-08-05 00:00:27      39  \n",
       "4 2023-08-05 00:00:32    1116  "
      ]
     },
     "execution_count": 10,
     "metadata": {},
     "output_type": "execute_result"
    }
   ],
   "source": [
    "df.head()"
   ]
  },
  {
   "cell_type": "code",
   "execution_count": 11,
   "id": "e9568dfe",
   "metadata": {},
   "outputs": [
    {
     "data": {
      "text/plain": [
       "0        2023-08-05\n",
       "1        2023-08-05\n",
       "2        2023-08-05\n",
       "3        2023-08-05\n",
       "4        2023-08-05\n",
       "            ...    \n",
       "38302    2023-08-05\n",
       "38303    2023-08-05\n",
       "38304    2023-08-05\n",
       "38305    2023-08-05\n",
       "38306    2023-08-05\n",
       "Name: ttime, Length: 38307, dtype: object"
      ]
     },
     "execution_count": 11,
     "metadata": {},
     "output_type": "execute_result"
    }
   ],
   "source": [
    "df.ttime.apply(lambda x: x.date())"
   ]
  },
  {
   "cell_type": "code",
   "execution_count": 12,
   "id": "be8acc0b",
   "metadata": {},
   "outputs": [],
   "source": [
    "# 1. Subset the data for desired time frame (8 - 12)\n",
    "# 2. Do groupby\n"
   ]
  },
  {
   "cell_type": "code",
   "execution_count": 13,
   "id": "085892a2",
   "metadata": {},
   "outputs": [
    {
     "data": {
      "text/html": [
       "<div>\n",
       "<style scoped>\n",
       "    .dataframe tbody tr th:only-of-type {\n",
       "        vertical-align: middle;\n",
       "    }\n",
       "\n",
       "    .dataframe tbody tr th {\n",
       "        vertical-align: top;\n",
       "    }\n",
       "\n",
       "    .dataframe thead th {\n",
       "        text-align: right;\n",
       "    }\n",
       "</style>\n",
       "<table border=\"1\" class=\"dataframe\">\n",
       "  <thead>\n",
       "    <tr style=\"text-align: right;\">\n",
       "      <th></th>\n",
       "      <th>timestamp</th>\n",
       "      <th>hostname</th>\n",
       "      <th>appname</th>\n",
       "      <th>pid</th>\n",
       "      <th>message</th>\n",
       "      <th>date</th>\n",
       "      <th>time</th>\n",
       "      <th>ttime</th>\n",
       "      <th>Counts</th>\n",
       "    </tr>\n",
       "  </thead>\n",
       "  <tbody>\n",
       "    <tr>\n",
       "      <th>0</th>\n",
       "      <td>2023-07-30 00:00:03</td>\n",
       "      <td>istvan-HP-ProBook-650-G1</td>\n",
       "      <td>systemd</td>\n",
       "      <td>1</td>\n",
       "      <td>logrotate.service: Deactivated successfully.</td>\n",
       "      <td>2023-07-30</td>\n",
       "      <td>00:00:03</td>\n",
       "      <td>2023-08-05 00:00:03</td>\n",
       "      <td>7913</td>\n",
       "    </tr>\n",
       "    <tr>\n",
       "      <th>1</th>\n",
       "      <td>2023-07-30 00:00:03</td>\n",
       "      <td>istvan-HP-ProBook-650-G1</td>\n",
       "      <td>systemd</td>\n",
       "      <td>1</td>\n",
       "      <td>Finished Rotate log files.</td>\n",
       "      <td>2023-07-30</td>\n",
       "      <td>00:00:03</td>\n",
       "      <td>2023-08-05 00:00:03</td>\n",
       "      <td>7913</td>\n",
       "    </tr>\n",
       "    <tr>\n",
       "      <th>84</th>\n",
       "      <td>2023-07-30 00:09:14</td>\n",
       "      <td>istvan-HP-ProBook-650-G1</td>\n",
       "      <td>systemd</td>\n",
       "      <td>1</td>\n",
       "      <td>Starting Fingerprint Authentication Daemon...</td>\n",
       "      <td>2023-07-30</td>\n",
       "      <td>00:09:14</td>\n",
       "      <td>2023-08-05 00:09:14</td>\n",
       "      <td>7913</td>\n",
       "    </tr>\n",
       "    <tr>\n",
       "      <th>86</th>\n",
       "      <td>2023-07-30 00:09:14</td>\n",
       "      <td>istvan-HP-ProBook-650-G1</td>\n",
       "      <td>systemd</td>\n",
       "      <td>1</td>\n",
       "      <td>Started Fingerprint Authentication Daemon.</td>\n",
       "      <td>2023-07-30</td>\n",
       "      <td>00:09:14</td>\n",
       "      <td>2023-08-05 00:09:14</td>\n",
       "      <td>7913</td>\n",
       "    </tr>\n",
       "    <tr>\n",
       "      <th>107</th>\n",
       "      <td>2023-07-30 00:09:28</td>\n",
       "      <td>istvan-HP-ProBook-650-G1</td>\n",
       "      <td>systemd</td>\n",
       "      <td>1659</td>\n",
       "      <td>app-gnome-google\\x2dchrome-3375.scope: Consume...</td>\n",
       "      <td>2023-07-30</td>\n",
       "      <td>00:09:28</td>\n",
       "      <td>2023-08-05 00:09:28</td>\n",
       "      <td>7913</td>\n",
       "    </tr>\n",
       "    <tr>\n",
       "      <th>...</th>\n",
       "      <td>...</td>\n",
       "      <td>...</td>\n",
       "      <td>...</td>\n",
       "      <td>...</td>\n",
       "      <td>...</td>\n",
       "      <td>...</td>\n",
       "      <td>...</td>\n",
       "      <td>...</td>\n",
       "      <td>...</td>\n",
       "    </tr>\n",
       "    <tr>\n",
       "      <th>38126</th>\n",
       "      <td>2023-08-05 18:54:38</td>\n",
       "      <td>istvan-HP-ProBook-650-G1</td>\n",
       "      <td>systemd</td>\n",
       "      <td>1</td>\n",
       "      <td>NetworkManager-dispatcher.service: Deactivated...</td>\n",
       "      <td>2023-08-05</td>\n",
       "      <td>18:54:38</td>\n",
       "      <td>2023-08-05 18:54:38</td>\n",
       "      <td>7913</td>\n",
       "    </tr>\n",
       "    <tr>\n",
       "      <th>38127</th>\n",
       "      <td>2023-08-05 18:54:50</td>\n",
       "      <td>istvan-HP-ProBook-650-G1</td>\n",
       "      <td>systemd</td>\n",
       "      <td>1</td>\n",
       "      <td>systemd-timedated.service: Deactivated success...</td>\n",
       "      <td>2023-08-05</td>\n",
       "      <td>18:54:50</td>\n",
       "      <td>2023-08-05 18:54:50</td>\n",
       "      <td>7913</td>\n",
       "    </tr>\n",
       "    <tr>\n",
       "      <th>38130</th>\n",
       "      <td>2023-08-05 18:59:34</td>\n",
       "      <td>istvan-HP-ProBook-650-G1</td>\n",
       "      <td>systemd</td>\n",
       "      <td>1</td>\n",
       "      <td>Starting Network Manager Script Dispatcher Ser...</td>\n",
       "      <td>2023-08-05</td>\n",
       "      <td>18:59:34</td>\n",
       "      <td>2023-08-05 18:59:34</td>\n",
       "      <td>7913</td>\n",
       "    </tr>\n",
       "    <tr>\n",
       "      <th>38132</th>\n",
       "      <td>2023-08-05 18:59:34</td>\n",
       "      <td>istvan-HP-ProBook-650-G1</td>\n",
       "      <td>systemd</td>\n",
       "      <td>1</td>\n",
       "      <td>Started Network Manager Script Dispatcher Serv...</td>\n",
       "      <td>2023-08-05</td>\n",
       "      <td>18:59:34</td>\n",
       "      <td>2023-08-05 18:59:34</td>\n",
       "      <td>7913</td>\n",
       "    </tr>\n",
       "    <tr>\n",
       "      <th>38134</th>\n",
       "      <td>2023-08-05 18:59:44</td>\n",
       "      <td>istvan-HP-ProBook-650-G1</td>\n",
       "      <td>systemd</td>\n",
       "      <td>1</td>\n",
       "      <td>NetworkManager-dispatcher.service: Deactivated...</td>\n",
       "      <td>2023-08-05</td>\n",
       "      <td>18:59:44</td>\n",
       "      <td>2023-08-05 18:59:44</td>\n",
       "      <td>7913</td>\n",
       "    </tr>\n",
       "  </tbody>\n",
       "</table>\n",
       "<p>7913 rows × 9 columns</p>\n",
       "</div>"
      ],
      "text/plain": [
       "                timestamp                  hostname  appname   pid  \\\n",
       "0     2023-07-30 00:00:03  istvan-HP-ProBook-650-G1  systemd     1   \n",
       "1     2023-07-30 00:00:03  istvan-HP-ProBook-650-G1  systemd     1   \n",
       "84    2023-07-30 00:09:14  istvan-HP-ProBook-650-G1  systemd     1   \n",
       "86    2023-07-30 00:09:14  istvan-HP-ProBook-650-G1  systemd     1   \n",
       "107   2023-07-30 00:09:28  istvan-HP-ProBook-650-G1  systemd  1659   \n",
       "...                   ...                       ...      ...   ...   \n",
       "38126 2023-08-05 18:54:38  istvan-HP-ProBook-650-G1  systemd     1   \n",
       "38127 2023-08-05 18:54:50  istvan-HP-ProBook-650-G1  systemd     1   \n",
       "38130 2023-08-05 18:59:34  istvan-HP-ProBook-650-G1  systemd     1   \n",
       "38132 2023-08-05 18:59:34  istvan-HP-ProBook-650-G1  systemd     1   \n",
       "38134 2023-08-05 18:59:44  istvan-HP-ProBook-650-G1  systemd     1   \n",
       "\n",
       "                                                 message        date  \\\n",
       "0           logrotate.service: Deactivated successfully.  2023-07-30   \n",
       "1                             Finished Rotate log files.  2023-07-30   \n",
       "84         Starting Fingerprint Authentication Daemon...  2023-07-30   \n",
       "86            Started Fingerprint Authentication Daemon.  2023-07-30   \n",
       "107    app-gnome-google\\x2dchrome-3375.scope: Consume...  2023-07-30   \n",
       "...                                                  ...         ...   \n",
       "38126  NetworkManager-dispatcher.service: Deactivated...  2023-08-05   \n",
       "38127  systemd-timedated.service: Deactivated success...  2023-08-05   \n",
       "38130  Starting Network Manager Script Dispatcher Ser...  2023-08-05   \n",
       "38132  Started Network Manager Script Dispatcher Serv...  2023-08-05   \n",
       "38134  NetworkManager-dispatcher.service: Deactivated...  2023-08-05   \n",
       "\n",
       "           time               ttime  Counts  \n",
       "0      00:00:03 2023-08-05 00:00:03    7913  \n",
       "1      00:00:03 2023-08-05 00:00:03    7913  \n",
       "84     00:09:14 2023-08-05 00:09:14    7913  \n",
       "86     00:09:14 2023-08-05 00:09:14    7913  \n",
       "107    00:09:28 2023-08-05 00:09:28    7913  \n",
       "...         ...                 ...     ...  \n",
       "38126  18:54:38 2023-08-05 18:54:38    7913  \n",
       "38127  18:54:50 2023-08-05 18:54:50    7913  \n",
       "38130  18:59:34 2023-08-05 18:59:34    7913  \n",
       "38132  18:59:34 2023-08-05 18:59:34    7913  \n",
       "38134  18:59:44 2023-08-05 18:59:44    7913  \n",
       "\n",
       "[7913 rows x 9 columns]"
      ]
     },
     "execution_count": 13,
     "metadata": {},
     "output_type": "execute_result"
    }
   ],
   "source": [
    "df[(df.hostname == \"istvan-HP-ProBook-650-G1\") & (df.appname == \"systemd\")]"
   ]
  },
  {
   "cell_type": "code",
   "execution_count": null,
   "id": "d52eb5e8",
   "metadata": {},
   "outputs": [],
   "source": []
  },
  {
   "cell_type": "code",
   "execution_count": 14,
   "id": "73bb0436",
   "metadata": {},
   "outputs": [
    {
     "name": "stdout",
     "output_type": "stream",
     "text": [
      "{12: 0.2412485782888917, 13: 0.2102868697080753, 8: 0.09541261215720966, 21: 0.06798938455705801, 0: 0.05863768482244408, 19: 0.05838493618096803, 10: 0.05699481865284974, 18: 0.055604701124731454, 22: 0.048274990521925944, 11: 0.04284089473019082, 23: 0.018956148110703903, 14: 0.013648426639706812, 17: 0.011752811828636422, 9: 0.006065967395425249, 20: 0.0058132187539491975, 15: 0.005434095791735119, 16: 0.0026538607354985467, 1: 0, 2: 0, 3: 0, 4: 0, 5: 0, 6: 0, 7: 0, 24: 0, 'morning': 0.05863768482244408, 'beforenoon': 0.20131429293567546, 'afternoon': 0.4850246429925439, 'evening': 0.25502337924933655}\n"
     ]
    }
   ],
   "source": [
    "## COOOOOOLIO\n",
    "def hist_maker(host, app):\n",
    "    \n",
    "    my_df = df[(df.hostname == host) & (df.appname == app)]\n",
    "    total_sum = my_df[\"time\"].apply(lambda x: x.hour).value_counts().sum()\n",
    "\n",
    "    normalised = (my_df[\"time\"].apply(lambda x: x.hour).value_counts()/total_sum)\n",
    "\n",
    "    normal_dict = normalised.to_dict()\n",
    "\n",
    "    for i in range(0, 25):\n",
    "        if i not in normal_dict:\n",
    "            normal_dict[i] = 0\n",
    "    \"\"\"\n",
    "    (all incl.)\n",
    "    \n",
    "    Morning: 0-5 \n",
    "    Beforenoon: 6-11\n",
    "    Afternooon: 12-17\n",
    "    Evening: 18-23\n",
    "    \"\"\"\n",
    "    \n",
    "    normal_dict[\"morning\"] = sum([normal_dict.get(i) for i in normal_dict if type(i) is int and i < 6])\n",
    "    normal_dict[\"beforenoon\"] = sum([normal_dict.get(i) for i in normal_dict if type(i) is int and i < 12 and i >= 6])\n",
    "    normal_dict[\"afternoon\"] = sum([normal_dict.get(i) for i in normal_dict if type(i) is int and i < 18 and i >= 12])\n",
    "    normal_dict[\"evening\"] = sum([normal_dict.get(i) for i in normal_dict if type(i) is int and i <= 24 and i >= 18])\n",
    "    \n",
    "    return normal_dict\n",
    "    \n",
    "\n",
    "print(hist_maker(\"istvan-HP-ProBook-650-G1\", \"systemd\"))"
   ]
  },
  {
   "cell_type": "code",
   "execution_count": 17,
   "id": "1b50256c",
   "metadata": {},
   "outputs": [
    {
     "data": {
      "text/plain": [
       "{14: 0.10854947166186359,\n",
       " 13: 0.10086455331412104,\n",
       " 18: 0.09962947715109098,\n",
       " 17: 0.09427748044462742,\n",
       " 12: 0.08672979278166598,\n",
       " 15: 0.08384794840126253,\n",
       " 16: 0.08275010292301359,\n",
       " 19: 0.07780979827089338,\n",
       " 21: 0.06683134348840401,\n",
       " 20: 0.057225195553725815,\n",
       " 22: 0.05297104432551118,\n",
       " 23: 0.03993412927130506,\n",
       " 0: 0.02840675174969123,\n",
       " 8: 0.009880609304240428,\n",
       " 10: 0.009880609304240428,\n",
       " 11: 0.0004116920543433512,\n",
       " 1: 0,\n",
       " 2: 0,\n",
       " 3: 0,\n",
       " 4: 0,\n",
       " 5: 0,\n",
       " 6: 0,\n",
       " 7: 0,\n",
       " 9: 0,\n",
       " 24: 0,\n",
       " 'morning': 0.02840675174969123,\n",
       " 'beforenoon': 0.020172910662824207,\n",
       " 'afternoon': 0.5570193495265542,\n",
       " 'evening': 0.39440098806093044}"
      ]
     },
     "execution_count": 17,
     "metadata": {},
     "output_type": "execute_result"
    }
   ],
   "source": [
    "hostnames = df[\"hostname\"].unique()\n",
    "appnames = df[\"appname\"].unique()\n",
    "d = {}\n",
    "for host in hostnames:\n",
    "    for app in appnames:\n",
    "        d[(host, app)] = hist_maker(host, app)\n",
    "d['istvan-HP-ProBook-650-G1', 'NetworkManager']"
   ]
  },
  {
   "cell_type": "code",
   "execution_count": 16,
   "id": "e0b6db03",
   "metadata": {},
   "outputs": [
    {
     "name": "stdout",
     "output_type": "stream",
     "text": [
      "{('istvan-HP-ProBook-650-G1', 'systemd'): {12: 0.2412485782888917, 13: 0.2102868697080753, 8: 0.09541261215720966, 21: 0.06798938455705801, 0: 0.05863768482244408, 19: 0.05838493618096803, 10: 0.05699481865284974, 18: 0.055604701124731454, 22: 0.048274990521925944, 11: 0.04284089473019082, 23: 0.018956148110703903, 14: 0.013648426639706812, 17: 0.011752811828636422, 9: 0.006065967395425249, 20: 0.0058132187539491975, 15: 0.005434095791735119, 16: 0.0026538607354985467, 1: 0, 2: 0, 3: 0, 4: 0, 5: 0, 6: 0, 7: 0, 24: 0, 'morning': 0.05863768482244408, 'beforenoon': 0.20131429293567546, 'afternoon': 0.4850246429925439, 'evening': 0.25502337924933655}, ('istvan-HP-ProBook-650-G1', 'update-notifier'): {13: 0.15384615384615385, 18: 0.15384615384615385, 14: 0.10256410256410256, 21: 0.10256410256410256, 15: 0.10256410256410256, 19: 0.10256410256410256, 23: 0.07692307692307693, 0: 0.05128205128205128, 22: 0.05128205128205128, 11: 0.05128205128205128, 16: 0.05128205128205128, 1: 0, 2: 0, 3: 0, 4: 0, 5: 0, 6: 0, 7: 0, 8: 0, 9: 0, 10: 0, 12: 0, 17: 0, 20: 0, 24: 0, 'morning': 0.05128205128205128, 'beforenoon': 0.05128205128205128, 'afternoon': 0.4102564102564102, 'evening': 0.4871794871794871}, ('istvan-HP-ProBook-650-G1', 'rtkit-daemon'): {15: 0.16666666666666666, 13: 0.13709677419354838, 12: 0.12275985663082438, 16: 0.09946236559139784, 23: 0.07795698924731183, 0: 0.056451612903225805, 21: 0.0528673835125448, 14: 0.051075268817204304, 8: 0.04838709677419355, 22: 0.042114695340501794, 19: 0.03494623655913978, 11: 0.033154121863799284, 18: 0.02956989247311828, 10: 0.023297491039426525, 17: 0.021505376344086023, 9: 0.002688172043010753, 1: 0, 2: 0, 3: 0, 4: 0, 5: 0, 6: 0, 7: 0, 20: 0, 24: 0, 'morning': 0.056451612903225805, 'beforenoon': 0.1075268817204301, 'afternoon': 0.5985663082437275, 'evening': 0.2374551971326165}, ('istvan-HP-ProBook-650-G1', 'NetworkManager'): {14: 0.10854947166186359, 13: 0.10086455331412104, 18: 0.09962947715109098, 17: 0.09427748044462742, 12: 0.08672979278166598, 15: 0.08384794840126253, 16: 0.08275010292301359, 19: 0.07780979827089338, 21: 0.06683134348840401, 20: 0.057225195553725815, 22: 0.05297104432551118, 23: 0.03993412927130506, 0: 0.02840675174969123, 8: 0.009880609304240428, 10: 0.009880609304240428, 11: 0.0004116920543433512, 1: 0, 2: 0, 3: 0, 4: 0, 5: 0, 6: 0, 7: 0, 9: 0, 24: 0, 'morning': 0.02840675174969123, 'beforenoon': 0.020172910662824207, 'afternoon': 0.5570193495265542, 'evening': 0.39440098806093044}, ('istvan-HP-ProBook-650-G1', 'avahi-daemon'): {14: 0.10803547433485622, 13: 0.10776672937382424, 15: 0.09674818597151304, 16: 0.09674818597151304, 17: 0.09674818597151304, 18: 0.09674818597151304, 12: 0.08223595807578608, 19: 0.07148615963450686, 21: 0.052136522440204246, 20: 0.051599032518140284, 22: 0.051599032518140284, 23: 0.045149153453372746, 0: 0.03224939532383768, 8: 0.005374899220639613, 10: 0.005374899220639613, 1: 0, 2: 0, 3: 0, 4: 0, 5: 0, 6: 0, 7: 0, 9: 0, 11: 0, 24: 0, 'morning': 0.03224939532383768, 'beforenoon': 0.010749798441279226, 'afternoon': 0.5882827196990057, 'evening': 0.36871808653587745}, ('istvan-HP-ProBook-650-G1', 'dbus-daemon'): {12: 0.20551924473493102, 13: 0.19172113289760348, 18: 0.08496732026143791, 22: 0.08061002178649238, 8: 0.08061002178649238, 21: 0.07988380537400146, 17: 0.050835148874364564, 11: 0.048656499636891795, 19: 0.04502541757443718, 10: 0.0392156862745098, 14: 0.030501089324618737, 23: 0.014524328249818447, 9: 0.013071895424836602, 0: 0.013071895424836602, 15: 0.011619462599854757, 16: 0.005809731299927378, 20: 0.004357298474945534, 1: 0, 2: 0, 3: 0, 4: 0, 5: 0, 6: 0, 7: 0, 24: 0, 'morning': 0.013071895424836602, 'beforenoon': 0.1815541031227306, 'afternoon': 0.4960058097313, 'evening': 0.3093681917211329}, ('istvan-HP-ProBook-650-G1', 'gnome-shell'): {0: 0.37891268533772654, 18: 0.1356397583745195, 23: 0.09994508511806699, 13: 0.09170785282811642, 12: 0.06754530477759473, 21: 0.040637012630422846, 22: 0.040637012630422846, 17: 0.03185063152114223, 19: 0.023064250411861616, 8: 0.022515101592531575, 11: 0.018671059857221308, 14: 0.013728720483250962, 10: 0.009335529928610654, 15: 0.008237232289950576, 16: 0.007688083470620538, 9: 0.006589785831960461, 20: 0.0032948929159802307, 1: 0, 2: 0, 3: 0, 4: 0, 5: 0, 6: 0, 7: 0, 24: 0, 'morning': 0.37891268533772654, 'beforenoon': 0.057111477210324, 'afternoon': 0.22075782537067543, 'evening': 0.343218012081274}, ('istvan-HP-ProBook-650-G1', 'ubuntu-appindicators@ubuntu.com'): {21: 0.19444444444444445, 22: 0.12037037037037036, 13: 0.10185185185185185, 12: 0.09259259259259259, 0: 0.08333333333333333, 17: 0.06481481481481481, 23: 0.05555555555555555, 9: 0.05555555555555555, 18: 0.05555555555555555, 14: 0.046296296296296294, 15: 0.037037037037037035, 11: 0.037037037037037035, 16: 0.018518518518518517, 8: 0.018518518518518517, 19: 0.018518518518518517, 1: 0, 2: 0, 3: 0, 4: 0, 5: 0, 6: 0, 7: 0, 10: 0, 20: 0, 24: 0, 'morning': 0.08333333333333333, 'beforenoon': 0.1111111111111111, 'afternoon': 0.36111111111111105, 'evening': 0.4444444444444444}, ('istvan-HP-ProBook-650-G1', 'nautilus'): {13: 0.32, 21: 0.14, 17: 0.1, 18: 0.1, 12: 0.08, 22: 0.08, 23: 0.04, 15: 0.04, 0: 0.02, 8: 0.02, 9: 0.02, 19: 0.02, 20: 0.02, 1: 0, 2: 0, 3: 0, 4: 0, 5: 0, 6: 0, 7: 0, 10: 0, 11: 0, 14: 0, 16: 0, 24: 0, 'morning': 0.02, 'beforenoon': 0.04, 'afternoon': 0.54, 'evening': 0.4}, ('istvan-HP-ProBook-650-G1', 'kernel'): {12: 0.31933188377149635, 13: 0.21605060288594585, 21: 0.10802530144297293, 8: 0.10664162878039138, 10: 0.10496145483297094, 19: 0.10486262107135798, 14: 0.015022731765170983, 22: 0.007116030836133623, 17: 0.005040521842261316, 11: 0.0036568491796797786, 18: 0.0029650128483890096, 9: 0.0020755089938723067, 23: 0.0018778414706463729, 0: 0.0008895038545167029, 15: 0.0006918363312907689, 20: 0.0004941688080648349, 16: 0.00029650128483890096, 1: 0, 2: 0, 3: 0, 4: 0, 5: 0, 6: 0, 7: 0, 24: 0, 'morning': 0.0008895038545167029, 'beforenoon': 0.2173354417869144, 'afternoon': 0.5564340778810042, 'evening': 0.22534097647756476}, ('istvan-HP-ProBook-650-G1', 'bluetoothd'): {12: 0.20606060606060606, 13: 0.16363636363636364, 17: 0.15151515151515152, 11: 0.07272727272727272, 8: 0.06666666666666667, 18: 0.06060606060606061, 22: 0.048484848484848485, 19: 0.04242424242424243, 23: 0.03636363636363636, 20: 0.03636363636363636, 0: 0.024242424242424242, 14: 0.024242424242424242, 10: 0.024242424242424242, 15: 0.01818181818181818, 21: 0.01818181818181818, 9: 0.006060606060606061, 1: 0, 2: 0, 3: 0, 4: 0, 5: 0, 6: 0, 7: 0, 16: 0, 24: 0, 'morning': 0.024242424242424242, 'beforenoon': 0.1696969696969697, 'afternoon': 0.5636363636363637, 'evening': 0.24242424242424243}, ('istvan-HP-ProBook-650-G1', 'ModemManager'): {13: 0.2857142857142857, 12: 0.2571428571428571, 0: 0.08571428571428572, 8: 0.08571428571428572, 10: 0.08571428571428572, 21: 0.08571428571428572, 19: 0.08571428571428572, 23: 0.02857142857142857, 1: 0, 2: 0, 3: 0, 4: 0, 5: 0, 6: 0, 7: 0, 9: 0, 11: 0, 14: 0, 15: 0, 16: 0, 17: 0, 18: 0, 20: 0, 22: 0, 24: 0, 'morning': 0.08571428571428572, 'beforenoon': 0.17142857142857143, 'afternoon': 0.5428571428571428, 'evening': 0.2}, ('istvan-HP-ProBook-650-G1', 'systemd-modules-load'): {12: 0.3333333333333333, 13: 0.2222222222222222, 8: 0.1111111111111111, 10: 0.1111111111111111, 21: 0.1111111111111111, 19: 0.1111111111111111, 0: 0, 1: 0, 2: 0, 3: 0, 4: 0, 5: 0, 6: 0, 7: 0, 9: 0, 11: 0, 14: 0, 15: 0, 16: 0, 17: 0, 18: 0, 20: 0, 22: 0, 23: 0, 24: 0, 'morning': 0, 'beforenoon': 0.2222222222222222, 'afternoon': 0.5555555555555556, 'evening': 0.2222222222222222}, ('istvan-HP-ProBook-650-G1', 'systemd-udevd'): {12: 0.30973451327433627, 13: 0.21238938053097345, 21: 0.13274336283185842, 8: 0.10619469026548672, 10: 0.10619469026548672, 19: 0.10619469026548672, 17: 0.008849557522123894, 22: 0.008849557522123894, 18: 0.008849557522123894, 0: 0, 1: 0, 2: 0, 3: 0, 4: 0, 5: 0, 6: 0, 7: 0, 9: 0, 11: 0, 14: 0, 15: 0, 16: 0, 20: 0, 23: 0, 24: 0, 'morning': 0, 'beforenoon': 0.21238938053097345, 'afternoon': 0.5309734513274336, 'evening': 0.25663716814159293}, ('istvan-HP-ProBook-650-G1', 'mtp-probe'): {12: 0.3333333333333333, 13: 0.2222222222222222, 8: 0.1111111111111111, 10: 0.1111111111111111, 21: 0.1111111111111111, 19: 0.1111111111111111, 0: 0, 1: 0, 2: 0, 3: 0, 4: 0, 5: 0, 6: 0, 7: 0, 9: 0, 11: 0, 14: 0, 15: 0, 16: 0, 17: 0, 18: 0, 20: 0, 22: 0, 23: 0, 24: 0, 'morning': 0, 'beforenoon': 0.2222222222222222, 'afternoon': 0.5555555555555556, 'evening': 0.2222222222222222}, ('istvan-HP-ProBook-650-G1', 'systemd-fsck'): {12: 0.3333333333333333, 13: 0.2222222222222222, 8: 0.1111111111111111, 10: 0.1111111111111111, 21: 0.1111111111111111, 19: 0.1111111111111111, 0: 0, 1: 0, 2: 0, 3: 0, 4: 0, 5: 0, 6: 0, 7: 0, 9: 0, 11: 0, 14: 0, 15: 0, 16: 0, 17: 0, 18: 0, 20: 0, 22: 0, 23: 0, 24: 0, 'morning': 0, 'beforenoon': 0.2222222222222222, 'afternoon': 0.5555555555555556, 'evening': 0.2222222222222222}, ('istvan-HP-ProBook-650-G1', 'apparmor.systemd'): {12: 0.3333333333333333, 13: 0.2222222222222222, 8: 0.1111111111111111, 10: 0.1111111111111111, 21: 0.1111111111111111, 19: 0.1111111111111111, 0: 0, 1: 0, 2: 0, 3: 0, 4: 0, 5: 0, 6: 0, 7: 0, 9: 0, 11: 0, 14: 0, 15: 0, 16: 0, 17: 0, 18: 0, 20: 0, 22: 0, 23: 0, 24: 0, 'morning': 0, 'beforenoon': 0.2222222222222222, 'afternoon': 0.5555555555555556, 'evening': 0.2222222222222222}, ('istvan-HP-ProBook-650-G1', 'systemd-resolved'): {12: 0.19444444444444445, 21: 0.17592592592592593, 14: 0.16666666666666666, 13: 0.12037037037037036, 19: 0.07407407407407407, 18: 0.07407407407407407, 8: 0.05555555555555555, 10: 0.05555555555555555, 17: 0.037037037037037035, 22: 0.037037037037037035, 20: 0.009259259259259259, 0: 0, 1: 0, 2: 0, 3: 0, 4: 0, 5: 0, 6: 0, 7: 0, 9: 0, 11: 0, 15: 0, 16: 0, 23: 0, 24: 0, 'morning': 0, 'beforenoon': 0.1111111111111111, 'afternoon': 0.5185185185185185, 'evening': 0.37037037037037035}, ('istvan-HP-ProBook-650-G1', 'snapd-apparmor'): {12: 0.3333333333333333, 13: 0.2222222222222222, 8: 0.1111111111111111, 10: 0.1111111111111111, 21: 0.1111111111111111, 19: 0.1111111111111111, 0: 0, 1: 0, 2: 0, 3: 0, 4: 0, 5: 0, 6: 0, 7: 0, 9: 0, 11: 0, 14: 0, 15: 0, 16: 0, 17: 0, 18: 0, 20: 0, 22: 0, 23: 0, 24: 0, 'morning': 0, 'beforenoon': 0.2222222222222222, 'afternoon': 0.5555555555555556, 'evening': 0.2222222222222222}, ('istvan-HP-ProBook-650-G1', 'anacron'): {12: 0.15254237288135594, 13: 0.11864406779661017, 18: 0.07909604519774012, 20: 0.06779661016949153, 21: 0.06779661016949153, 19: 0.062146892655367235, 14: 0.05649717514124294, 15: 0.05649717514124294, 16: 0.05649717514124294, 17: 0.05649717514124294, 22: 0.05649717514124294, 23: 0.04519774011299435, 11: 0.04519774011299435, 9: 0.03389830508474576, 10: 0.02824858757062147, 8: 0.01694915254237288, 0: 0, 1: 0, 2: 0, 3: 0, 4: 0, 5: 0, 6: 0, 7: 0, 24: 0, 'morning': 0, 'beforenoon': 0.12429378531073446, 'afternoon': 0.49717514124293777, 'evening': 0.37853107344632764}, ('istvan-HP-ProBook-650-G1', 'cron'): {12: 0.3333333333333333, 13: 0.2222222222222222, 8: 0.1111111111111111, 10: 0.1111111111111111, 21: 0.1111111111111111, 19: 0.1111111111111111, 0: 0, 1: 0, 2: 0, 3: 0, 4: 0, 5: 0, 6: 0, 7: 0, 9: 0, 11: 0, 14: 0, 15: 0, 16: 0, 17: 0, 18: 0, 20: 0, 22: 0, 23: 0, 24: 0, 'morning': 0, 'beforenoon': 0.2222222222222222, 'afternoon': 0.5555555555555556, 'evening': 0.2222222222222222}, ('istvan-HP-ProBook-650-G1', 'apport'): {12: 0.3333333333333333, 13: 0.2222222222222222, 8: 0.1111111111111111, 10: 0.1111111111111111, 21: 0.1111111111111111, 19: 0.1111111111111111, 0: 0, 1: 0, 2: 0, 3: 0, 4: 0, 5: 0, 6: 0, 7: 0, 9: 0, 11: 0, 14: 0, 15: 0, 16: 0, 17: 0, 18: 0, 20: 0, 22: 0, 23: 0, 24: 0, 'morning': 0, 'beforenoon': 0.2222222222222222, 'afternoon': 0.5555555555555556, 'evening': 0.2222222222222222}, ('istvan-HP-ProBook-650-G1', 'udisksd'): {12: 0.3076923076923077, 13: 0.2564102564102564, 8: 0.10256410256410256, 10: 0.10256410256410256, 21: 0.10256410256410256, 19: 0.10256410256410256, 23: 0.02564102564102564, 0: 0, 1: 0, 2: 0, 3: 0, 4: 0, 5: 0, 6: 0, 7: 0, 9: 0, 11: 0, 14: 0, 15: 0, 16: 0, 17: 0, 18: 0, 20: 0, 22: 0, 24: 0, 'morning': 0, 'beforenoon': 0.20512820512820512, 'afternoon': 0.5641025641025641, 'evening': 0.23076923076923075}, ('istvan-HP-ProBook-650-G1', 'rsyslogd'): {12: 0.3333333333333333, 13: 0.2222222222222222, 8: 0.1111111111111111, 10: 0.1111111111111111, 21: 0.1111111111111111, 19: 0.1111111111111111, 0: 0, 1: 0, 2: 0, 3: 0, 4: 0, 5: 0, 6: 0, 7: 0, 9: 0, 11: 0, 14: 0, 15: 0, 16: 0, 17: 0, 18: 0, 20: 0, 22: 0, 23: 0, 24: 0, 'morning': 0, 'beforenoon': 0.2222222222222222, 'afternoon': 0.5555555555555556, 'evening': 0.2222222222222222}, ('istvan-HP-ProBook-650-G1', 'wpa_supplicant'): {14: 0.3855932203389831, 12: 0.13983050847457626, 13: 0.07203389830508475, 21: 0.0635593220338983, 19: 0.059322033898305086, 10: 0.05084745762711865, 17: 0.046610169491525424, 8: 0.0423728813559322, 15: 0.025423728813559324, 16: 0.0211864406779661, 18: 0.0211864406779661, 20: 0.0211864406779661, 22: 0.0211864406779661, 23: 0.01694915254237288, 11: 0.00847457627118644, 9: 0.00423728813559322, 0: 0, 1: 0, 2: 0, 3: 0, 4: 0, 5: 0, 6: 0, 7: 0, 24: 0, 'morning': 0, 'beforenoon': 0.10593220338983052, 'afternoon': 0.6906779661016951, 'evening': 0.2033898305084746}, ('istvan-HP-ProBook-650-G1', 'thermald'): {12: 0.32894736842105265, 13: 0.21052631578947367, 8: 0.10526315789473684, 10: 0.10526315789473684, 21: 0.10526315789473684, 19: 0.10526315789473684, 0: 0.02631578947368421, 18: 0.013157894736842105, 1: 0, 2: 0, 3: 0, 4: 0, 5: 0, 6: 0, 7: 0, 9: 0, 11: 0, 14: 0, 15: 0, 16: 0, 17: 0, 20: 0, 22: 0, 23: 0, 24: 0, 'morning': 0.02631578947368421, 'beforenoon': 0.21052631578947367, 'afternoon': 0.5394736842105263, 'evening': 0.22368421052631576}, ('istvan-HP-ProBook-650-G1', 'polkitd'): {12: 0.3333333333333333, 13: 0.2222222222222222, 8: 0.1111111111111111, 10: 0.1111111111111111, 21: 0.1111111111111111, 19: 0.1111111111111111, 0: 0, 1: 0, 2: 0, 3: 0, 4: 0, 5: 0, 6: 0, 7: 0, 9: 0, 11: 0, 14: 0, 15: 0, 16: 0, 17: 0, 18: 0, 20: 0, 22: 0, 23: 0, 24: 0, 'morning': 0, 'beforenoon': 0.2222222222222222, 'afternoon': 0.5555555555555556, 'evening': 0.2222222222222222}, ('istvan-HP-ProBook-650-G1', 'accounts-daemon'): {12: 0.3333333333333333, 13: 0.2222222222222222, 8: 0.1111111111111111, 10: 0.1111111111111111, 21: 0.1111111111111111, 19: 0.1111111111111111, 0: 0, 1: 0, 2: 0, 3: 0, 4: 0, 5: 0, 6: 0, 7: 0, 9: 0, 11: 0, 14: 0, 15: 0, 16: 0, 17: 0, 18: 0, 20: 0, 22: 0, 23: 0, 24: 0, 'morning': 0, 'beforenoon': 0.2222222222222222, 'afternoon': 0.5555555555555556, 'evening': 0.2222222222222222}, ('istvan-HP-ProBook-650-G1', 'networkd-dispatcher'): {12: 0.3333333333333333, 13: 0.2222222222222222, 8: 0.1111111111111111, 10: 0.1111111111111111, 21: 0.1111111111111111, 19: 0.1111111111111111, 0: 0, 1: 0, 2: 0, 3: 0, 4: 0, 5: 0, 6: 0, 7: 0, 9: 0, 11: 0, 14: 0, 15: 0, 16: 0, 17: 0, 18: 0, 20: 0, 22: 0, 23: 0, 24: 0, 'morning': 0, 'beforenoon': 0.2222222222222222, 'afternoon': 0.5555555555555556, 'evening': 0.2222222222222222}, ('istvan-HP-ProBook-650-G1', 'acpid'): {12: 0.2857142857142857, 13: 0.2, 10: 0.11428571428571428, 8: 0.08571428571428572, 21: 0.08571428571428572, 19: 0.08571428571428572, 14: 0.05714285714285714, 17: 0.02857142857142857, 15: 0.02857142857142857, 18: 0.02857142857142857, 0: 0, 1: 0, 2: 0, 3: 0, 4: 0, 5: 0, 6: 0, 7: 0, 9: 0, 11: 0, 16: 0, 20: 0, 22: 0, 23: 0, 24: 0, 'morning': 0, 'beforenoon': 0.2, 'afternoon': 0.6, 'evening': 0.2}, ('istvan-HP-ProBook-650-G1', 'snapd'): {12: 0.2903225806451613, 13: 0.22580645161290322, 8: 0.0967741935483871, 18: 0.06451612903225806, 22: 0.053763440860215055, 10: 0.053763440860215055, 11: 0.053763440860215055, 21: 0.053763440860215055, 19: 0.053763440860215055, 23: 0.021505376344086023, 9: 0.010752688172043012, 0: 0.010752688172043012, 20: 0.010752688172043012, 1: 0, 2: 0, 3: 0, 4: 0, 5: 0, 6: 0, 7: 0, 14: 0, 15: 0, 16: 0, 17: 0, 24: 0, 'morning': 0.010752688172043012, 'beforenoon': 0.21505376344086022, 'afternoon': 0.5161290322580645, 'evening': 0.2580645161290323}, ('istvan-HP-ProBook-650-G1', 'gnome-session'): {12: 0.30434782608695654, 13: 0.21739130434782608, 22: 0.13043478260869565, 8: 0.08695652173913043, 11: 0.08695652173913043, 10: 0.043478260869565216, 21: 0.043478260869565216, 19: 0.043478260869565216, 18: 0.043478260869565216, 0: 0, 1: 0, 2: 0, 3: 0, 4: 0, 5: 0, 6: 0, 7: 0, 9: 0, 14: 0, 15: 0, 16: 0, 17: 0, 20: 0, 23: 0, 24: 0, 'morning': 0, 'beforenoon': 0.21739130434782608, 'afternoon': 0.5217391304347826, 'evening': 0.2608695652173913}, ('istvan-HP-ProBook-650-G1', 'gnome-session-binary'): {12: 0.30158730158730157, 13: 0.20634920634920634, 22: 0.1111111111111111, 8: 0.09523809523809523, 11: 0.07936507936507936, 19: 0.06349206349206349, 10: 0.047619047619047616, 21: 0.047619047619047616, 18: 0.047619047619047616, 0: 0, 1: 0, 2: 0, 3: 0, 4: 0, 5: 0, 6: 0, 7: 0, 9: 0, 14: 0, 15: 0, 16: 0, 17: 0, 20: 0, 23: 0, 24: 0, 'morning': 0, 'beforenoon': 0.2222222222222222, 'afternoon': 0.5079365079365079, 'evening': 0.2698412698412698}, ('istvan-HP-ProBook-650-G1', 'tracker-miner-f'): {12: 0.3333333333333333, 13: 0.2222222222222222, 8: 0.1111111111111111, 10: 0.1111111111111111, 21: 0.1111111111111111, 19: 0.1111111111111111, 0: 0, 1: 0, 2: 0, 3: 0, 4: 0, 5: 0, 6: 0, 7: 0, 9: 0, 11: 0, 14: 0, 15: 0, 16: 0, 17: 0, 18: 0, 20: 0, 22: 0, 23: 0, 24: 0, 'morning': 0, 'beforenoon': 0.2222222222222222, 'afternoon': 0.5555555555555556, 'evening': 0.2222222222222222}, ('istvan-HP-ProBook-650-G1', 'snapd-desktop-integration.snapd-desktop-integration'): {12: 0.3333333333333333, 13: 0.2222222222222222, 8: 0.1111111111111111, 10: 0.1111111111111111, 21: 0.1111111111111111, 19: 0.1111111111111111, 0: 0, 1: 0, 2: 0, 3: 0, 4: 0, 5: 0, 6: 0, 7: 0, 9: 0, 11: 0, 14: 0, 15: 0, 16: 0, 17: 0, 18: 0, 20: 0, 22: 0, 23: 0, 24: 0, 'morning': 0, 'beforenoon': 0.2222222222222222, 'afternoon': 0.5555555555555556, 'evening': 0.2222222222222222}, ('istvan-HP-ProBook-650-G1', 'goa-daemon'): {12: 0.29411764705882354, 13: 0.23529411764705882, 8: 0.11764705882352941, 10: 0.058823529411764705, 11: 0.058823529411764705, 21: 0.058823529411764705, 22: 0.058823529411764705, 19: 0.058823529411764705, 18: 0.058823529411764705, 0: 0, 1: 0, 2: 0, 3: 0, 4: 0, 5: 0, 6: 0, 7: 0, 9: 0, 14: 0, 15: 0, 16: 0, 17: 0, 20: 0, 23: 0, 24: 0, 'morning': 0, 'beforenoon': 0.23529411764705882, 'afternoon': 0.5294117647058824, 'evening': 0.23529411764705882}, ('istvan-HP-ProBook-650-G1', '/usr/libexec/gdm-wayland-session'): {12: 0.37790697674418605, 8: 0.12790697674418605, 10: 0.12209302325581395, 13: 0.11627906976744186, 21: 0.11046511627906977, 19: 0.11046511627906977, 22: 0.029069767441860465, 11: 0.005813953488372093, 0: 0, 1: 0, 2: 0, 3: 0, 4: 0, 5: 0, 6: 0, 7: 0, 9: 0, 14: 0, 15: 0, 16: 0, 17: 0, 18: 0, 20: 0, 23: 0, 24: 0, 'morning': 0, 'beforenoon': 0.2558139534883721, 'afternoon': 0.4941860465116279, 'evening': 0.25}, ('istvan-HP-ProBook-650-G1', 'org.gnome.Shell.desktop'): {12: 0.375, 8: 0.125, 10: 0.125, 21: 0.125, 19: 0.125, 13: 0.125, 0: 0, 1: 0, 2: 0, 3: 0, 4: 0, 5: 0, 6: 0, 7: 0, 9: 0, 11: 0, 14: 0, 15: 0, 16: 0, 17: 0, 18: 0, 20: 0, 22: 0, 23: 0, 24: 0, 'morning': 0, 'beforenoon': 0.25, 'afternoon': 0.5, 'evening': 0.25}, ('istvan-HP-ProBook-650-G1', 'PackageKit'): {12: 0.25555555555555554, 13: 0.23333333333333334, 11: 0.12222222222222222, 22: 0.12222222222222222, 18: 0.12222222222222222, 8: 0.1111111111111111, 10: 0.011111111111111112, 21: 0.011111111111111112, 19: 0.011111111111111112, 0: 0, 1: 0, 2: 0, 3: 0, 4: 0, 5: 0, 6: 0, 7: 0, 9: 0, 14: 0, 15: 0, 16: 0, 17: 0, 20: 0, 23: 0, 24: 0, 'morning': 0, 'beforenoon': 0.24444444444444444, 'afternoon': 0.4888888888888889, 'evening': 0.26666666666666666}, ('istvan-HP-ProBook-650-G1', 'gsd-sharing'): {12: 0.4, 8: 0.13333333333333333, 10: 0.13333333333333333, 22: 0.13333333333333333, 21: 0.06666666666666667, 19: 0.06666666666666667, 13: 0.06666666666666667, 0: 0, 1: 0, 2: 0, 3: 0, 4: 0, 5: 0, 6: 0, 7: 0, 9: 0, 11: 0, 14: 0, 15: 0, 16: 0, 17: 0, 18: 0, 20: 0, 23: 0, 24: 0, 'morning': 0, 'beforenoon': 0.26666666666666666, 'afternoon': 0.4666666666666667, 'evening': 0.26666666666666666}, ('istvan-HP-ProBook-650-G1', 'spice-vdagent'): {12: 0.3125, 13: 0.1875, 8: 0.125, 10: 0.0625, 11: 0.0625, 21: 0.0625, 22: 0.0625, 19: 0.0625, 18: 0.0625, 0: 0, 1: 0, 2: 0, 3: 0, 4: 0, 5: 0, 6: 0, 7: 0, 9: 0, 14: 0, 15: 0, 16: 0, 17: 0, 20: 0, 23: 0, 24: 0, 'morning': 0, 'beforenoon': 0.25, 'afternoon': 0.5, 'evening': 0.25}, ('istvan-HP-ProBook-650-G1', 'xbrlapi.desktop'): {12: 0.375, 8: 0.125, 10: 0.125, 21: 0.125, 19: 0.125, 13: 0.125, 0: 0, 1: 0, 2: 0, 3: 0, 4: 0, 5: 0, 6: 0, 7: 0, 9: 0, 11: 0, 14: 0, 15: 0, 16: 0, 17: 0, 18: 0, 20: 0, 22: 0, 23: 0, 24: 0, 'morning': 0, 'beforenoon': 0.25, 'afternoon': 0.5, 'evening': 0.25}, ('istvan-HP-ProBook-650-G1', 'gsd-media-keys'): {12: 0.275, 13: 0.175, 8: 0.1, 10: 0.075, 18: 0.075, 14: 0.05, 11: 0.05, 21: 0.05, 22: 0.05, 19: 0.05, 17: 0.025, 15: 0.025, 0: 0, 1: 0, 2: 0, 3: 0, 4: 0, 5: 0, 6: 0, 7: 0, 9: 0, 16: 0, 20: 0, 23: 0, 24: 0, 'morning': 0, 'beforenoon': 0.22499999999999998, 'afternoon': 0.55, 'evening': 0.22499999999999998}, ('istvan-HP-ProBook-650-G1', 'systemd-timesyncd'): {12: 0.375, 8: 0.125, 10: 0.125, 20: 0.125, 18: 0.125, 13: 0.125, 0: 0, 1: 0, 2: 0, 3: 0, 4: 0, 5: 0, 6: 0, 7: 0, 9: 0, 11: 0, 14: 0, 15: 0, 16: 0, 17: 0, 19: 0, 21: 0, 22: 0, 23: 0, 24: 0, 'morning': 0, 'beforenoon': 0.25, 'afternoon': 0.5, 'evening': 0.25}, ('istvan-HP-ProBook-650-G1', 'whoopsie'): {0: 0.47619047619047616, 12: 0.14285714285714285, 14: 0.14285714285714285, 8: 0.047619047619047616, 10: 0.047619047619047616, 21: 0.047619047619047616, 19: 0.047619047619047616, 13: 0.047619047619047616, 1: 0, 2: 0, 3: 0, 4: 0, 5: 0, 6: 0, 7: 0, 9: 0, 11: 0, 15: 0, 16: 0, 17: 0, 18: 0, 20: 0, 22: 0, 23: 0, 24: 0, 'morning': 0.47619047619047616, 'beforenoon': 0.09523809523809523, 'afternoon': 0.3333333333333333, 'evening': 0.09523809523809523}, ('istvan-HP-ProBook-650-G1', 'geoclue'): {14: 0.3, 12: 0.2, 8: 0.1, 0: 0.1, 10: 0.1, 20: 0.1, 17: 0.1, 1: 0, 2: 0, 3: 0, 4: 0, 5: 0, 6: 0, 7: 0, 9: 0, 11: 0, 13: 0, 15: 0, 16: 0, 18: 0, 19: 0, 21: 0, 22: 0, 23: 0, 24: 0, 'morning': 0.1, 'beforenoon': 0.2, 'afternoon': 0.6, 'evening': 0.1}, ('istvan-HP-ProBook-650-G1', 'cracklib'): {12: 0.42857142857142855, 9: 0.14285714285714285, 11: 0.14285714285714285, 18: 0.14285714285714285, 13: 0.14285714285714285, 0: 0, 1: 0, 2: 0, 3: 0, 4: 0, 5: 0, 6: 0, 7: 0, 8: 0, 10: 0, 14: 0, 15: 0, 16: 0, 17: 0, 19: 0, 20: 0, 21: 0, 22: 0, 23: 0, 24: 0, 'morning': 0, 'beforenoon': 0.2857142857142857, 'afternoon': 0.5714285714285714, 'evening': 0.14285714285714285}, ('istvan-HP-ProBook-650-G1', 'CRON'): {13: 0.08196721311475409, 14: 0.08196721311475409, 15: 0.08196721311475409, 16: 0.08196721311475409, 17: 0.08196721311475409, 18: 0.08196721311475409, 21: 0.08196721311475409, 22: 0.08196721311475409, 20: 0.07377049180327869, 23: 0.07377049180327869, 19: 0.05737704918032787, 12: 0.04918032786885246, 11: 0.03278688524590164, 0: 0.02459016393442623, 9: 0.01639344262295082, 10: 0.01639344262295082, 1: 0, 2: 0, 3: 0, 4: 0, 5: 0, 6: 0, 7: 0, 8: 0, 24: 0, 'morning': 0.02459016393442623, 'beforenoon': 0.06557377049180328, 'afternoon': 0.4590163934426229, 'evening': 0.45081967213114754}, ('istvan-HP-ProBook-650-G1', 'pulseaudio'): {17: 0.26366559485530544, 13: 0.22347266881028938, 14: 0.1302250803858521, 16: 0.08038585209003216, 9: 0.07877813504823152, 15: 0.06591639871382636, 12: 0.06430868167202572, 11: 0.05627009646302251, 18: 0.028938906752411574, 10: 0.00482315112540193, 8: 0.001607717041800643, 22: 0.001607717041800643, 0: 0, 1: 0, 2: 0, 3: 0, 4: 0, 5: 0, 6: 0, 7: 0, 19: 0, 20: 0, 21: 0, 23: 0, 24: 0, 'morning': 0, 'beforenoon': 0.14147909967845662, 'afternoon': 0.8279742765273311, 'evening': 0.03054662379421222}, ('istvan-HP-ProBook-650-G1', 'gnome-keyring-daemon'): {13: 0.5, 11: 0.5, 0: 0, 1: 0, 2: 0, 3: 0, 4: 0, 5: 0, 6: 0, 7: 0, 8: 0, 9: 0, 10: 0, 12: 0, 14: 0, 15: 0, 16: 0, 17: 0, 18: 0, 19: 0, 20: 0, 21: 0, 22: 0, 23: 0, 24: 0, 'morning': 0, 'beforenoon': 0.5, 'afternoon': 0.5, 'evening': 0}, ('istvan-HP-ProBook-650-G1', 'sh'): {13: 0.24, 12: 0.24, 8: 0.12, 11: 0.12, 22: 0.12, 18: 0.12, 23: 0.04, 0: 0, 1: 0, 2: 0, 3: 0, 4: 0, 5: 0, 6: 0, 7: 0, 9: 0, 10: 0, 14: 0, 15: 0, 16: 0, 17: 0, 19: 0, 20: 0, 21: 0, 24: 0, 'morning': 0, 'beforenoon': 0.24, 'afternoon': 0.48, 'evening': 0.27999999999999997}, ('istvan-HP-ProBook-650-G1', 'gnome-keyring-ssh.desktop'): {13: 0.25, 12: 0.25, 8: 0.125, 11: 0.125, 22: 0.125, 18: 0.125, 0: 0, 1: 0, 2: 0, 3: 0, 4: 0, 5: 0, 6: 0, 7: 0, 9: 0, 10: 0, 14: 0, 15: 0, 16: 0, 17: 0, 19: 0, 20: 0, 21: 0, 23: 0, 24: 0, 'morning': 0, 'beforenoon': 0.25, 'afternoon': 0.5, 'evening': 0.25}, ('istvan-HP-ProBook-650-G1', 'gnome-keyring-secrets.desktop'): {13: 0.25, 12: 0.25, 8: 0.125, 11: 0.125, 22: 0.125, 18: 0.125, 0: 0, 1: 0, 2: 0, 3: 0, 4: 0, 5: 0, 6: 0, 7: 0, 9: 0, 10: 0, 14: 0, 15: 0, 16: 0, 17: 0, 19: 0, 20: 0, 21: 0, 23: 0, 24: 0, 'morning': 0, 'beforenoon': 0.25, 'afternoon': 0.5, 'evening': 0.25}, ('istvan-HP-ProBook-650-G1', 'gnome-keyring-pkcs11.desktop'): {13: 0.25, 12: 0.25, 8: 0.125, 11: 0.125, 22: 0.125, 18: 0.125, 0: 0, 1: 0, 2: 0, 3: 0, 4: 0, 5: 0, 6: 0, 7: 0, 9: 0, 10: 0, 14: 0, 15: 0, 16: 0, 17: 0, 19: 0, 20: 0, 21: 0, 23: 0, 24: 0, 'morning': 0, 'beforenoon': 0.25, 'afternoon': 0.5, 'evening': 0.25}, ('istvan-HP-ProBook-650-G1', 'snapd-desktop-i'): {13: 0.24561403508771928, 12: 0.24561403508771928, 8: 0.12280701754385964, 11: 0.12280701754385964, 22: 0.12280701754385964, 18: 0.12280701754385964, 23: 0.017543859649122806, 0: 0, 1: 0, 2: 0, 3: 0, 4: 0, 5: 0, 6: 0, 7: 0, 9: 0, 10: 0, 14: 0, 15: 0, 16: 0, 17: 0, 19: 0, 20: 0, 21: 0, 24: 0, 'morning': 0, 'beforenoon': 0.24561403508771928, 'afternoon': 0.49122807017543857, 'evening': 0.2631578947368421}, ('istvan-HP-ProBook-650-G1', 'at-spi-dbus-bus.desktop'): {13: 0.25, 12: 0.25, 8: 0.125, 11: 0.125, 22: 0.125, 18: 0.125, 0: 0, 1: 0, 2: 0, 3: 0, 4: 0, 5: 0, 6: 0, 7: 0, 9: 0, 10: 0, 14: 0, 15: 0, 16: 0, 17: 0, 19: 0, 20: 0, 21: 0, 23: 0, 24: 0, 'morning': 0, 'beforenoon': 0.25, 'afternoon': 0.5, 'evening': 0.25}, ('istvan-HP-ProBook-650-G1', 'at-spi2-registr'): {13: 0.2222222222222222, 12: 0.2222222222222222, 19: 0.1111111111111111, 8: 0.1111111111111111, 11: 0.1111111111111111, 22: 0.1111111111111111, 18: 0.1111111111111111, 0: 0, 1: 0, 2: 0, 3: 0, 4: 0, 5: 0, 6: 0, 7: 0, 9: 0, 10: 0, 14: 0, 15: 0, 16: 0, 17: 0, 20: 0, 21: 0, 23: 0, 24: 0, 'morning': 0, 'beforenoon': 0.2222222222222222, 'afternoon': 0.4444444444444444, 'evening': 0.3333333333333333}, ('istvan-HP-ProBook-650-G1', 'gsd-sound'): {13: 1.0, 0: 0, 1: 0, 2: 0, 3: 0, 4: 0, 5: 0, 6: 0, 7: 0, 8: 0, 9: 0, 10: 0, 11: 0, 12: 0, 14: 0, 15: 0, 16: 0, 17: 0, 18: 0, 19: 0, 20: 0, 21: 0, 22: 0, 23: 0, 24: 0, 'morning': 0, 'beforenoon': 0, 'afternoon': 1.0, 'evening': 0}, ('istvan-HP-ProBook-650-G1', 'gsd-color'): {12: 0.26666666666666666, 13: 0.2, 8: 0.13333333333333333, 11: 0.13333333333333333, 22: 0.13333333333333333, 18: 0.13333333333333333, 0: 0, 1: 0, 2: 0, 3: 0, 4: 0, 5: 0, 6: 0, 7: 0, 9: 0, 10: 0, 14: 0, 15: 0, 16: 0, 17: 0, 19: 0, 20: 0, 21: 0, 23: 0, 24: 0, 'morning': 0, 'beforenoon': 0.26666666666666666, 'afternoon': 0.4666666666666667, 'evening': 0.26666666666666666}, ('istvan-HP-ProBook-650-G1', 'fwupd'): {13: 0.16666666666666666, 15: 0.16666666666666666, 12: 0.16666666666666666, 8: 0.08333333333333333, 16: 0.08333333333333333, 23: 0.08333333333333333, 11: 0.08333333333333333, 22: 0.08333333333333333, 18: 0.08333333333333333, 0: 0, 1: 0, 2: 0, 3: 0, 4: 0, 5: 0, 6: 0, 7: 0, 9: 0, 10: 0, 14: 0, 17: 0, 19: 0, 20: 0, 21: 0, 24: 0, 'morning': 0, 'beforenoon': 0.16666666666666666, 'afternoon': 0.5833333333333334, 'evening': 0.25}, ('istvan-HP-ProBook-650-G1', 'snap-store'): {13: 0.264, 12: 0.248, 11: 0.128, 8: 0.12, 22: 0.12, 18: 0.12, 0: 0, 1: 0, 2: 0, 3: 0, 4: 0, 5: 0, 6: 0, 7: 0, 9: 0, 10: 0, 14: 0, 15: 0, 16: 0, 17: 0, 19: 0, 20: 0, 21: 0, 23: 0, 24: 0, 'morning': 0, 'beforenoon': 0.248, 'afternoon': 0.512, 'evening': 0.24}, ('istvan-HP-ProBook-650-G1', 'xdg-document-po'): {13: 1.0, 0: 0, 1: 0, 2: 0, 3: 0, 4: 0, 5: 0, 6: 0, 7: 0, 8: 0, 9: 0, 10: 0, 11: 0, 12: 0, 14: 0, 15: 0, 16: 0, 17: 0, 18: 0, 19: 0, 20: 0, 21: 0, 22: 0, 23: 0, 24: 0, 'morning': 0, 'beforenoon': 0, 'afternoon': 1.0, 'evening': 0}, ('istvan-HP-ProBook-650-G1', 'tracker-miner-fs-3'): {13: 0.2222222222222222, 12: 0.2222222222222222, 23: 0.1111111111111111, 8: 0.1111111111111111, 11: 0.1111111111111111, 22: 0.1111111111111111, 18: 0.1111111111111111, 0: 0, 1: 0, 2: 0, 3: 0, 4: 0, 5: 0, 6: 0, 7: 0, 9: 0, 10: 0, 14: 0, 15: 0, 16: 0, 17: 0, 19: 0, 20: 0, 21: 0, 24: 0, 'morning': 0, 'beforenoon': 0.2222222222222222, 'afternoon': 0.4444444444444444, 'evening': 0.3333333333333333}, ('istvan-HP-ProBook-650-G1', 'packagekitd'): {13: 0.29213483146067415, 12: 0.2247191011235955, 22: 0.14606741573033707, 8: 0.11235955056179775, 11: 0.11235955056179775, 18: 0.11235955056179775, 0: 0, 1: 0, 2: 0, 3: 0, 4: 0, 5: 0, 6: 0, 7: 0, 9: 0, 10: 0, 14: 0, 15: 0, 16: 0, 17: 0, 19: 0, 20: 0, 21: 0, 23: 0, 24: 0, 'morning': 0, 'beforenoon': 0.2247191011235955, 'afternoon': 0.5168539325842696, 'evening': 0.2584269662921348}, ('istvan-HP-ProBook-650-G1', 'google-chrome.desktop'): {17: 0.44554455445544555, 20: 0.12211221122112212, 14: 0.0858085808580858, 21: 0.07590759075907591, 9: 0.066006600660066, 22: 0.04950495049504951, 13: 0.033003300330033, 15: 0.026402640264026403, 10: 0.026402640264026403, 18: 0.019801980198019802, 12: 0.019801980198019802, 19: 0.013201320132013201, 16: 0.009900990099009901, 11: 0.0033003300330033004, 23: 0.0033003300330033004, 0: 0, 1: 0, 2: 0, 3: 0, 4: 0, 5: 0, 6: 0, 7: 0, 8: 0, 24: 0, 'morning': 0, 'beforenoon': 0.0957095709570957, 'afternoon': 0.6204620462046204, 'evening': 0.2838283828382838}, ('istvan-HP-ProBook-650-G1', 'fwupdmgr'): {16: 0.9253731343283582, 15: 0.07462686567164178, 0: 0, 1: 0, 2: 0, 3: 0, 4: 0, 5: 0, 6: 0, 7: 0, 8: 0, 9: 0, 10: 0, 11: 0, 12: 0, 13: 0, 14: 0, 17: 0, 18: 0, 19: 0, 20: 0, 21: 0, 22: 0, 23: 0, 24: 0, 'morning': 0, 'beforenoon': 0, 'afternoon': 1.0, 'evening': 0}, ('istvan-HP-ProBook-650-G1', 'windscribe.desktop'): {21: 0.30414746543778803, 18: 0.2903225806451613, 17: 0.2534562211981567, 22: 0.12211981566820276, 19: 0.01152073732718894, 0: 0.01152073732718894, 23: 0.004608294930875576, 20: 0.002304147465437788, 1: 0, 2: 0, 3: 0, 4: 0, 5: 0, 6: 0, 7: 0, 8: 0, 9: 0, 10: 0, 11: 0, 12: 0, 13: 0, 14: 0, 15: 0, 16: 0, 24: 0, 'morning': 0.01152073732718894, 'beforenoon': 0, 'afternoon': 0.2534562211981567, 'evening': 0.7350230414746544}, ('istvan-HP-ProBook-650-G1', 'update-systemd-resolved'): {21: 0.42857142857142855, 18: 0.2857142857142857, 17: 0.14285714285714285, 22: 0.14285714285714285, 0: 0, 1: 0, 2: 0, 3: 0, 4: 0, 5: 0, 6: 0, 7: 0, 8: 0, 9: 0, 10: 0, 11: 0, 12: 0, 13: 0, 14: 0, 15: 0, 16: 0, 19: 0, 20: 0, 23: 0, 24: 0, 'morning': 0, 'beforenoon': 0, 'afternoon': 0.14285714285714285, 'evening': 0.857142857142857}, ('istvan-HP-ProBook-650-G1', 'obexd'): {17: 0.25, 14: 0.25, 11: 0.25, 19: 0.25, 0: 0, 1: 0, 2: 0, 3: 0, 4: 0, 5: 0, 6: 0, 7: 0, 8: 0, 9: 0, 10: 0, 12: 0, 13: 0, 15: 0, 16: 0, 18: 0, 20: 0, 21: 0, 22: 0, 23: 0, 24: 0, 'morning': 0, 'beforenoon': 0.25, 'afternoon': 0.5, 'evening': 0.25}, ('istvan-HP-ProBook-650-G1', 'gnome-control-c'): {17: 0.5, 20: 0.5, 0: 0, 1: 0, 2: 0, 3: 0, 4: 0, 5: 0, 6: 0, 7: 0, 8: 0, 9: 0, 10: 0, 11: 0, 12: 0, 13: 0, 14: 0, 15: 0, 16: 0, 18: 0, 19: 0, 21: 0, 22: 0, 23: 0, 24: 0, 'morning': 0, 'beforenoon': 0, 'afternoon': 0.5, 'evening': 0.5}, ('istvan-HP-ProBook-650-G1', 'org.gnome.Nautilus'): {21: 0.5609756097560976, 9: 0.12195121951219512, 22: 0.0975609756097561, 14: 0.04878048780487805, 23: 0.04878048780487805, 18: 0.04878048780487805, 17: 0.024390243902439025, 0: 0.024390243902439025, 13: 0.024390243902439025, 1: 0, 2: 0, 3: 0, 4: 0, 5: 0, 6: 0, 7: 0, 8: 0, 10: 0, 11: 0, 12: 0, 15: 0, 16: 0, 19: 0, 20: 0, 24: 0, 'morning': 0.024390243902439025, 'beforenoon': 0.12195121951219512, 'afternoon': 0.0975609756097561, 'evening': 0.7560975609756099}, ('istvan-HP-ProBook-650-G1', 'vsce-sign'): {18: 0.3333333333333333, 19: 0.3333333333333333, 17: 0.3333333333333333, 0: 0, 1: 0, 2: 0, 3: 0, 4: 0, 5: 0, 6: 0, 7: 0, 8: 0, 9: 0, 10: 0, 11: 0, 12: 0, 13: 0, 14: 0, 15: 0, 16: 0, 20: 0, 21: 0, 22: 0, 23: 0, 24: 0, 'morning': 0, 'beforenoon': 0, 'afternoon': 0.3333333333333333, 'evening': 0.6666666666666666}, ('istvan-HP-ProBook-650-G1', 'mongod'): {18: 0.2, 13: 0.2, 22: 0.2, 17: 0.2, 14: 0.2, 0: 0, 1: 0, 2: 0, 3: 0, 4: 0, 5: 0, 6: 0, 7: 0, 8: 0, 9: 0, 10: 0, 11: 0, 12: 0, 15: 0, 16: 0, 19: 0, 20: 0, 21: 0, 23: 0, 24: 0, 'morning': 0, 'beforenoon': 0, 'afternoon': 0.6000000000000001, 'evening': 0.4}, ('istvan-HP-ProBook-650-G1', 'gnome-calculato'): {21: 0.6666666666666666, 22: 0.3333333333333333, 0: 0, 1: 0, 2: 0, 3: 0, 4: 0, 5: 0, 6: 0, 7: 0, 8: 0, 9: 0, 10: 0, 11: 0, 12: 0, 13: 0, 14: 0, 15: 0, 16: 0, 17: 0, 18: 0, 19: 0, 20: 0, 23: 0, 24: 0, 'morning': 0, 'beforenoon': 0, 'afternoon': 0, 'evening': 1.0}, ('istvan-HP-ProBook-650-G1', 'update-notifier-crash'): {0: 0.625, 14: 0.375, 1: 0, 2: 0, 3: 0, 4: 0, 5: 0, 6: 0, 7: 0, 8: 0, 9: 0, 10: 0, 11: 0, 12: 0, 13: 0, 15: 0, 16: 0, 17: 0, 18: 0, 19: 0, 20: 0, 21: 0, 22: 0, 23: 0, 24: 0, 'morning': 0.625, 'beforenoon': 0, 'afternoon': 0.375, 'evening': 0}, ('istvan-HP-ProBook-650-G1', 'fstrim'): {13: 1.0, 0: 0, 1: 0, 2: 0, 3: 0, 4: 0, 5: 0, 6: 0, 7: 0, 8: 0, 9: 0, 10: 0, 11: 0, 12: 0, 14: 0, 15: 0, 16: 0, 17: 0, 18: 0, 19: 0, 20: 0, 21: 0, 22: 0, 23: 0, 24: 0, 'morning': 0, 'beforenoon': 0, 'afternoon': 1.0, 'evening': 0}, ('istvan-HP-ProBook-650-G1', 'update-notifier.desktop'): {14: 0.5, 13: 0.5, 0: 0, 1: 0, 2: 0, 3: 0, 4: 0, 5: 0, 6: 0, 7: 0, 8: 0, 9: 0, 10: 0, 11: 0, 12: 0, 15: 0, 16: 0, 17: 0, 18: 0, 19: 0, 20: 0, 21: 0, 22: 0, 23: 0, 24: 0, 'morning': 0, 'beforenoon': 0, 'afternoon': 1.0, 'evening': 0}, ('istvan-HP-ProBook-650-G1', 'append_log.py'): {16: 0.5652173913043478, 18: 0.17391304347826086, 17: 0.13043478260869565, 19: 0.13043478260869565, 0: 0, 1: 0, 2: 0, 3: 0, 4: 0, 5: 0, 6: 0, 7: 0, 8: 0, 9: 0, 10: 0, 11: 0, 12: 0, 13: 0, 14: 0, 15: 0, 20: 0, 21: 0, 22: 0, 23: 0, 24: 0, 'morning': 0, 'beforenoon': 0, 'afternoon': 0.6956521739130435, 'evening': 0.30434782608695654}, ('istvan-HP-ProBook-650-G1', 'demo'): {16: 0.8666666666666667, 17: 0.13333333333333333, 0: 0, 1: 0, 2: 0, 3: 0, 4: 0, 5: 0, 6: 0, 7: 0, 8: 0, 9: 0, 10: 0, 11: 0, 12: 0, 13: 0, 14: 0, 15: 0, 18: 0, 19: 0, 20: 0, 21: 0, 22: 0, 23: 0, 24: 0, 'morning': 0, 'beforenoon': 0, 'afternoon': 1.0, 'evening': 0}, ('istvan-HP-ProBook-650-G1', 'vlc'): {21: 0.2777777777777778, 22: 0.19444444444444445, 9: 0.16666666666666666, 12: 0.1111111111111111, 23: 0.08333333333333333, 14: 0.05555555555555555, 11: 0.05555555555555555, 15: 0.027777777777777776, 0: 0.027777777777777776, 1: 0, 2: 0, 3: 0, 4: 0, 5: 0, 6: 0, 7: 0, 8: 0, 10: 0, 13: 0, 16: 0, 17: 0, 18: 0, 19: 0, 20: 0, 24: 0, 'morning': 0.027777777777777776, 'beforenoon': 0.2222222222222222, 'afternoon': 0.19444444444444442, 'evening': 0.5555555555555556}, ('istvan-HP-ProBook-650-G1', 'gnome-calendar'): {23: 1.0, 0: 0, 1: 0, 2: 0, 3: 0, 4: 0, 5: 0, 6: 0, 7: 0, 8: 0, 9: 0, 10: 0, 11: 0, 12: 0, 13: 0, 14: 0, 15: 0, 16: 0, 17: 0, 18: 0, 19: 0, 20: 0, 21: 0, 22: 0, 24: 0, 'morning': 0, 'beforenoon': 0, 'afternoon': 0, 'evening': 1.0}, ('istvan-HP-ProBook-650-G1', 'seahorse'): {23: 1.0, 0: 0, 1: 0, 2: 0, 3: 0, 4: 0, 5: 0, 6: 0, 7: 0, 8: 0, 9: 0, 10: 0, 11: 0, 12: 0, 13: 0, 14: 0, 15: 0, 16: 0, 17: 0, 18: 0, 19: 0, 20: 0, 21: 0, 22: 0, 24: 0, 'morning': 0, 'beforenoon': 0, 'afternoon': 0, 'evening': 1.0}, ('istvan-HP-ProBook-650-G1', 'xdg-desktop-por'): {23: 0.6666666666666666, 14: 0.3333333333333333, 0: 0, 1: 0, 2: 0, 3: 0, 4: 0, 5: 0, 6: 0, 7: 0, 8: 0, 9: 0, 10: 0, 11: 0, 12: 0, 13: 0, 15: 0, 16: 0, 17: 0, 18: 0, 19: 0, 20: 0, 21: 0, 22: 0, 24: 0, 'morning': 0, 'beforenoon': 0, 'afternoon': 0.3333333333333333, 'evening': 0.6666666666666666}, ('istvan-HP-ProBook-650-G1', 'evince'): {23: 1.0, 0: 0, 1: 0, 2: 0, 3: 0, 4: 0, 5: 0, 6: 0, 7: 0, 8: 0, 9: 0, 10: 0, 11: 0, 12: 0, 13: 0, 14: 0, 15: 0, 16: 0, 17: 0, 18: 0, 19: 0, 20: 0, 21: 0, 22: 0, 24: 0, 'morning': 0, 'beforenoon': 0, 'afternoon': 0, 'evening': 1.0}, ('istvan-HP-ProBook-650-G1', 'evolution-alarm'): {23: 1.0, 0: 0, 1: 0, 2: 0, 3: 0, 4: 0, 5: 0, 6: 0, 7: 0, 8: 0, 9: 0, 10: 0, 11: 0, 12: 0, 13: 0, 14: 0, 15: 0, 16: 0, 17: 0, 18: 0, 19: 0, 20: 0, 21: 0, 22: 0, 24: 0, 'morning': 0, 'beforenoon': 0, 'afternoon': 0, 'evening': 1.0}, ('istvan-HP-ProBook-650-G1', 'gvfsd'): {23: 0.25, 8: 0.25, 22: 0.25, 12: 0.25, 0: 0, 1: 0, 2: 0, 3: 0, 4: 0, 5: 0, 6: 0, 7: 0, 9: 0, 10: 0, 11: 0, 13: 0, 14: 0, 15: 0, 16: 0, 17: 0, 18: 0, 19: 0, 20: 0, 21: 0, 24: 0, 'morning': 0, 'beforenoon': 0.25, 'afternoon': 0.25, 'evening': 0.5}, ('istvan-HP-ProBook-650-G1', 'evolution-calen'): {23: 1.0, 0: 0, 1: 0, 2: 0, 3: 0, 4: 0, 5: 0, 6: 0, 7: 0, 8: 0, 9: 0, 10: 0, 11: 0, 12: 0, 13: 0, 14: 0, 15: 0, 16: 0, 17: 0, 18: 0, 19: 0, 20: 0, 21: 0, 22: 0, 24: 0, 'morning': 0, 'beforenoon': 0, 'afternoon': 0, 'evening': 1.0}, ('istvan-HP-ProBook-650-G1', 'evolution-addre'): {23: 1.0, 0: 0, 1: 0, 2: 0, 3: 0, 4: 0, 5: 0, 6: 0, 7: 0, 8: 0, 9: 0, 10: 0, 11: 0, 12: 0, 13: 0, 14: 0, 15: 0, 16: 0, 17: 0, 18: 0, 19: 0, 20: 0, 21: 0, 22: 0, 24: 0, 'morning': 0, 'beforenoon': 0, 'afternoon': 0, 'evening': 1.0}, ('istvan-HP-ProBook-650-G1', 'ibus-daemon'): {8: 0.5, 18: 0.5, 0: 0, 1: 0, 2: 0, 3: 0, 4: 0, 5: 0, 6: 0, 7: 0, 9: 0, 10: 0, 11: 0, 12: 0, 13: 0, 14: 0, 15: 0, 16: 0, 17: 0, 19: 0, 20: 0, 21: 0, 22: 0, 23: 0, 24: 0, 'morning': 0, 'beforenoon': 0.5, 'afternoon': 0, 'evening': 0.5}, ('istvan-HP-ProBook-650-G1', 'gdm3'): {13: 0.5, 8: 0.25, 11: 0.25, 0: 0, 1: 0, 2: 0, 3: 0, 4: 0, 5: 0, 6: 0, 7: 0, 9: 0, 10: 0, 12: 0, 14: 0, 15: 0, 16: 0, 17: 0, 18: 0, 19: 0, 20: 0, 21: 0, 22: 0, 23: 0, 24: 0, 'morning': 0, 'beforenoon': 0.5, 'afternoon': 0.5, 'evening': 0}, ('istvan-HP-ProBook-650-G1', 'tracker-extract'): {9: 1.0, 0: 0, 1: 0, 2: 0, 3: 0, 4: 0, 5: 0, 6: 0, 7: 0, 8: 0, 10: 0, 11: 0, 12: 0, 13: 0, 14: 0, 15: 0, 16: 0, 17: 0, 18: 0, 19: 0, 20: 0, 21: 0, 22: 0, 23: 0, 24: 0, 'morning': 0, 'beforenoon': 1.0, 'afternoon': 0, 'evening': 0}, ('istvan-HP-ProBook-650-G1', 'org.freedesktop.FileManager1'): {11: 0.5, 12: 0.5, 0: 0, 1: 0, 2: 0, 3: 0, 4: 0, 5: 0, 6: 0, 7: 0, 8: 0, 9: 0, 10: 0, 13: 0, 14: 0, 15: 0, 16: 0, 17: 0, 18: 0, 19: 0, 20: 0, 21: 0, 22: 0, 23: 0, 24: 0, 'morning': 0, 'beforenoon': 0.5, 'afternoon': 0.5, 'evening': 0}, ('istvan-HP-ProBook-650-G1', 'ntfs-3g'): {13: 0.5833333333333334, 23: 0.4166666666666667, 0: 0, 1: 0, 2: 0, 3: 0, 4: 0, 5: 0, 6: 0, 7: 0, 8: 0, 9: 0, 10: 0, 11: 0, 12: 0, 14: 0, 15: 0, 16: 0, 17: 0, 18: 0, 19: 0, 20: 0, 21: 0, 22: 0, 24: 0, 'morning': 0, 'beforenoon': 0, 'afternoon': 0.5833333333333334, 'evening': 0.4166666666666667}, ('istvan-HP-ProBook-650-G1', 'nm-dispatcher'): {13: 1.0, 0: 0, 1: 0, 2: 0, 3: 0, 4: 0, 5: 0, 6: 0, 7: 0, 8: 0, 9: 0, 10: 0, 11: 0, 12: 0, 14: 0, 15: 0, 16: 0, 17: 0, 18: 0, 19: 0, 20: 0, 21: 0, 22: 0, 23: 0, 24: 0, 'morning': 0, 'beforenoon': 0, 'afternoon': 1.0, 'evening': 0}, ('istvan-HP-ProBook-650-G1', 'gnome-shell-por'): {14: 1.0, 0: 0, 1: 0, 2: 0, 3: 0, 4: 0, 5: 0, 6: 0, 7: 0, 8: 0, 9: 0, 10: 0, 11: 0, 12: 0, 13: 0, 15: 0, 16: 0, 17: 0, 18: 0, 19: 0, 20: 0, 21: 0, 22: 0, 23: 0, 24: 0, 'morning': 0, 'beforenoon': 0, 'afternoon': 1.0, 'evening': 0}, ('istvan-HP-ProBook-650-G1', 'sudo'): {0: 0, 1: 0, 2: 0, 3: 0, 4: 0, 5: 0, 6: 0, 7: 0, 8: 0, 9: 0, 10: 0, 11: 0, 12: 0, 13: 0, 14: 0, 15: 0, 16: 0, 17: 0, 18: 0, 19: 0, 20: 0, 21: 0, 22: 0, 23: 0, 24: 0, 'morning': 0, 'beforenoon': 0, 'afternoon': 0, 'evening': 0}, ('istvan-HP-ProBook-650-G1', 'istvan'): {0: 0, 1: 0, 2: 0, 3: 0, 4: 0, 5: 0, 6: 0, 7: 0, 8: 0, 9: 0, 10: 0, 11: 0, 12: 0, 13: 0, 14: 0, 15: 0, 16: 0, 17: 0, 18: 0, 19: 0, 20: 0, 21: 0, 22: 0, 23: 0, 24: 0, 'morning': 0, 'beforenoon': 0, 'afternoon': 0, 'evening': 0}, ('istvan-HP-ProBook-650-G1', 'sshd'): {0: 0, 1: 0, 2: 0, 3: 0, 4: 0, 5: 0, 6: 0, 7: 0, 8: 0, 9: 0, 10: 0, 11: 0, 12: 0, 13: 0, 14: 0, 15: 0, 16: 0, 17: 0, 18: 0, 19: 0, 20: 0, 21: 0, 22: 0, 23: 0, 24: 0, 'morning': 0, 'beforenoon': 0, 'afternoon': 0, 'evening': 0}, ('istvan-HP-ProBook-650-G1', 'polkitd(authority=local)'): {0: 0, 1: 0, 2: 0, 3: 0, 4: 0, 5: 0, 6: 0, 7: 0, 8: 0, 9: 0, 10: 0, 11: 0, 12: 0, 13: 0, 14: 0, 15: 0, 16: 0, 17: 0, 18: 0, 19: 0, 20: 0, 21: 0, 22: 0, 23: 0, 24: 0, 'morning': 0, 'beforenoon': 0, 'afternoon': 0, 'evening': 0}, ('istvan-HP-ProBook-650-G1', 'lightdm'): {0: 0, 1: 0, 2: 0, 3: 0, 4: 0, 5: 0, 6: 0, 7: 0, 8: 0, 9: 0, 10: 0, 11: 0, 12: 0, 13: 0, 14: 0, 15: 0, 16: 0, 17: 0, 18: 0, 19: 0, 20: 0, 21: 0, 22: 0, 23: 0, 24: 0, 'morning': 0, 'beforenoon': 0, 'afternoon': 0, 'evening': 0}, ('istvan-HP-ProBook-650-G1', 'dhcpcd'): {0: 0, 1: 0, 2: 0, 3: 0, 4: 0, 5: 0, 6: 0, 7: 0, 8: 0, 9: 0, 10: 0, 11: 0, 12: 0, 13: 0, 14: 0, 15: 0, 16: 0, 17: 0, 18: 0, 19: 0, 20: 0, 21: 0, 22: 0, 23: 0, 24: 0, 'morning': 0, 'beforenoon': 0, 'afternoon': 0, 'evening': 0}, ('istvan-HP-ProBook-650-G1', 'systemd-logind'): {0: 0, 1: 0, 2: 0, 3: 0, 4: 0, 5: 0, 6: 0, 7: 0, 8: 0, 9: 0, 10: 0, 11: 0, 12: 0, 13: 0, 14: 0, 15: 0, 16: 0, 17: 0, 18: 0, 19: 0, 20: 0, 21: 0, 22: 0, 23: 0, 24: 0, 'morning': 0, 'beforenoon': 0, 'afternoon': 0, 'evening': 0}, ('raspberrypi', 'systemd'): {13: 0.762962962962963, 12: 0.23703703703703705, 0: 0, 1: 0, 2: 0, 3: 0, 4: 0, 5: 0, 6: 0, 7: 0, 8: 0, 9: 0, 10: 0, 11: 0, 14: 0, 15: 0, 16: 0, 17: 0, 18: 0, 19: 0, 20: 0, 21: 0, 22: 0, 23: 0, 24: 0, 'morning': 0, 'beforenoon': 0, 'afternoon': 1.0, 'evening': 0}, ('raspberrypi', 'update-notifier'): {0: 0, 1: 0, 2: 0, 3: 0, 4: 0, 5: 0, 6: 0, 7: 0, 8: 0, 9: 0, 10: 0, 11: 0, 12: 0, 13: 0, 14: 0, 15: 0, 16: 0, 17: 0, 18: 0, 19: 0, 20: 0, 21: 0, 22: 0, 23: 0, 24: 0, 'morning': 0, 'beforenoon': 0, 'afternoon': 0, 'evening': 0}, ('raspberrypi', 'rtkit-daemon'): {0: 0, 1: 0, 2: 0, 3: 0, 4: 0, 5: 0, 6: 0, 7: 0, 8: 0, 9: 0, 10: 0, 11: 0, 12: 0, 13: 0, 14: 0, 15: 0, 16: 0, 17: 0, 18: 0, 19: 0, 20: 0, 21: 0, 22: 0, 23: 0, 24: 0, 'morning': 0, 'beforenoon': 0, 'afternoon': 0, 'evening': 0}, ('raspberrypi', 'NetworkManager'): {0: 0, 1: 0, 2: 0, 3: 0, 4: 0, 5: 0, 6: 0, 7: 0, 8: 0, 9: 0, 10: 0, 11: 0, 12: 0, 13: 0, 14: 0, 15: 0, 16: 0, 17: 0, 18: 0, 19: 0, 20: 0, 21: 0, 22: 0, 23: 0, 24: 0, 'morning': 0, 'beforenoon': 0, 'afternoon': 0, 'evening': 0}, ('raspberrypi', 'avahi-daemon'): {0: 0, 1: 0, 2: 0, 3: 0, 4: 0, 5: 0, 6: 0, 7: 0, 8: 0, 9: 0, 10: 0, 11: 0, 12: 0, 13: 0, 14: 0, 15: 0, 16: 0, 17: 0, 18: 0, 19: 0, 20: 0, 21: 0, 22: 0, 23: 0, 24: 0, 'morning': 0, 'beforenoon': 0, 'afternoon': 0, 'evening': 0}, ('raspberrypi', 'dbus-daemon'): {12: 1.0, 0: 0, 1: 0, 2: 0, 3: 0, 4: 0, 5: 0, 6: 0, 7: 0, 8: 0, 9: 0, 10: 0, 11: 0, 13: 0, 14: 0, 15: 0, 16: 0, 17: 0, 18: 0, 19: 0, 20: 0, 21: 0, 22: 0, 23: 0, 24: 0, 'morning': 0, 'beforenoon': 0, 'afternoon': 1.0, 'evening': 0}, ('raspberrypi', 'gnome-shell'): {0: 0, 1: 0, 2: 0, 3: 0, 4: 0, 5: 0, 6: 0, 7: 0, 8: 0, 9: 0, 10: 0, 11: 0, 12: 0, 13: 0, 14: 0, 15: 0, 16: 0, 17: 0, 18: 0, 19: 0, 20: 0, 21: 0, 22: 0, 23: 0, 24: 0, 'morning': 0, 'beforenoon': 0, 'afternoon': 0, 'evening': 0}, ('raspberrypi', 'ubuntu-appindicators@ubuntu.com'): {0: 0, 1: 0, 2: 0, 3: 0, 4: 0, 5: 0, 6: 0, 7: 0, 8: 0, 9: 0, 10: 0, 11: 0, 12: 0, 13: 0, 14: 0, 15: 0, 16: 0, 17: 0, 18: 0, 19: 0, 20: 0, 21: 0, 22: 0, 23: 0, 24: 0, 'morning': 0, 'beforenoon': 0, 'afternoon': 0, 'evening': 0}, ('raspberrypi', 'nautilus'): {0: 0, 1: 0, 2: 0, 3: 0, 4: 0, 5: 0, 6: 0, 7: 0, 8: 0, 9: 0, 10: 0, 11: 0, 12: 0, 13: 0, 14: 0, 15: 0, 16: 0, 17: 0, 18: 0, 19: 0, 20: 0, 21: 0, 22: 0, 23: 0, 24: 0, 'morning': 0, 'beforenoon': 0, 'afternoon': 0, 'evening': 0}, ('raspberrypi', 'kernel'): {0: 0, 1: 0, 2: 0, 3: 0, 4: 0, 5: 0, 6: 0, 7: 0, 8: 0, 9: 0, 10: 0, 11: 0, 12: 0, 13: 0, 14: 0, 15: 0, 16: 0, 17: 0, 18: 0, 19: 0, 20: 0, 21: 0, 22: 0, 23: 0, 24: 0, 'morning': 0, 'beforenoon': 0, 'afternoon': 0, 'evening': 0}, ('raspberrypi', 'bluetoothd'): {0: 0, 1: 0, 2: 0, 3: 0, 4: 0, 5: 0, 6: 0, 7: 0, 8: 0, 9: 0, 10: 0, 11: 0, 12: 0, 13: 0, 14: 0, 15: 0, 16: 0, 17: 0, 18: 0, 19: 0, 20: 0, 21: 0, 22: 0, 23: 0, 24: 0, 'morning': 0, 'beforenoon': 0, 'afternoon': 0, 'evening': 0}, ('raspberrypi', 'ModemManager'): {13: 1.0, 0: 0, 1: 0, 2: 0, 3: 0, 4: 0, 5: 0, 6: 0, 7: 0, 8: 0, 9: 0, 10: 0, 11: 0, 12: 0, 14: 0, 15: 0, 16: 0, 17: 0, 18: 0, 19: 0, 20: 0, 21: 0, 22: 0, 23: 0, 24: 0, 'morning': 0, 'beforenoon': 0, 'afternoon': 1.0, 'evening': 0}, ('raspberrypi', 'systemd-modules-load'): {0: 0, 1: 0, 2: 0, 3: 0, 4: 0, 5: 0, 6: 0, 7: 0, 8: 0, 9: 0, 10: 0, 11: 0, 12: 0, 13: 0, 14: 0, 15: 0, 16: 0, 17: 0, 18: 0, 19: 0, 20: 0, 21: 0, 22: 0, 23: 0, 24: 0, 'morning': 0, 'beforenoon': 0, 'afternoon': 0, 'evening': 0}, ('raspberrypi', 'systemd-udevd'): {0: 0, 1: 0, 2: 0, 3: 0, 4: 0, 5: 0, 6: 0, 7: 0, 8: 0, 9: 0, 10: 0, 11: 0, 12: 0, 13: 0, 14: 0, 15: 0, 16: 0, 17: 0, 18: 0, 19: 0, 20: 0, 21: 0, 22: 0, 23: 0, 24: 0, 'morning': 0, 'beforenoon': 0, 'afternoon': 0, 'evening': 0}, ('raspberrypi', 'mtp-probe'): {0: 0, 1: 0, 2: 0, 3: 0, 4: 0, 5: 0, 6: 0, 7: 0, 8: 0, 9: 0, 10: 0, 11: 0, 12: 0, 13: 0, 14: 0, 15: 0, 16: 0, 17: 0, 18: 0, 19: 0, 20: 0, 21: 0, 22: 0, 23: 0, 24: 0, 'morning': 0, 'beforenoon': 0, 'afternoon': 0, 'evening': 0}, ('raspberrypi', 'systemd-fsck'): {0: 0, 1: 0, 2: 0, 3: 0, 4: 0, 5: 0, 6: 0, 7: 0, 8: 0, 9: 0, 10: 0, 11: 0, 12: 0, 13: 0, 14: 0, 15: 0, 16: 0, 17: 0, 18: 0, 19: 0, 20: 0, 21: 0, 22: 0, 23: 0, 24: 0, 'morning': 0, 'beforenoon': 0, 'afternoon': 0, 'evening': 0}, ('raspberrypi', 'apparmor.systemd'): {0: 0, 1: 0, 2: 0, 3: 0, 4: 0, 5: 0, 6: 0, 7: 0, 8: 0, 9: 0, 10: 0, 11: 0, 12: 0, 13: 0, 14: 0, 15: 0, 16: 0, 17: 0, 18: 0, 19: 0, 20: 0, 21: 0, 22: 0, 23: 0, 24: 0, 'morning': 0, 'beforenoon': 0, 'afternoon': 0, 'evening': 0}, ('raspberrypi', 'systemd-resolved'): {0: 0, 1: 0, 2: 0, 3: 0, 4: 0, 5: 0, 6: 0, 7: 0, 8: 0, 9: 0, 10: 0, 11: 0, 12: 0, 13: 0, 14: 0, 15: 0, 16: 0, 17: 0, 18: 0, 19: 0, 20: 0, 21: 0, 22: 0, 23: 0, 24: 0, 'morning': 0, 'beforenoon': 0, 'afternoon': 0, 'evening': 0}, ('raspberrypi', 'snapd-apparmor'): {0: 0, 1: 0, 2: 0, 3: 0, 4: 0, 5: 0, 6: 0, 7: 0, 8: 0, 9: 0, 10: 0, 11: 0, 12: 0, 13: 0, 14: 0, 15: 0, 16: 0, 17: 0, 18: 0, 19: 0, 20: 0, 21: 0, 22: 0, 23: 0, 24: 0, 'morning': 0, 'beforenoon': 0, 'afternoon': 0, 'evening': 0}, ('raspberrypi', 'anacron'): {0: 0, 1: 0, 2: 0, 3: 0, 4: 0, 5: 0, 6: 0, 7: 0, 8: 0, 9: 0, 10: 0, 11: 0, 12: 0, 13: 0, 14: 0, 15: 0, 16: 0, 17: 0, 18: 0, 19: 0, 20: 0, 21: 0, 22: 0, 23: 0, 24: 0, 'morning': 0, 'beforenoon': 0, 'afternoon': 0, 'evening': 0}, ('raspberrypi', 'cron'): {0: 0, 1: 0, 2: 0, 3: 0, 4: 0, 5: 0, 6: 0, 7: 0, 8: 0, 9: 0, 10: 0, 11: 0, 12: 0, 13: 0, 14: 0, 15: 0, 16: 0, 17: 0, 18: 0, 19: 0, 20: 0, 21: 0, 22: 0, 23: 0, 24: 0, 'morning': 0, 'beforenoon': 0, 'afternoon': 0, 'evening': 0}, ('raspberrypi', 'apport'): {0: 0, 1: 0, 2: 0, 3: 0, 4: 0, 5: 0, 6: 0, 7: 0, 8: 0, 9: 0, 10: 0, 11: 0, 12: 0, 13: 0, 14: 0, 15: 0, 16: 0, 17: 0, 18: 0, 19: 0, 20: 0, 21: 0, 22: 0, 23: 0, 24: 0, 'morning': 0, 'beforenoon': 0, 'afternoon': 0, 'evening': 0}, ('raspberrypi', 'udisksd'): {0: 0, 1: 0, 2: 0, 3: 0, 4: 0, 5: 0, 6: 0, 7: 0, 8: 0, 9: 0, 10: 0, 11: 0, 12: 0, 13: 0, 14: 0, 15: 0, 16: 0, 17: 0, 18: 0, 19: 0, 20: 0, 21: 0, 22: 0, 23: 0, 24: 0, 'morning': 0, 'beforenoon': 0, 'afternoon': 0, 'evening': 0}, ('raspberrypi', 'rsyslogd'): {13: 0.75, 12: 0.25, 0: 0, 1: 0, 2: 0, 3: 0, 4: 0, 5: 0, 6: 0, 7: 0, 8: 0, 9: 0, 10: 0, 11: 0, 14: 0, 15: 0, 16: 0, 17: 0, 18: 0, 19: 0, 20: 0, 21: 0, 22: 0, 23: 0, 24: 0, 'morning': 0, 'beforenoon': 0, 'afternoon': 1.0, 'evening': 0}, ('raspberrypi', 'wpa_supplicant'): {0: 0, 1: 0, 2: 0, 3: 0, 4: 0, 5: 0, 6: 0, 7: 0, 8: 0, 9: 0, 10: 0, 11: 0, 12: 0, 13: 0, 14: 0, 15: 0, 16: 0, 17: 0, 18: 0, 19: 0, 20: 0, 21: 0, 22: 0, 23: 0, 24: 0, 'morning': 0, 'beforenoon': 0, 'afternoon': 0, 'evening': 0}, ('raspberrypi', 'thermald'): {0: 0, 1: 0, 2: 0, 3: 0, 4: 0, 5: 0, 6: 0, 7: 0, 8: 0, 9: 0, 10: 0, 11: 0, 12: 0, 13: 0, 14: 0, 15: 0, 16: 0, 17: 0, 18: 0, 19: 0, 20: 0, 21: 0, 22: 0, 23: 0, 24: 0, 'morning': 0, 'beforenoon': 0, 'afternoon': 0, 'evening': 0}, ('raspberrypi', 'polkitd'): {0: 0, 1: 0, 2: 0, 3: 0, 4: 0, 5: 0, 6: 0, 7: 0, 8: 0, 9: 0, 10: 0, 11: 0, 12: 0, 13: 0, 14: 0, 15: 0, 16: 0, 17: 0, 18: 0, 19: 0, 20: 0, 21: 0, 22: 0, 23: 0, 24: 0, 'morning': 0, 'beforenoon': 0, 'afternoon': 0, 'evening': 0}, ('raspberrypi', 'accounts-daemon'): {0: 0, 1: 0, 2: 0, 3: 0, 4: 0, 5: 0, 6: 0, 7: 0, 8: 0, 9: 0, 10: 0, 11: 0, 12: 0, 13: 0, 14: 0, 15: 0, 16: 0, 17: 0, 18: 0, 19: 0, 20: 0, 21: 0, 22: 0, 23: 0, 24: 0, 'morning': 0, 'beforenoon': 0, 'afternoon': 0, 'evening': 0}, ('raspberrypi', 'networkd-dispatcher'): {0: 0, 1: 0, 2: 0, 3: 0, 4: 0, 5: 0, 6: 0, 7: 0, 8: 0, 9: 0, 10: 0, 11: 0, 12: 0, 13: 0, 14: 0, 15: 0, 16: 0, 17: 0, 18: 0, 19: 0, 20: 0, 21: 0, 22: 0, 23: 0, 24: 0, 'morning': 0, 'beforenoon': 0, 'afternoon': 0, 'evening': 0}, ('raspberrypi', 'acpid'): {0: 0, 1: 0, 2: 0, 3: 0, 4: 0, 5: 0, 6: 0, 7: 0, 8: 0, 9: 0, 10: 0, 11: 0, 12: 0, 13: 0, 14: 0, 15: 0, 16: 0, 17: 0, 18: 0, 19: 0, 20: 0, 21: 0, 22: 0, 23: 0, 24: 0, 'morning': 0, 'beforenoon': 0, 'afternoon': 0, 'evening': 0}, ('raspberrypi', 'snapd'): {0: 0, 1: 0, 2: 0, 3: 0, 4: 0, 5: 0, 6: 0, 7: 0, 8: 0, 9: 0, 10: 0, 11: 0, 12: 0, 13: 0, 14: 0, 15: 0, 16: 0, 17: 0, 18: 0, 19: 0, 20: 0, 21: 0, 22: 0, 23: 0, 24: 0, 'morning': 0, 'beforenoon': 0, 'afternoon': 0, 'evening': 0}, ('raspberrypi', 'gnome-session'): {0: 0, 1: 0, 2: 0, 3: 0, 4: 0, 5: 0, 6: 0, 7: 0, 8: 0, 9: 0, 10: 0, 11: 0, 12: 0, 13: 0, 14: 0, 15: 0, 16: 0, 17: 0, 18: 0, 19: 0, 20: 0, 21: 0, 22: 0, 23: 0, 24: 0, 'morning': 0, 'beforenoon': 0, 'afternoon': 0, 'evening': 0}, ('raspberrypi', 'gnome-session-binary'): {0: 0, 1: 0, 2: 0, 3: 0, 4: 0, 5: 0, 6: 0, 7: 0, 8: 0, 9: 0, 10: 0, 11: 0, 12: 0, 13: 0, 14: 0, 15: 0, 16: 0, 17: 0, 18: 0, 19: 0, 20: 0, 21: 0, 22: 0, 23: 0, 24: 0, 'morning': 0, 'beforenoon': 0, 'afternoon': 0, 'evening': 0}, ('raspberrypi', 'tracker-miner-f'): {0: 0, 1: 0, 2: 0, 3: 0, 4: 0, 5: 0, 6: 0, 7: 0, 8: 0, 9: 0, 10: 0, 11: 0, 12: 0, 13: 0, 14: 0, 15: 0, 16: 0, 17: 0, 18: 0, 19: 0, 20: 0, 21: 0, 22: 0, 23: 0, 24: 0, 'morning': 0, 'beforenoon': 0, 'afternoon': 0, 'evening': 0}, ('raspberrypi', 'snapd-desktop-integration.snapd-desktop-integration'): {0: 0, 1: 0, 2: 0, 3: 0, 4: 0, 5: 0, 6: 0, 7: 0, 8: 0, 9: 0, 10: 0, 11: 0, 12: 0, 13: 0, 14: 0, 15: 0, 16: 0, 17: 0, 18: 0, 19: 0, 20: 0, 21: 0, 22: 0, 23: 0, 24: 0, 'morning': 0, 'beforenoon': 0, 'afternoon': 0, 'evening': 0}, ('raspberrypi', 'goa-daemon'): {0: 0, 1: 0, 2: 0, 3: 0, 4: 0, 5: 0, 6: 0, 7: 0, 8: 0, 9: 0, 10: 0, 11: 0, 12: 0, 13: 0, 14: 0, 15: 0, 16: 0, 17: 0, 18: 0, 19: 0, 20: 0, 21: 0, 22: 0, 23: 0, 24: 0, 'morning': 0, 'beforenoon': 0, 'afternoon': 0, 'evening': 0}, ('raspberrypi', '/usr/libexec/gdm-wayland-session'): {0: 0, 1: 0, 2: 0, 3: 0, 4: 0, 5: 0, 6: 0, 7: 0, 8: 0, 9: 0, 10: 0, 11: 0, 12: 0, 13: 0, 14: 0, 15: 0, 16: 0, 17: 0, 18: 0, 19: 0, 20: 0, 21: 0, 22: 0, 23: 0, 24: 0, 'morning': 0, 'beforenoon': 0, 'afternoon': 0, 'evening': 0}, ('raspberrypi', 'org.gnome.Shell.desktop'): {0: 0, 1: 0, 2: 0, 3: 0, 4: 0, 5: 0, 6: 0, 7: 0, 8: 0, 9: 0, 10: 0, 11: 0, 12: 0, 13: 0, 14: 0, 15: 0, 16: 0, 17: 0, 18: 0, 19: 0, 20: 0, 21: 0, 22: 0, 23: 0, 24: 0, 'morning': 0, 'beforenoon': 0, 'afternoon': 0, 'evening': 0}, ('raspberrypi', 'PackageKit'): {0: 0, 1: 0, 2: 0, 3: 0, 4: 0, 5: 0, 6: 0, 7: 0, 8: 0, 9: 0, 10: 0, 11: 0, 12: 0, 13: 0, 14: 0, 15: 0, 16: 0, 17: 0, 18: 0, 19: 0, 20: 0, 21: 0, 22: 0, 23: 0, 24: 0, 'morning': 0, 'beforenoon': 0, 'afternoon': 0, 'evening': 0}, ('raspberrypi', 'gsd-sharing'): {0: 0, 1: 0, 2: 0, 3: 0, 4: 0, 5: 0, 6: 0, 7: 0, 8: 0, 9: 0, 10: 0, 11: 0, 12: 0, 13: 0, 14: 0, 15: 0, 16: 0, 17: 0, 18: 0, 19: 0, 20: 0, 21: 0, 22: 0, 23: 0, 24: 0, 'morning': 0, 'beforenoon': 0, 'afternoon': 0, 'evening': 0}, ('raspberrypi', 'spice-vdagent'): {0: 0, 1: 0, 2: 0, 3: 0, 4: 0, 5: 0, 6: 0, 7: 0, 8: 0, 9: 0, 10: 0, 11: 0, 12: 0, 13: 0, 14: 0, 15: 0, 16: 0, 17: 0, 18: 0, 19: 0, 20: 0, 21: 0, 22: 0, 23: 0, 24: 0, 'morning': 0, 'beforenoon': 0, 'afternoon': 0, 'evening': 0}, ('raspberrypi', 'xbrlapi.desktop'): {0: 0, 1: 0, 2: 0, 3: 0, 4: 0, 5: 0, 6: 0, 7: 0, 8: 0, 9: 0, 10: 0, 11: 0, 12: 0, 13: 0, 14: 0, 15: 0, 16: 0, 17: 0, 18: 0, 19: 0, 20: 0, 21: 0, 22: 0, 23: 0, 24: 0, 'morning': 0, 'beforenoon': 0, 'afternoon': 0, 'evening': 0}, ('raspberrypi', 'gsd-media-keys'): {0: 0, 1: 0, 2: 0, 3: 0, 4: 0, 5: 0, 6: 0, 7: 0, 8: 0, 9: 0, 10: 0, 11: 0, 12: 0, 13: 0, 14: 0, 15: 0, 16: 0, 17: 0, 18: 0, 19: 0, 20: 0, 21: 0, 22: 0, 23: 0, 24: 0, 'morning': 0, 'beforenoon': 0, 'afternoon': 0, 'evening': 0}, ('raspberrypi', 'systemd-timesyncd'): {12: 1.0, 0: 0, 1: 0, 2: 0, 3: 0, 4: 0, 5: 0, 6: 0, 7: 0, 8: 0, 9: 0, 10: 0, 11: 0, 13: 0, 14: 0, 15: 0, 16: 0, 17: 0, 18: 0, 19: 0, 20: 0, 21: 0, 22: 0, 23: 0, 24: 0, 'morning': 0, 'beforenoon': 0, 'afternoon': 1.0, 'evening': 0}, ('raspberrypi', 'whoopsie'): {0: 0, 1: 0, 2: 0, 3: 0, 4: 0, 5: 0, 6: 0, 7: 0, 8: 0, 9: 0, 10: 0, 11: 0, 12: 0, 13: 0, 14: 0, 15: 0, 16: 0, 17: 0, 18: 0, 19: 0, 20: 0, 21: 0, 22: 0, 23: 0, 24: 0, 'morning': 0, 'beforenoon': 0, 'afternoon': 0, 'evening': 0}, ('raspberrypi', 'geoclue'): {0: 0, 1: 0, 2: 0, 3: 0, 4: 0, 5: 0, 6: 0, 7: 0, 8: 0, 9: 0, 10: 0, 11: 0, 12: 0, 13: 0, 14: 0, 15: 0, 16: 0, 17: 0, 18: 0, 19: 0, 20: 0, 21: 0, 22: 0, 23: 0, 24: 0, 'morning': 0, 'beforenoon': 0, 'afternoon': 0, 'evening': 0}, ('raspberrypi', 'cracklib'): {0: 0, 1: 0, 2: 0, 3: 0, 4: 0, 5: 0, 6: 0, 7: 0, 8: 0, 9: 0, 10: 0, 11: 0, 12: 0, 13: 0, 14: 0, 15: 0, 16: 0, 17: 0, 18: 0, 19: 0, 20: 0, 21: 0, 22: 0, 23: 0, 24: 0, 'morning': 0, 'beforenoon': 0, 'afternoon': 0, 'evening': 0}, ('raspberrypi', 'CRON'): {0: 0, 1: 0, 2: 0, 3: 0, 4: 0, 5: 0, 6: 0, 7: 0, 8: 0, 9: 0, 10: 0, 11: 0, 12: 0, 13: 0, 14: 0, 15: 0, 16: 0, 17: 0, 18: 0, 19: 0, 20: 0, 21: 0, 22: 0, 23: 0, 24: 0, 'morning': 0, 'beforenoon': 0, 'afternoon': 0, 'evening': 0}, ('raspberrypi', 'pulseaudio'): {13: 0.6666666666666666, 12: 0.3333333333333333, 0: 0, 1: 0, 2: 0, 3: 0, 4: 0, 5: 0, 6: 0, 7: 0, 8: 0, 9: 0, 10: 0, 11: 0, 14: 0, 15: 0, 16: 0, 17: 0, 18: 0, 19: 0, 20: 0, 21: 0, 22: 0, 23: 0, 24: 0, 'morning': 0, 'beforenoon': 0, 'afternoon': 1.0, 'evening': 0}, ('raspberrypi', 'gnome-keyring-daemon'): {0: 0, 1: 0, 2: 0, 3: 0, 4: 0, 5: 0, 6: 0, 7: 0, 8: 0, 9: 0, 10: 0, 11: 0, 12: 0, 13: 0, 14: 0, 15: 0, 16: 0, 17: 0, 18: 0, 19: 0, 20: 0, 21: 0, 22: 0, 23: 0, 24: 0, 'morning': 0, 'beforenoon': 0, 'afternoon': 0, 'evening': 0}, ('raspberrypi', 'sh'): {0: 0, 1: 0, 2: 0, 3: 0, 4: 0, 5: 0, 6: 0, 7: 0, 8: 0, 9: 0, 10: 0, 11: 0, 12: 0, 13: 0, 14: 0, 15: 0, 16: 0, 17: 0, 18: 0, 19: 0, 20: 0, 21: 0, 22: 0, 23: 0, 24: 0, 'morning': 0, 'beforenoon': 0, 'afternoon': 0, 'evening': 0}, ('raspberrypi', 'gnome-keyring-ssh.desktop'): {0: 0, 1: 0, 2: 0, 3: 0, 4: 0, 5: 0, 6: 0, 7: 0, 8: 0, 9: 0, 10: 0, 11: 0, 12: 0, 13: 0, 14: 0, 15: 0, 16: 0, 17: 0, 18: 0, 19: 0, 20: 0, 21: 0, 22: 0, 23: 0, 24: 0, 'morning': 0, 'beforenoon': 0, 'afternoon': 0, 'evening': 0}, ('raspberrypi', 'gnome-keyring-secrets.desktop'): {0: 0, 1: 0, 2: 0, 3: 0, 4: 0, 5: 0, 6: 0, 7: 0, 8: 0, 9: 0, 10: 0, 11: 0, 12: 0, 13: 0, 14: 0, 15: 0, 16: 0, 17: 0, 18: 0, 19: 0, 20: 0, 21: 0, 22: 0, 23: 0, 24: 0, 'morning': 0, 'beforenoon': 0, 'afternoon': 0, 'evening': 0}, ('raspberrypi', 'gnome-keyring-pkcs11.desktop'): {0: 0, 1: 0, 2: 0, 3: 0, 4: 0, 5: 0, 6: 0, 7: 0, 8: 0, 9: 0, 10: 0, 11: 0, 12: 0, 13: 0, 14: 0, 15: 0, 16: 0, 17: 0, 18: 0, 19: 0, 20: 0, 21: 0, 22: 0, 23: 0, 24: 0, 'morning': 0, 'beforenoon': 0, 'afternoon': 0, 'evening': 0}, ('raspberrypi', 'snapd-desktop-i'): {0: 0, 1: 0, 2: 0, 3: 0, 4: 0, 5: 0, 6: 0, 7: 0, 8: 0, 9: 0, 10: 0, 11: 0, 12: 0, 13: 0, 14: 0, 15: 0, 16: 0, 17: 0, 18: 0, 19: 0, 20: 0, 21: 0, 22: 0, 23: 0, 24: 0, 'morning': 0, 'beforenoon': 0, 'afternoon': 0, 'evening': 0}, ('raspberrypi', 'at-spi-dbus-bus.desktop'): {0: 0, 1: 0, 2: 0, 3: 0, 4: 0, 5: 0, 6: 0, 7: 0, 8: 0, 9: 0, 10: 0, 11: 0, 12: 0, 13: 0, 14: 0, 15: 0, 16: 0, 17: 0, 18: 0, 19: 0, 20: 0, 21: 0, 22: 0, 23: 0, 24: 0, 'morning': 0, 'beforenoon': 0, 'afternoon': 0, 'evening': 0}, ('raspberrypi', 'at-spi2-registr'): {0: 0, 1: 0, 2: 0, 3: 0, 4: 0, 5: 0, 6: 0, 7: 0, 8: 0, 9: 0, 10: 0, 11: 0, 12: 0, 13: 0, 14: 0, 15: 0, 16: 0, 17: 0, 18: 0, 19: 0, 20: 0, 21: 0, 22: 0, 23: 0, 24: 0, 'morning': 0, 'beforenoon': 0, 'afternoon': 0, 'evening': 0}, ('raspberrypi', 'gsd-sound'): {0: 0, 1: 0, 2: 0, 3: 0, 4: 0, 5: 0, 6: 0, 7: 0, 8: 0, 9: 0, 10: 0, 11: 0, 12: 0, 13: 0, 14: 0, 15: 0, 16: 0, 17: 0, 18: 0, 19: 0, 20: 0, 21: 0, 22: 0, 23: 0, 24: 0, 'morning': 0, 'beforenoon': 0, 'afternoon': 0, 'evening': 0}, ('raspberrypi', 'gsd-color'): {0: 0, 1: 0, 2: 0, 3: 0, 4: 0, 5: 0, 6: 0, 7: 0, 8: 0, 9: 0, 10: 0, 11: 0, 12: 0, 13: 0, 14: 0, 15: 0, 16: 0, 17: 0, 18: 0, 19: 0, 20: 0, 21: 0, 22: 0, 23: 0, 24: 0, 'morning': 0, 'beforenoon': 0, 'afternoon': 0, 'evening': 0}, ('raspberrypi', 'fwupd'): {0: 0, 1: 0, 2: 0, 3: 0, 4: 0, 5: 0, 6: 0, 7: 0, 8: 0, 9: 0, 10: 0, 11: 0, 12: 0, 13: 0, 14: 0, 15: 0, 16: 0, 17: 0, 18: 0, 19: 0, 20: 0, 21: 0, 22: 0, 23: 0, 24: 0, 'morning': 0, 'beforenoon': 0, 'afternoon': 0, 'evening': 0}, ('raspberrypi', 'snap-store'): {0: 0, 1: 0, 2: 0, 3: 0, 4: 0, 5: 0, 6: 0, 7: 0, 8: 0, 9: 0, 10: 0, 11: 0, 12: 0, 13: 0, 14: 0, 15: 0, 16: 0, 17: 0, 18: 0, 19: 0, 20: 0, 21: 0, 22: 0, 23: 0, 24: 0, 'morning': 0, 'beforenoon': 0, 'afternoon': 0, 'evening': 0}, ('raspberrypi', 'xdg-document-po'): {0: 0, 1: 0, 2: 0, 3: 0, 4: 0, 5: 0, 6: 0, 7: 0, 8: 0, 9: 0, 10: 0, 11: 0, 12: 0, 13: 0, 14: 0, 15: 0, 16: 0, 17: 0, 18: 0, 19: 0, 20: 0, 21: 0, 22: 0, 23: 0, 24: 0, 'morning': 0, 'beforenoon': 0, 'afternoon': 0, 'evening': 0}, ('raspberrypi', 'tracker-miner-fs-3'): {0: 0, 1: 0, 2: 0, 3: 0, 4: 0, 5: 0, 6: 0, 7: 0, 8: 0, 9: 0, 10: 0, 11: 0, 12: 0, 13: 0, 14: 0, 15: 0, 16: 0, 17: 0, 18: 0, 19: 0, 20: 0, 21: 0, 22: 0, 23: 0, 24: 0, 'morning': 0, 'beforenoon': 0, 'afternoon': 0, 'evening': 0}, ('raspberrypi', 'packagekitd'): {0: 0, 1: 0, 2: 0, 3: 0, 4: 0, 5: 0, 6: 0, 7: 0, 8: 0, 9: 0, 10: 0, 11: 0, 12: 0, 13: 0, 14: 0, 15: 0, 16: 0, 17: 0, 18: 0, 19: 0, 20: 0, 21: 0, 22: 0, 23: 0, 24: 0, 'morning': 0, 'beforenoon': 0, 'afternoon': 0, 'evening': 0}, ('raspberrypi', 'google-chrome.desktop'): {0: 0, 1: 0, 2: 0, 3: 0, 4: 0, 5: 0, 6: 0, 7: 0, 8: 0, 9: 0, 10: 0, 11: 0, 12: 0, 13: 0, 14: 0, 15: 0, 16: 0, 17: 0, 18: 0, 19: 0, 20: 0, 21: 0, 22: 0, 23: 0, 24: 0, 'morning': 0, 'beforenoon': 0, 'afternoon': 0, 'evening': 0}, ('raspberrypi', 'fwupdmgr'): {0: 0, 1: 0, 2: 0, 3: 0, 4: 0, 5: 0, 6: 0, 7: 0, 8: 0, 9: 0, 10: 0, 11: 0, 12: 0, 13: 0, 14: 0, 15: 0, 16: 0, 17: 0, 18: 0, 19: 0, 20: 0, 21: 0, 22: 0, 23: 0, 24: 0, 'morning': 0, 'beforenoon': 0, 'afternoon': 0, 'evening': 0}, ('raspberrypi', 'windscribe.desktop'): {0: 0, 1: 0, 2: 0, 3: 0, 4: 0, 5: 0, 6: 0, 7: 0, 8: 0, 9: 0, 10: 0, 11: 0, 12: 0, 13: 0, 14: 0, 15: 0, 16: 0, 17: 0, 18: 0, 19: 0, 20: 0, 21: 0, 22: 0, 23: 0, 24: 0, 'morning': 0, 'beforenoon': 0, 'afternoon': 0, 'evening': 0}, ('raspberrypi', 'update-systemd-resolved'): {0: 0, 1: 0, 2: 0, 3: 0, 4: 0, 5: 0, 6: 0, 7: 0, 8: 0, 9: 0, 10: 0, 11: 0, 12: 0, 13: 0, 14: 0, 15: 0, 16: 0, 17: 0, 18: 0, 19: 0, 20: 0, 21: 0, 22: 0, 23: 0, 24: 0, 'morning': 0, 'beforenoon': 0, 'afternoon': 0, 'evening': 0}, ('raspberrypi', 'obexd'): {0: 0, 1: 0, 2: 0, 3: 0, 4: 0, 5: 0, 6: 0, 7: 0, 8: 0, 9: 0, 10: 0, 11: 0, 12: 0, 13: 0, 14: 0, 15: 0, 16: 0, 17: 0, 18: 0, 19: 0, 20: 0, 21: 0, 22: 0, 23: 0, 24: 0, 'morning': 0, 'beforenoon': 0, 'afternoon': 0, 'evening': 0}, ('raspberrypi', 'gnome-control-c'): {0: 0, 1: 0, 2: 0, 3: 0, 4: 0, 5: 0, 6: 0, 7: 0, 8: 0, 9: 0, 10: 0, 11: 0, 12: 0, 13: 0, 14: 0, 15: 0, 16: 0, 17: 0, 18: 0, 19: 0, 20: 0, 21: 0, 22: 0, 23: 0, 24: 0, 'morning': 0, 'beforenoon': 0, 'afternoon': 0, 'evening': 0}, ('raspberrypi', 'org.gnome.Nautilus'): {0: 0, 1: 0, 2: 0, 3: 0, 4: 0, 5: 0, 6: 0, 7: 0, 8: 0, 9: 0, 10: 0, 11: 0, 12: 0, 13: 0, 14: 0, 15: 0, 16: 0, 17: 0, 18: 0, 19: 0, 20: 0, 21: 0, 22: 0, 23: 0, 24: 0, 'morning': 0, 'beforenoon': 0, 'afternoon': 0, 'evening': 0}, ('raspberrypi', 'vsce-sign'): {0: 0, 1: 0, 2: 0, 3: 0, 4: 0, 5: 0, 6: 0, 7: 0, 8: 0, 9: 0, 10: 0, 11: 0, 12: 0, 13: 0, 14: 0, 15: 0, 16: 0, 17: 0, 18: 0, 19: 0, 20: 0, 21: 0, 22: 0, 23: 0, 24: 0, 'morning': 0, 'beforenoon': 0, 'afternoon': 0, 'evening': 0}, ('raspberrypi', 'mongod'): {0: 0, 1: 0, 2: 0, 3: 0, 4: 0, 5: 0, 6: 0, 7: 0, 8: 0, 9: 0, 10: 0, 11: 0, 12: 0, 13: 0, 14: 0, 15: 0, 16: 0, 17: 0, 18: 0, 19: 0, 20: 0, 21: 0, 22: 0, 23: 0, 24: 0, 'morning': 0, 'beforenoon': 0, 'afternoon': 0, 'evening': 0}, ('raspberrypi', 'gnome-calculato'): {0: 0, 1: 0, 2: 0, 3: 0, 4: 0, 5: 0, 6: 0, 7: 0, 8: 0, 9: 0, 10: 0, 11: 0, 12: 0, 13: 0, 14: 0, 15: 0, 16: 0, 17: 0, 18: 0, 19: 0, 20: 0, 21: 0, 22: 0, 23: 0, 24: 0, 'morning': 0, 'beforenoon': 0, 'afternoon': 0, 'evening': 0}, ('raspberrypi', 'update-notifier-crash'): {0: 0, 1: 0, 2: 0, 3: 0, 4: 0, 5: 0, 6: 0, 7: 0, 8: 0, 9: 0, 10: 0, 11: 0, 12: 0, 13: 0, 14: 0, 15: 0, 16: 0, 17: 0, 18: 0, 19: 0, 20: 0, 21: 0, 22: 0, 23: 0, 24: 0, 'morning': 0, 'beforenoon': 0, 'afternoon': 0, 'evening': 0}, ('raspberrypi', 'fstrim'): {0: 0, 1: 0, 2: 0, 3: 0, 4: 0, 5: 0, 6: 0, 7: 0, 8: 0, 9: 0, 10: 0, 11: 0, 12: 0, 13: 0, 14: 0, 15: 0, 16: 0, 17: 0, 18: 0, 19: 0, 20: 0, 21: 0, 22: 0, 23: 0, 24: 0, 'morning': 0, 'beforenoon': 0, 'afternoon': 0, 'evening': 0}, ('raspberrypi', 'update-notifier.desktop'): {0: 0, 1: 0, 2: 0, 3: 0, 4: 0, 5: 0, 6: 0, 7: 0, 8: 0, 9: 0, 10: 0, 11: 0, 12: 0, 13: 0, 14: 0, 15: 0, 16: 0, 17: 0, 18: 0, 19: 0, 20: 0, 21: 0, 22: 0, 23: 0, 24: 0, 'morning': 0, 'beforenoon': 0, 'afternoon': 0, 'evening': 0}, ('raspberrypi', 'append_log.py'): {0: 0, 1: 0, 2: 0, 3: 0, 4: 0, 5: 0, 6: 0, 7: 0, 8: 0, 9: 0, 10: 0, 11: 0, 12: 0, 13: 0, 14: 0, 15: 0, 16: 0, 17: 0, 18: 0, 19: 0, 20: 0, 21: 0, 22: 0, 23: 0, 24: 0, 'morning': 0, 'beforenoon': 0, 'afternoon': 0, 'evening': 0}, ('raspberrypi', 'demo'): {0: 0, 1: 0, 2: 0, 3: 0, 4: 0, 5: 0, 6: 0, 7: 0, 8: 0, 9: 0, 10: 0, 11: 0, 12: 0, 13: 0, 14: 0, 15: 0, 16: 0, 17: 0, 18: 0, 19: 0, 20: 0, 21: 0, 22: 0, 23: 0, 24: 0, 'morning': 0, 'beforenoon': 0, 'afternoon': 0, 'evening': 0}, ('raspberrypi', 'vlc'): {0: 0, 1: 0, 2: 0, 3: 0, 4: 0, 5: 0, 6: 0, 7: 0, 8: 0, 9: 0, 10: 0, 11: 0, 12: 0, 13: 0, 14: 0, 15: 0, 16: 0, 17: 0, 18: 0, 19: 0, 20: 0, 21: 0, 22: 0, 23: 0, 24: 0, 'morning': 0, 'beforenoon': 0, 'afternoon': 0, 'evening': 0}, ('raspberrypi', 'gnome-calendar'): {0: 0, 1: 0, 2: 0, 3: 0, 4: 0, 5: 0, 6: 0, 7: 0, 8: 0, 9: 0, 10: 0, 11: 0, 12: 0, 13: 0, 14: 0, 15: 0, 16: 0, 17: 0, 18: 0, 19: 0, 20: 0, 21: 0, 22: 0, 23: 0, 24: 0, 'morning': 0, 'beforenoon': 0, 'afternoon': 0, 'evening': 0}, ('raspberrypi', 'seahorse'): {0: 0, 1: 0, 2: 0, 3: 0, 4: 0, 5: 0, 6: 0, 7: 0, 8: 0, 9: 0, 10: 0, 11: 0, 12: 0, 13: 0, 14: 0, 15: 0, 16: 0, 17: 0, 18: 0, 19: 0, 20: 0, 21: 0, 22: 0, 23: 0, 24: 0, 'morning': 0, 'beforenoon': 0, 'afternoon': 0, 'evening': 0}, ('raspberrypi', 'xdg-desktop-por'): {0: 0, 1: 0, 2: 0, 3: 0, 4: 0, 5: 0, 6: 0, 7: 0, 8: 0, 9: 0, 10: 0, 11: 0, 12: 0, 13: 0, 14: 0, 15: 0, 16: 0, 17: 0, 18: 0, 19: 0, 20: 0, 21: 0, 22: 0, 23: 0, 24: 0, 'morning': 0, 'beforenoon': 0, 'afternoon': 0, 'evening': 0}, ('raspberrypi', 'evince'): {0: 0, 1: 0, 2: 0, 3: 0, 4: 0, 5: 0, 6: 0, 7: 0, 8: 0, 9: 0, 10: 0, 11: 0, 12: 0, 13: 0, 14: 0, 15: 0, 16: 0, 17: 0, 18: 0, 19: 0, 20: 0, 21: 0, 22: 0, 23: 0, 24: 0, 'morning': 0, 'beforenoon': 0, 'afternoon': 0, 'evening': 0}, ('raspberrypi', 'evolution-alarm'): {0: 0, 1: 0, 2: 0, 3: 0, 4: 0, 5: 0, 6: 0, 7: 0, 8: 0, 9: 0, 10: 0, 11: 0, 12: 0, 13: 0, 14: 0, 15: 0, 16: 0, 17: 0, 18: 0, 19: 0, 20: 0, 21: 0, 22: 0, 23: 0, 24: 0, 'morning': 0, 'beforenoon': 0, 'afternoon': 0, 'evening': 0}, ('raspberrypi', 'gvfsd'): {0: 0, 1: 0, 2: 0, 3: 0, 4: 0, 5: 0, 6: 0, 7: 0, 8: 0, 9: 0, 10: 0, 11: 0, 12: 0, 13: 0, 14: 0, 15: 0, 16: 0, 17: 0, 18: 0, 19: 0, 20: 0, 21: 0, 22: 0, 23: 0, 24: 0, 'morning': 0, 'beforenoon': 0, 'afternoon': 0, 'evening': 0}, ('raspberrypi', 'evolution-calen'): {0: 0, 1: 0, 2: 0, 3: 0, 4: 0, 5: 0, 6: 0, 7: 0, 8: 0, 9: 0, 10: 0, 11: 0, 12: 0, 13: 0, 14: 0, 15: 0, 16: 0, 17: 0, 18: 0, 19: 0, 20: 0, 21: 0, 22: 0, 23: 0, 24: 0, 'morning': 0, 'beforenoon': 0, 'afternoon': 0, 'evening': 0}, ('raspberrypi', 'evolution-addre'): {0: 0, 1: 0, 2: 0, 3: 0, 4: 0, 5: 0, 6: 0, 7: 0, 8: 0, 9: 0, 10: 0, 11: 0, 12: 0, 13: 0, 14: 0, 15: 0, 16: 0, 17: 0, 18: 0, 19: 0, 20: 0, 21: 0, 22: 0, 23: 0, 24: 0, 'morning': 0, 'beforenoon': 0, 'afternoon': 0, 'evening': 0}, ('raspberrypi', 'ibus-daemon'): {0: 0, 1: 0, 2: 0, 3: 0, 4: 0, 5: 0, 6: 0, 7: 0, 8: 0, 9: 0, 10: 0, 11: 0, 12: 0, 13: 0, 14: 0, 15: 0, 16: 0, 17: 0, 18: 0, 19: 0, 20: 0, 21: 0, 22: 0, 23: 0, 24: 0, 'morning': 0, 'beforenoon': 0, 'afternoon': 0, 'evening': 0}, ('raspberrypi', 'gdm3'): {0: 0, 1: 0, 2: 0, 3: 0, 4: 0, 5: 0, 6: 0, 7: 0, 8: 0, 9: 0, 10: 0, 11: 0, 12: 0, 13: 0, 14: 0, 15: 0, 16: 0, 17: 0, 18: 0, 19: 0, 20: 0, 21: 0, 22: 0, 23: 0, 24: 0, 'morning': 0, 'beforenoon': 0, 'afternoon': 0, 'evening': 0}, ('raspberrypi', 'tracker-extract'): {0: 0, 1: 0, 2: 0, 3: 0, 4: 0, 5: 0, 6: 0, 7: 0, 8: 0, 9: 0, 10: 0, 11: 0, 12: 0, 13: 0, 14: 0, 15: 0, 16: 0, 17: 0, 18: 0, 19: 0, 20: 0, 21: 0, 22: 0, 23: 0, 24: 0, 'morning': 0, 'beforenoon': 0, 'afternoon': 0, 'evening': 0}, ('raspberrypi', 'org.freedesktop.FileManager1'): {0: 0, 1: 0, 2: 0, 3: 0, 4: 0, 5: 0, 6: 0, 7: 0, 8: 0, 9: 0, 10: 0, 11: 0, 12: 0, 13: 0, 14: 0, 15: 0, 16: 0, 17: 0, 18: 0, 19: 0, 20: 0, 21: 0, 22: 0, 23: 0, 24: 0, 'morning': 0, 'beforenoon': 0, 'afternoon': 0, 'evening': 0}, ('raspberrypi', 'ntfs-3g'): {0: 0, 1: 0, 2: 0, 3: 0, 4: 0, 5: 0, 6: 0, 7: 0, 8: 0, 9: 0, 10: 0, 11: 0, 12: 0, 13: 0, 14: 0, 15: 0, 16: 0, 17: 0, 18: 0, 19: 0, 20: 0, 21: 0, 22: 0, 23: 0, 24: 0, 'morning': 0, 'beforenoon': 0, 'afternoon': 0, 'evening': 0}, ('raspberrypi', 'nm-dispatcher'): {0: 0, 1: 0, 2: 0, 3: 0, 4: 0, 5: 0, 6: 0, 7: 0, 8: 0, 9: 0, 10: 0, 11: 0, 12: 0, 13: 0, 14: 0, 15: 0, 16: 0, 17: 0, 18: 0, 19: 0, 20: 0, 21: 0, 22: 0, 23: 0, 24: 0, 'morning': 0, 'beforenoon': 0, 'afternoon': 0, 'evening': 0}, ('raspberrypi', 'gnome-shell-por'): {0: 0, 1: 0, 2: 0, 3: 0, 4: 0, 5: 0, 6: 0, 7: 0, 8: 0, 9: 0, 10: 0, 11: 0, 12: 0, 13: 0, 14: 0, 15: 0, 16: 0, 17: 0, 18: 0, 19: 0, 20: 0, 21: 0, 22: 0, 23: 0, 24: 0, 'morning': 0, 'beforenoon': 0, 'afternoon': 0, 'evening': 0}, ('raspberrypi', 'sudo'): {13: 1.0, 0: 0, 1: 0, 2: 0, 3: 0, 4: 0, 5: 0, 6: 0, 7: 0, 8: 0, 9: 0, 10: 0, 11: 0, 12: 0, 14: 0, 15: 0, 16: 0, 17: 0, 18: 0, 19: 0, 20: 0, 21: 0, 22: 0, 23: 0, 24: 0, 'morning': 0, 'beforenoon': 0, 'afternoon': 1.0, 'evening': 0}, ('raspberrypi', 'istvan'): {13: 1.0, 0: 0, 1: 0, 2: 0, 3: 0, 4: 0, 5: 0, 6: 0, 7: 0, 8: 0, 9: 0, 10: 0, 11: 0, 12: 0, 14: 0, 15: 0, 16: 0, 17: 0, 18: 0, 19: 0, 20: 0, 21: 0, 22: 0, 23: 0, 24: 0, 'morning': 0, 'beforenoon': 0, 'afternoon': 1.0, 'evening': 0}, ('raspberrypi', 'sshd'): {13: 0.5, 12: 0.5, 0: 0, 1: 0, 2: 0, 3: 0, 4: 0, 5: 0, 6: 0, 7: 0, 8: 0, 9: 0, 10: 0, 11: 0, 14: 0, 15: 0, 16: 0, 17: 0, 18: 0, 19: 0, 20: 0, 21: 0, 22: 0, 23: 0, 24: 0, 'morning': 0, 'beforenoon': 0, 'afternoon': 1.0, 'evening': 0}, ('raspberrypi', 'polkitd(authority=local)'): {13: 1.0, 0: 0, 1: 0, 2: 0, 3: 0, 4: 0, 5: 0, 6: 0, 7: 0, 8: 0, 9: 0, 10: 0, 11: 0, 12: 0, 14: 0, 15: 0, 16: 0, 17: 0, 18: 0, 19: 0, 20: 0, 21: 0, 22: 0, 23: 0, 24: 0, 'morning': 0, 'beforenoon': 0, 'afternoon': 1.0, 'evening': 0}, ('raspberrypi', 'lightdm'): {13: 1.0, 0: 0, 1: 0, 2: 0, 3: 0, 4: 0, 5: 0, 6: 0, 7: 0, 8: 0, 9: 0, 10: 0, 11: 0, 12: 0, 14: 0, 15: 0, 16: 0, 17: 0, 18: 0, 19: 0, 20: 0, 21: 0, 22: 0, 23: 0, 24: 0, 'morning': 0, 'beforenoon': 0, 'afternoon': 1.0, 'evening': 0}, ('raspberrypi', 'dhcpcd'): {13: 1.0, 0: 0, 1: 0, 2: 0, 3: 0, 4: 0, 5: 0, 6: 0, 7: 0, 8: 0, 9: 0, 10: 0, 11: 0, 12: 0, 14: 0, 15: 0, 16: 0, 17: 0, 18: 0, 19: 0, 20: 0, 21: 0, 22: 0, 23: 0, 24: 0, 'morning': 0, 'beforenoon': 0, 'afternoon': 1.0, 'evening': 0}, ('raspberrypi', 'systemd-logind'): {12: 1.0, 0: 0, 1: 0, 2: 0, 3: 0, 4: 0, 5: 0, 6: 0, 7: 0, 8: 0, 9: 0, 10: 0, 11: 0, 13: 0, 14: 0, 15: 0, 16: 0, 17: 0, 18: 0, 19: 0, 20: 0, 21: 0, 22: 0, 23: 0, 24: 0, 'morning': 0, 'beforenoon': 0, 'afternoon': 1.0, 'evening': 0}}\n"
     ]
    }
   ],
   "source": [
    "print(d) # dict{tuple:dict}"
   ]
  },
  {
   "cell_type": "code",
   "execution_count": 25,
   "id": "eaad8cc1",
   "metadata": {},
   "outputs": [
    {
     "name": "stdout",
     "output_type": "stream",
     "text": [
      "istvan-HP-ProBook-650-G1 at-spi2-registr beforenoon 0.2222222222222222 0.1\n"
     ]
    }
   ],
   "source": [
    "# print(random.choice(hostnames))\n",
    "hostname = random.choice(hostnames)\n",
    "appname = random.choice(appnames)\n",
    "time = random.choice([\"morning\", \"beforenoon\", \"afternoon\", \"evening\"])\n",
    "threshold = 0.1\n",
    "\n",
    "\n",
    "if d[(hostname, appname)][time] <= threshold:\n",
    "    print(\"Alert!\")\n",
    "    \n",
    "print(hostname, appname, time, d[(hostname, appname)][time], threshold)\n"
   ]
  },
  {
   "cell_type": "code",
   "execution_count": 23,
   "id": "71407e4e",
   "metadata": {},
   "outputs": [
    {
     "name": "stdout",
     "output_type": "stream",
     "text": [
      "0.1\n",
      "0.40122008446738616\n",
      "{'timestamp': datetime.datetime(2023, 7, 31, 19, 11, 22), 'hostname': 'istvan-HP-ProBook-650-G1', 'appname': 'NetworkManager', 'pid': '1004', 'message': \"<info>  [1690827082.9955] device (enp0s25): state change: failed -> disconnected (reason 'none', sys-iface-state: 'managed')\"}\n",
      "0.1\n",
      "0.3663594470046083\n",
      "{'timestamp': datetime.datetime(2023, 7, 31, 19, 11, 22), 'hostname': 'istvan-HP-ProBook-650-G1', 'appname': 'avahi-daemon', 'pid': '648', 'message': 'Withdrawing address record for fe80::46ba:6d84:2e8a:d9a on enp0s25.'}\n",
      "0.1\n",
      "0.3663594470046083\n",
      "{'timestamp': datetime.datetime(2023, 7, 31, 19, 11, 22), 'hostname': 'istvan-HP-ProBook-650-G1', 'appname': 'avahi-daemon', 'pid': '648', 'message': 'Leaving mDNS multicast group on interface enp0s25.IPv6 with address fe80::46ba:6d84:2e8a:d9a.'}\n",
      "0.1\n",
      "0.3663594470046083\n",
      "{'timestamp': datetime.datetime(2023, 7, 31, 19, 11, 22), 'hostname': 'istvan-HP-ProBook-650-G1', 'appname': 'avahi-daemon', 'pid': '648', 'message': 'Interface enp0s25.IPv6 no longer relevant for mDNS.'}\n",
      "0.1\n",
      "0.40122008446738616\n",
      "{'timestamp': datetime.datetime(2023, 7, 31, 19, 11, 23), 'hostname': 'istvan-HP-ProBook-650-G1', 'appname': 'NetworkManager', 'pid': '1004', 'message': '<info>  [1690827083.0208] dhcp4 (enp0s25): canceled DHCP transaction'}\n"
     ]
    }
   ],
   "source": [
    "import time\n",
    "import datetime\n",
    "import subprocess\n",
    "import select\n",
    "import threading\n",
    "import sys\n",
    "sys.path.insert(0, '/home/istvan/Desktop/sus-behav-mon/reading_logs/')\n",
    "import pyparsing_logs\n",
    "## Non blocking implementation of tailing --> system does not have to wait before receiving new data\n",
    "\n",
    "def log_tailer() -> None:\n",
    "    f = subprocess.Popen(['tail','-F',\"-n\", \"5\", \"/var/log/syslog\"],stdout=subprocess.PIPE,stderr=subprocess.PIPE, text = True)\n",
    "\n",
    "    while True:\n",
    "        output = f.stdout.readline().strip()\n",
    "        parsed_output = pyparsing_logs.pyparse_tail_logs(output)\n",
    "        if is_suspicious_tail(parsed_output):\n",
    "            print(\"ALERT!!\")\n",
    "        print(parsed_output)\n",
    "\n",
    "def time_of_day(hour: int) -> str:\n",
    "    if hour <= 5:\n",
    "        return \"morning\"\n",
    "    elif hour > 5 and hour <= 11:\n",
    "        return \"beforenoon\"\n",
    "    elif hour > 11 and hour <= 17:\n",
    "        return \"afternoon\"\n",
    "    elif hour > 17 and hour <= 24:\n",
    "        return \"evening\"\n",
    "    \n",
    "def set_threshold() -> float:\n",
    "    return int(input(\"Enter the likelihood in percentages...\"))/100\n",
    "\n",
    "    \n",
    "def is_suspicious_tail(log_dict: dict) -> bool:\n",
    "    hour = log_dict.get(\"timestamp\").hour\n",
    "    period = time_of_day(hour)\n",
    "    host = log_dict.get(\"hostname\")\n",
    "    app = log_dict.get(\"appname\")\n",
    "    threshold = 0.1\n",
    "#     threshold = set_threshold()\n",
    "\n",
    "    #The probability below which it would be suspicious\n",
    "    print(threshold) \n",
    "    \n",
    "    #The probability of this host calling this app at this time\n",
    "    print(d[(host, app)][period]) \n",
    "    \n",
    "    return d[(host, app)][period] < threshold\n",
    "    \n",
    "    \n",
    "\n",
    "# some_d = {'timestamp': datetime.datetime(2023, 7, 31, 17, 51, 23), 'hostname': 'istvan-HP-ProBook-650-G1', 'appname': 'avahi-daemon', 'pid': '648', 'message': 'Interface enp0s25.IPv6 no longer relevant for mDNS.'}\n",
    "# print(is_suspicious_tail(some_d))\n",
    "# log_tailer()\n",
    "x = threading.Thread(target=log_tailer, daemon = True)\n",
    "x.start()\n",
    "# time.sleep(10)\n",
    "# sys.exit()"
   ]
  },
  {
   "cell_type": "code",
   "execution_count": 24,
   "id": "cac66302",
   "metadata": {
    "scrolled": false
   },
   "outputs": [
    {
     "ename": "SystemExit",
     "evalue": "",
     "output_type": "error",
     "traceback": [
      "An exception has occurred, use %tb to see the full traceback.\n",
      "\u001b[0;31mSystemExit\u001b[0m\n"
     ]
    },
    {
     "name": "stderr",
     "output_type": "stream",
     "text": [
      "/home/istvan/.local/lib/python3.10/site-packages/IPython/core/interactiveshell.py:3516: UserWarning: To exit: use 'exit', 'quit', or Ctrl-D.\n",
      "  warn(\"To exit: use 'exit', 'quit', or Ctrl-D.\", stacklevel=1)\n"
     ]
    }
   ],
   "source": [
    "import sys\n",
    "\n",
    "sys.exit()\n"
   ]
  },
  {
   "cell_type": "code",
   "execution_count": null,
   "id": "f67900d5",
   "metadata": {},
   "outputs": [],
   "source": []
  },
  {
   "cell_type": "code",
   "execution_count": null,
   "id": "78dd1007",
   "metadata": {},
   "outputs": [],
   "source": [
    "d[(\"istvan-HP-ProBook-650-G1\", \"systemd-modules-load\")]"
   ]
  },
  {
   "cell_type": "code",
   "execution_count": null,
   "id": "77ca9dd9",
   "metadata": {},
   "outputs": [],
   "source": [
    "pd.Series(d).rename_axis([\"Hostname\", \"Appname\"]).reset_index(name=\"Times\")"
   ]
  },
  {
   "cell_type": "code",
   "execution_count": null,
   "id": "91fa6115",
   "metadata": {},
   "outputs": [],
   "source": [
    "df[\"norm_counts\"] = (df[\"Counts\"]/len(df.index))"
   ]
  },
  {
   "cell_type": "code",
   "execution_count": null,
   "id": "76414850",
   "metadata": {},
   "outputs": [],
   "source": [
    "df.head()"
   ]
  },
  {
   "cell_type": "code",
   "execution_count": null,
   "id": "59a2a7f5",
   "metadata": {},
   "outputs": [],
   "source": [
    "len(df.index)"
   ]
  },
  {
   "cell_type": "code",
   "execution_count": null,
   "id": "d9509752",
   "metadata": {},
   "outputs": [],
   "source": [
    "df.groupby([\"hostname\", \"appname\"])[\"norm_counts\"].sum()"
   ]
  },
  {
   "cell_type": "code",
   "execution_count": null,
   "id": "50d08ee5",
   "metadata": {
    "scrolled": true
   },
   "outputs": [],
   "source": [
    "fig, ax = plt.subplots()\n",
    "df[\"timestamp\"].astype(np.int64).plot.hist(ax=ax)\n",
    "labels = ax.get_xticks().tolist()\n",
    "labels = pd.to_datetime(labels)\n",
    "ax.set_xticklabels(labels, rotation=90)"
   ]
  },
  {
   "cell_type": "code",
   "execution_count": null,
   "id": "6dce5a5d",
   "metadata": {},
   "outputs": [],
   "source": [
    "df.groupby([\"appname\", \"hostname\"]).sum()"
   ]
  },
  {
   "cell_type": "code",
   "execution_count": null,
   "id": "f400b0bc",
   "metadata": {},
   "outputs": [],
   "source": [
    "fig, ax = plt.subplots()\n",
    "my_array = df.loc[(df[\"appname\"] == \"NetworkManager\") & (df[\"hostname\"] ==\"istvan-HP-ProBook-650-G1\"), \"ttime\"]\n",
    "# sns.histplot(data=df,x=\"timestamp\" )\n",
    "# ax.plot(df[\"timestamp\"], df[\"Counts\"])\n",
    "n, bins, rectangles = ax.hist(my_array, bins=24, density=True)\n",
    "fmt = mdates.DateFormatter('%H:%M')\n",
    "ax.xaxis.set_major_formatter(fmt)\n",
    "# ax.set_xticks([i for i in range(24)])\n",
    "# ax.set_xticklabels(df[\"time\"], rotation=30, ha='right')\n",
    "# ax.set_ylim([0, 5])\n",
    "fig.tight_layout()"
   ]
  },
  {
   "cell_type": "code",
   "execution_count": null,
   "id": "d0dfcdff",
   "metadata": {},
   "outputs": [],
   "source": [
    "fig, ax = plt.subplots(figsize=(8, 5))  \n",
    "sns.displot(my_array, bins=24, kde=True)\n",
    "fmt = mdates.DateFormatter('%H:%M')\n",
    "ax.xaxis.set_major_formatter(fmt)"
   ]
  },
  {
   "cell_type": "code",
   "execution_count": null,
   "id": "bf70f1f8",
   "metadata": {},
   "outputs": [
    {
     "name": "stdout",
     "output_type": "stream",
     "text": [
      "0.1\n",
      "0.40122008446738616\n",
      "{'timestamp': datetime.datetime(2023, 7, 31, 19, 8, 22), 'hostname': 'istvan-HP-ProBook-650-G1', 'appname': 'NetworkManager', 'pid': '1004', 'message': \"<info>  [1690826902.9971] policy: auto-activating connection 'Wired connection 1' (1974db8b-74b7-3411-860f-cca3614974c5)\"}\n",
      "0.1\n",
      "0.40122008446738616\n",
      "{'timestamp': datetime.datetime(2023, 7, 31, 19, 8, 23), 'hostname': 'istvan-HP-ProBook-650-G1', 'appname': 'NetworkManager', 'pid': '1004', 'message': \"<info>  [1690826902.9996] device (enp0s25): Activation: starting connection 'Wired connection 1' (1974db8b-74b7-3411-860f-cca3614974c5)\"}\n",
      "0.1\n",
      "0.40122008446738616\n",
      "{'timestamp': datetime.datetime(2023, 7, 31, 19, 8, 23), 'hostname': 'istvan-HP-ProBook-650-G1', 'appname': 'NetworkManager', 'pid': '1004', 'message': \"<info>  [1690826903.0011] device (enp0s25): state change: disconnected -> prepare (reason 'none', sys-iface-state: 'managed')\"}\n",
      "0.1\n",
      "0.40122008446738616\n",
      "{'timestamp': datetime.datetime(2023, 7, 31, 19, 8, 23), 'hostname': 'istvan-HP-ProBook-650-G1', 'appname': 'NetworkManager', 'pid': '1004', 'message': \"<info>  [1690826903.0023] device (enp0s25): state change: prepare -> config (reason 'none', sys-iface-state: 'managed')\"}\n",
      "0.1\n",
      "0.40122008446738616\n",
      "{'timestamp': datetime.datetime(2023, 7, 31, 19, 8, 23), 'hostname': 'istvan-HP-ProBook-650-G1', 'appname': 'NetworkManager', 'pid': '1004', 'message': \"<info>  [1690826903.0328] device (enp0s25): state change: config -> ip-config (reason 'none', sys-iface-state: 'managed')\"}\n",
      "0.1\n",
      "0.40122008446738616\n",
      "{'timestamp': datetime.datetime(2023, 7, 31, 19, 8, 23), 'hostname': 'istvan-HP-ProBook-650-G1', 'appname': 'NetworkManager', 'pid': '1004', 'message': '<info>  [1690826903.0345] dhcp4 (enp0s25): activation: beginning transaction (timeout in 45 seconds)'}\n",
      "0.1\n",
      "0.3663594470046083\n",
      "{'timestamp': datetime.datetime(2023, 7, 31, 19, 8, 23), 'hostname': 'istvan-HP-ProBook-650-G1', 'appname': 'avahi-daemon', 'pid': '648', 'message': 'Joining mDNS multicast group on interface enp0s25.IPv6 with address fe80::46ba:6d84:2e8a:d9a.'}\n",
      "0.1\n",
      "0.3663594470046083\n",
      "{'timestamp': datetime.datetime(2023, 7, 31, 19, 8, 23), 'hostname': 'istvan-HP-ProBook-650-G1', 'appname': 'avahi-daemon', 'pid': '648', 'message': 'New relevant interface enp0s25.IPv6 for mDNS.'}\n",
      "0.1\n",
      "0.3663594470046083\n",
      "{'timestamp': datetime.datetime(2023, 7, 31, 19, 8, 23), 'hostname': 'istvan-HP-ProBook-650-G1', 'appname': 'avahi-daemon', 'pid': '648', 'message': 'Registering new address record for fe80::46ba:6d84:2e8a:d9a on enp0s25.*.'}\n"
     ]
    }
   ],
   "source": [
    "import matplotlib.pyplot as plt\n",
    "import datetime\n",
    "import matplotlib.dates as mdates\n",
    "\n",
    "goals = [0, 1, 2, 3, 4, 5, 6]\n",
    "times = [\n",
    "    datetime.time(18, 0), datetime.time(18, 18), datetime.time(18, 28),\n",
    "    datetime.time(18, 38), datetime.time(19, 5), datetime.time(19, 11),\n",
    "    datetime.time(19, 15)\n",
    "]\n",
    "\n",
    "ax = plt.axes()\n",
    "# Convert datetime.time objects into datetime.datetime objects by adding a date\n",
    "# to the time\n",
    "datetimes = [datetime.datetime.combine(datetime.date.today(), t) for t in times]\n",
    "ax.plot(datetimes, goals)\n",
    "ax.set_title('2018 FIFA World Cup Final')\n",
    "ax.set_ylabel('Goals')\n",
    "ax.set_xlabel('Time of Day (MSK; UTC+3)')\n",
    "# Re-format the x-axis\n",
    "fmt = mdates.DateFormatter('%H:%M')\n",
    "ax.xaxis.set_major_formatter(fmt)\n",
    "\n",
    "plt.show()"
   ]
  }
 ],
 "metadata": {
  "kernelspec": {
   "display_name": "Python 3 (ipykernel)",
   "language": "python",
   "name": "python3"
  },
  "language_info": {
   "codemirror_mode": {
    "name": "ipython",
    "version": 3
   },
   "file_extension": ".py",
   "mimetype": "text/x-python",
   "name": "python",
   "nbconvert_exporter": "python",
   "pygments_lexer": "ipython3",
   "version": "3.10.12"
  }
 },
 "nbformat": 4,
 "nbformat_minor": 5
}
